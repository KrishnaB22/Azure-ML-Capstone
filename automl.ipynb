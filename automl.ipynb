{
 "cells": [
  {
   "cell_type": "markdown",
   "metadata": {},
   "source": [
    "# Automated ML\n",
    "\n",
    "TODO: Import Dependencies. In the cell below, import all the dependencies that you will need to complete the project."
   ]
  },
  {
   "cell_type": "code",
   "execution_count": 2,
   "metadata": {
    "gather": {
     "logged": 1598423888013
    },
    "jupyter": {
     "outputs_hidden": false,
     "source_hidden": false
    },
    "nteract": {
     "transient": {
      "deleting": false
     }
    }
   },
   "outputs": [],
   "source": [
    "from azureml.core import Workspace, Experiment\n",
    "from azureml.data.dataset_factory import TabularDatasetFactory\n",
    "from azureml.train.automl import AutoMLConfig"
   ]
  },
  {
   "cell_type": "markdown",
   "metadata": {},
   "source": [
    "## Dataset\n",
    "\n",
    "### Overview\n",
    "TODO: In this markdown cell, give an overview of the dataset you are using. Also mention the task you will be performing.\n",
    "\n",
    "\n",
    "TODO: Get data. In the cell below, write code to access the data you will be using in this project. Remember that the dataset needs to be external."
   ]
  },
  {
   "cell_type": "code",
   "execution_count": 3,
   "metadata": {
    "gather": {
     "logged": 1598423890461
    },
    "jupyter": {
     "outputs_hidden": false,
     "source_hidden": false
    },
    "nteract": {
     "transient": {
      "deleting": false
     }
    }
   },
   "outputs": [],
   "source": [
    "ws = Workspace.from_config()\n",
    "\n",
    "# choose a name for experiment\n",
    "experiment_name = 'mlexpauto'\n",
    "\n",
    "experiment=Experiment(ws, experiment_name)"
   ]
  },
  {
   "cell_type": "markdown",
   "metadata": {},
   "source": [
    "## Creating Compute"
   ]
  },
  {
   "cell_type": "code",
   "execution_count": 4,
   "metadata": {},
   "outputs": [
    {
     "name": "stdout",
     "output_type": "stream",
     "text": [
      "Found existing cluster, use it.\n"
     ]
    }
   ],
   "source": [
    "from azureml.core.compute import ComputeTarget, AmlCompute\n",
    "\n",
    "amlcompute_cluster_name = \"capprocompute\"\n",
    "\n",
    "# Verify that cluster does not exist already\n",
    "try:\n",
    "    aml_compute = ComputeTarget(workspace=ws, name=amlcompute_cluster_name)\n",
    "    print('Found existing cluster, use it.')\n",
    "except ComputeTargetException:\n",
    "    compute_config = AmlCompute.provisioning_configuration(vm_size='STANDARD_D2_V2',\n",
    "                                                           max_nodes=4)\n",
    "    aml_compute = ComputeTarget.create(ws, amlcompute_cluster_name, compute_config)"
   ]
  },
  {
   "cell_type": "markdown",
   "metadata": {},
   "source": [
    "## AutoML Configuration\n",
    "\n",
    "TODO: Explain why you chose the automl settings and cofiguration you used below."
   ]
  },
  {
   "cell_type": "code",
   "execution_count": 5,
   "metadata": {},
   "outputs": [],
   "source": [
    "factory = TabularDatasetFactory()\n",
    "url = 'https://raw.githubusercontent.com/KrishnaB22/Azure-ML-Capstone/main/dataset/heart.csv'\n",
    "trainds = factory.from_delimited_files(url)"
   ]
  },
  {
   "cell_type": "code",
   "execution_count": 6,
   "metadata": {
    "gather": {
     "logged": 1598429217746
    },
    "jupyter": {
     "outputs_hidden": false,
     "source_hidden": false
    },
    "nteract": {
     "transient": {
      "deleting": false
     }
    }
   },
   "outputs": [],
   "source": [
    "# TODO: Put your automl settings here\n",
    "automl_settings = {\n",
    "    \"enable_early_stopping\" : True,\n",
    "    \"primary_metric\": 'accuracy',\n",
    "    \"featurization\": 'auto',\n",
    "}\n",
    "\n",
    "# TODO: Put your automl config here\n",
    "automl_config = AutoMLConfig(experiment_timeout_minutes=20,\n",
    "                             task = 'classification',\n",
    "                             compute_target=aml_compute,\n",
    "                             experiment_exit_score = 0.9984,\n",
    "                             blocked_models = ['KNN','LinearSVM'],\n",
    "                             enable_onnx_compatible_models=True,\n",
    "                             training_data = trainds,\n",
    "                             label_column_name = 'target',\n",
    "                             n_cross_validations=5,\n",
    "                             **automl_settings\n",
    "                            )"
   ]
  },
  {
   "cell_type": "code",
   "execution_count": 7,
   "metadata": {
    "gather": {
     "logged": 1598431107951
    },
    "jupyter": {
     "outputs_hidden": false,
     "source_hidden": false
    },
    "nteract": {
     "transient": {
      "deleting": false
     }
    }
   },
   "outputs": [
    {
     "name": "stdout",
     "output_type": "stream",
     "text": [
      "Running on remote.\n"
     ]
    }
   ],
   "source": [
    "# TODO: Submit your experiment\n",
    "remote_run = experiment.submit(automl_config)"
   ]
  },
  {
   "cell_type": "markdown",
   "metadata": {},
   "source": [
    "## Run Details\n",
    "\n",
    "OPTIONAL: Write about the different models trained and their performance. Why do you think some models did better than others?\n",
    "\n",
    "TODO: In the cell below, use the `RunDetails` widget to show the different experiments."
   ]
  },
  {
   "cell_type": "code",
   "execution_count": 8,
   "metadata": {
    "gather": {
     "logged": 1598431121770
    },
    "jupyter": {
     "outputs_hidden": false,
     "source_hidden": false
    },
    "nteract": {
     "transient": {
      "deleting": false
     }
    }
   },
   "outputs": [
    {
     "data": {
      "application/vnd.jupyter.widget-view+json": {
       "model_id": "6324cd7e825b410ba1360b078ea7b572",
       "version_major": 2,
       "version_minor": 0
      },
      "text/plain": [
       "_AutoMLWidget(widget_settings={'childWidgetDisplay': 'popup', 'send_telemetry': False, 'log_level': 'INFO', 's…"
      ]
     },
     "metadata": {},
     "output_type": "display_data"
    },
    {
     "data": {
      "application/aml.mini.widget.v1": "{\"status\": \"Completed\", \"workbench_run_details_uri\": \"https://ml.azure.com/experiments/mlexpauto/runs/AutoML_0c5b7c54-ae9a-4cc2-a643-7039cb5a0b02?wsid=/subscriptions/6b4af8be-9931-443e-90f6-c4c34a1f9737/resourcegroups/aml-quickstarts-132485/workspaces/quick-starts-ws-132485\", \"run_id\": \"AutoML_0c5b7c54-ae9a-4cc2-a643-7039cb5a0b02\", \"run_properties\": {\"run_id\": \"AutoML_0c5b7c54-ae9a-4cc2-a643-7039cb5a0b02\", \"created_utc\": \"2020-12-30T13:41:12.214194Z\", \"properties\": {\"num_iterations\": \"1000\", \"training_type\": \"TrainFull\", \"acquisition_function\": \"EI\", \"primary_metric\": \"accuracy\", \"train_split\": \"0\", \"acquisition_parameter\": \"0\", \"num_cross_validation\": \"5\", \"target\": \"capprocompute\", \"AMLSettingsJsonString\": \"{\\\"path\\\":null,\\\"name\\\":\\\"mlexpauto\\\",\\\"subscription_id\\\":\\\"6b4af8be-9931-443e-90f6-c4c34a1f9737\\\",\\\"resource_group\\\":\\\"aml-quickstarts-132485\\\",\\\"workspace_name\\\":\\\"quick-starts-ws-132485\\\",\\\"region\\\":\\\"southcentralus\\\",\\\"compute_target\\\":\\\"capprocompute\\\",\\\"spark_service\\\":null,\\\"azure_service\\\":\\\"remote\\\",\\\"many_models\\\":false,\\\"pipeline_fetch_max_batch_size\\\":1,\\\"iterations\\\":1000,\\\"primary_metric\\\":\\\"accuracy\\\",\\\"task_type\\\":\\\"classification\\\",\\\"data_script\\\":null,\\\"validation_size\\\":0.0,\\\"n_cross_validations\\\":5,\\\"y_min\\\":null,\\\"y_max\\\":null,\\\"num_classes\\\":null,\\\"featurization\\\":\\\"auto\\\",\\\"_ignore_package_version_incompatibilities\\\":false,\\\"is_timeseries\\\":false,\\\"max_cores_per_iteration\\\":1,\\\"max_concurrent_iterations\\\":1,\\\"iteration_timeout_minutes\\\":null,\\\"mem_in_mb\\\":null,\\\"enforce_time_on_windows\\\":false,\\\"experiment_timeout_minutes\\\":20,\\\"experiment_exit_score\\\":0.9984,\\\"whitelist_models\\\":null,\\\"blacklist_algos\\\":[\\\"KNN\\\",\\\"LinearSVM\\\",\\\"TensorFlowLinearClassifier\\\",\\\"TensorFlowDNN\\\"],\\\"supported_models\\\":[\\\"ExtremeRandomTrees\\\",\\\"TensorFlowLinearClassifier\\\",\\\"KNN\\\",\\\"LogisticRegression\\\",\\\"XGBoostClassifier\\\",\\\"RandomForest\\\",\\\"GradientBoosting\\\",\\\"LinearSVM\\\",\\\"BernoulliNaiveBayes\\\",\\\"LightGBM\\\",\\\"SVM\\\",\\\"DecisionTree\\\",\\\"TensorFlowDNN\\\",\\\"MultinomialNaiveBayes\\\",\\\"AveragedPerceptronClassifier\\\",\\\"SGD\\\"],\\\"auto_blacklist\\\":true,\\\"blacklist_samples_reached\\\":false,\\\"exclude_nan_labels\\\":true,\\\"verbosity\\\":20,\\\"_debug_log\\\":\\\"azureml_automl.log\\\",\\\"show_warnings\\\":false,\\\"model_explainability\\\":true,\\\"service_url\\\":null,\\\"sdk_url\\\":null,\\\"sdk_packages\\\":null,\\\"enable_onnx_compatible_models\\\":true,\\\"enable_split_onnx_featurizer_estimator_models\\\":false,\\\"vm_type\\\":\\\"STANDARD_DS3_V2\\\",\\\"telemetry_verbosity\\\":20,\\\"send_telemetry\\\":true,\\\"enable_dnn\\\":false,\\\"scenario\\\":\\\"SDK-1.13.0\\\",\\\"environment_label\\\":null,\\\"force_text_dnn\\\":false,\\\"enable_feature_sweeping\\\":false,\\\"enable_early_stopping\\\":true,\\\"early_stopping_n_iters\\\":10,\\\"metrics\\\":null,\\\"enable_ensembling\\\":true,\\\"enable_stack_ensembling\\\":false,\\\"ensemble_iterations\\\":15,\\\"enable_tf\\\":false,\\\"enable_subsampling\\\":null,\\\"subsample_seed\\\":null,\\\"enable_nimbusml\\\":false,\\\"enable_streaming\\\":false,\\\"force_streaming\\\":false,\\\"track_child_runs\\\":true,\\\"allowed_private_models\\\":[],\\\"label_column_name\\\":\\\"target\\\",\\\"weight_column_name\\\":null,\\\"cv_split_column_names\\\":null,\\\"enable_local_managed\\\":false,\\\"_local_managed_run_id\\\":null,\\\"cost_mode\\\":1,\\\"lag_length\\\":0,\\\"metric_operation\\\":\\\"maximize\\\",\\\"preprocess\\\":true}\", \"DataPrepJsonString\": \"{\\\\\\\"training_data\\\\\\\": \\\\\\\"{\\\\\\\\\\\\\\\"blocks\\\\\\\\\\\\\\\": [{\\\\\\\\\\\\\\\"id\\\\\\\\\\\\\\\": \\\\\\\\\\\\\\\"99f611f6-046a-4042-93cc-b5e25511b7c4\\\\\\\\\\\\\\\", \\\\\\\\\\\\\\\"type\\\\\\\\\\\\\\\": \\\\\\\\\\\\\\\"Microsoft.DPrep.GetFilesBlock\\\\\\\\\\\\\\\", \\\\\\\\\\\\\\\"arguments\\\\\\\\\\\\\\\": {\\\\\\\\\\\\\\\"isArchive\\\\\\\\\\\\\\\": false, \\\\\\\\\\\\\\\"path\\\\\\\\\\\\\\\": {\\\\\\\\\\\\\\\"target\\\\\\\\\\\\\\\": 4, \\\\\\\\\\\\\\\"resourceDetails\\\\\\\\\\\\\\\": [{\\\\\\\\\\\\\\\"path\\\\\\\\\\\\\\\": \\\\\\\\\\\\\\\"https://raw.githubusercontent.com/KrishnaB22/Azure-ML-Capstone/main/dataset/heart.csv\\\\\\\\\\\\\\\"}]}}, \\\\\\\\\\\\\\\"localData\\\\\\\\\\\\\\\": {}, \\\\\\\\\\\\\\\"isEnabled\\\\\\\\\\\\\\\": true, \\\\\\\\\\\\\\\"name\\\\\\\\\\\\\\\": null, \\\\\\\\\\\\\\\"annotation\\\\\\\\\\\\\\\": null}, {\\\\\\\\\\\\\\\"id\\\\\\\\\\\\\\\": \\\\\\\\\\\\\\\"3b823332-1da9-4bd8-af6e-39e30f9b3932\\\\\\\\\\\\\\\", \\\\\\\\\\\\\\\"type\\\\\\\\\\\\\\\": \\\\\\\\\\\\\\\"Microsoft.DPrep.ParseDelimitedBlock\\\\\\\\\\\\\\\", \\\\\\\\\\\\\\\"arguments\\\\\\\\\\\\\\\": {\\\\\\\\\\\\\\\"columnHeadersMode\\\\\\\\\\\\\\\": 3, \\\\\\\\\\\\\\\"fileEncoding\\\\\\\\\\\\\\\": 0, \\\\\\\\\\\\\\\"handleQuotedLineBreaks\\\\\\\\\\\\\\\": false, \\\\\\\\\\\\\\\"preview\\\\\\\\\\\\\\\": false, \\\\\\\\\\\\\\\"separator\\\\\\\\\\\\\\\": \\\\\\\\\\\\\\\",\\\\\\\\\\\\\\\", \\\\\\\\\\\\\\\"skipRows\\\\\\\\\\\\\\\": 0, \\\\\\\\\\\\\\\"skipRowsMode\\\\\\\\\\\\\\\": 0}, \\\\\\\\\\\\\\\"localData\\\\\\\\\\\\\\\": {}, \\\\\\\\\\\\\\\"isEnabled\\\\\\\\\\\\\\\": true, \\\\\\\\\\\\\\\"name\\\\\\\\\\\\\\\": null, \\\\\\\\\\\\\\\"annotation\\\\\\\\\\\\\\\": null}, {\\\\\\\\\\\\\\\"id\\\\\\\\\\\\\\\": \\\\\\\\\\\\\\\"9f722026-01f1-4562-8e70-96c298c5b3d1\\\\\\\\\\\\\\\", \\\\\\\\\\\\\\\"type\\\\\\\\\\\\\\\": \\\\\\\\\\\\\\\"Microsoft.DPrep.DropColumnsBlock\\\\\\\\\\\\\\\", \\\\\\\\\\\\\\\"arguments\\\\\\\\\\\\\\\": {\\\\\\\\\\\\\\\"columns\\\\\\\\\\\\\\\": {\\\\\\\\\\\\\\\"type\\\\\\\\\\\\\\\": 0, \\\\\\\\\\\\\\\"details\\\\\\\\\\\\\\\": {\\\\\\\\\\\\\\\"selectedColumns\\\\\\\\\\\\\\\": [\\\\\\\\\\\\\\\"Path\\\\\\\\\\\\\\\"]}}}, \\\\\\\\\\\\\\\"localData\\\\\\\\\\\\\\\": {}, \\\\\\\\\\\\\\\"isEnabled\\\\\\\\\\\\\\\": true, \\\\\\\\\\\\\\\"name\\\\\\\\\\\\\\\": null, \\\\\\\\\\\\\\\"annotation\\\\\\\\\\\\\\\": null}, {\\\\\\\\\\\\\\\"id\\\\\\\\\\\\\\\": \\\\\\\\\\\\\\\"c300fff8-5c4a-4dc5-b09e-8140e8a6c643\\\\\\\\\\\\\\\", \\\\\\\\\\\\\\\"type\\\\\\\\\\\\\\\": \\\\\\\\\\\\\\\"Microsoft.DPrep.SetColumnTypesBlock\\\\\\\\\\\\\\\", \\\\\\\\\\\\\\\"arguments\\\\\\\\\\\\\\\": {\\\\\\\\\\\\\\\"columnConversion\\\\\\\\\\\\\\\": [{\\\\\\\\\\\\\\\"column\\\\\\\\\\\\\\\": {\\\\\\\\\\\\\\\"type\\\\\\\\\\\\\\\": 2, \\\\\\\\\\\\\\\"details\\\\\\\\\\\\\\\": {\\\\\\\\\\\\\\\"selectedColumn\\\\\\\\\\\\\\\": \\\\\\\\\\\\\\\"age\\\\\\\\\\\\\\\"}}, \\\\\\\\\\\\\\\"typeProperty\\\\\\\\\\\\\\\": 2}, {\\\\\\\\\\\\\\\"column\\\\\\\\\\\\\\\": {\\\\\\\\\\\\\\\"type\\\\\\\\\\\\\\\": 2, \\\\\\\\\\\\\\\"details\\\\\\\\\\\\\\\": {\\\\\\\\\\\\\\\"selectedColumn\\\\\\\\\\\\\\\": \\\\\\\\\\\\\\\"sex\\\\\\\\\\\\\\\"}}, \\\\\\\\\\\\\\\"typeProperty\\\\\\\\\\\\\\\": 2}, {\\\\\\\\\\\\\\\"column\\\\\\\\\\\\\\\": {\\\\\\\\\\\\\\\"type\\\\\\\\\\\\\\\": 2, \\\\\\\\\\\\\\\"details\\\\\\\\\\\\\\\": {\\\\\\\\\\\\\\\"selectedColumn\\\\\\\\\\\\\\\": \\\\\\\\\\\\\\\"cp\\\\\\\\\\\\\\\"}}, \\\\\\\\\\\\\\\"typeProperty\\\\\\\\\\\\\\\": 2}, {\\\\\\\\\\\\\\\"column\\\\\\\\\\\\\\\": {\\\\\\\\\\\\\\\"type\\\\\\\\\\\\\\\": 2, \\\\\\\\\\\\\\\"details\\\\\\\\\\\\\\\": {\\\\\\\\\\\\\\\"selectedColumn\\\\\\\\\\\\\\\": \\\\\\\\\\\\\\\"trestbps\\\\\\\\\\\\\\\"}}, \\\\\\\\\\\\\\\"typeProperty\\\\\\\\\\\\\\\": 2}, {\\\\\\\\\\\\\\\"column\\\\\\\\\\\\\\\": {\\\\\\\\\\\\\\\"type\\\\\\\\\\\\\\\": 2, \\\\\\\\\\\\\\\"details\\\\\\\\\\\\\\\": {\\\\\\\\\\\\\\\"selectedColumn\\\\\\\\\\\\\\\": \\\\\\\\\\\\\\\"chol\\\\\\\\\\\\\\\"}}, \\\\\\\\\\\\\\\"typeProperty\\\\\\\\\\\\\\\": 2}, {\\\\\\\\\\\\\\\"column\\\\\\\\\\\\\\\": {\\\\\\\\\\\\\\\"type\\\\\\\\\\\\\\\": 2, \\\\\\\\\\\\\\\"details\\\\\\\\\\\\\\\": {\\\\\\\\\\\\\\\"selectedColumn\\\\\\\\\\\\\\\": \\\\\\\\\\\\\\\"fbs\\\\\\\\\\\\\\\"}}, \\\\\\\\\\\\\\\"typeProperty\\\\\\\\\\\\\\\": 2}, {\\\\\\\\\\\\\\\"column\\\\\\\\\\\\\\\": {\\\\\\\\\\\\\\\"type\\\\\\\\\\\\\\\": 2, \\\\\\\\\\\\\\\"details\\\\\\\\\\\\\\\": {\\\\\\\\\\\\\\\"selectedColumn\\\\\\\\\\\\\\\": \\\\\\\\\\\\\\\"restecg\\\\\\\\\\\\\\\"}}, \\\\\\\\\\\\\\\"typeProperty\\\\\\\\\\\\\\\": 2}, {\\\\\\\\\\\\\\\"column\\\\\\\\\\\\\\\": {\\\\\\\\\\\\\\\"type\\\\\\\\\\\\\\\": 2, \\\\\\\\\\\\\\\"details\\\\\\\\\\\\\\\": {\\\\\\\\\\\\\\\"selectedColumn\\\\\\\\\\\\\\\": \\\\\\\\\\\\\\\"thalach\\\\\\\\\\\\\\\"}}, \\\\\\\\\\\\\\\"typeProperty\\\\\\\\\\\\\\\": 2}, {\\\\\\\\\\\\\\\"column\\\\\\\\\\\\\\\": {\\\\\\\\\\\\\\\"type\\\\\\\\\\\\\\\": 2, \\\\\\\\\\\\\\\"details\\\\\\\\\\\\\\\": {\\\\\\\\\\\\\\\"selectedColumn\\\\\\\\\\\\\\\": \\\\\\\\\\\\\\\"exang\\\\\\\\\\\\\\\"}}, \\\\\\\\\\\\\\\"typeProperty\\\\\\\\\\\\\\\": 2}, {\\\\\\\\\\\\\\\"column\\\\\\\\\\\\\\\": {\\\\\\\\\\\\\\\"type\\\\\\\\\\\\\\\": 2, \\\\\\\\\\\\\\\"details\\\\\\\\\\\\\\\": {\\\\\\\\\\\\\\\"selectedColumn\\\\\\\\\\\\\\\": \\\\\\\\\\\\\\\"oldpeak\\\\\\\\\\\\\\\"}}, \\\\\\\\\\\\\\\"typeProperty\\\\\\\\\\\\\\\": 3}, {\\\\\\\\\\\\\\\"column\\\\\\\\\\\\\\\": {\\\\\\\\\\\\\\\"type\\\\\\\\\\\\\\\": 2, \\\\\\\\\\\\\\\"details\\\\\\\\\\\\\\\": {\\\\\\\\\\\\\\\"selectedColumn\\\\\\\\\\\\\\\": \\\\\\\\\\\\\\\"slope\\\\\\\\\\\\\\\"}}, \\\\\\\\\\\\\\\"typeProperty\\\\\\\\\\\\\\\": 2}, {\\\\\\\\\\\\\\\"column\\\\\\\\\\\\\\\": {\\\\\\\\\\\\\\\"type\\\\\\\\\\\\\\\": 2, \\\\\\\\\\\\\\\"details\\\\\\\\\\\\\\\": {\\\\\\\\\\\\\\\"selectedColumn\\\\\\\\\\\\\\\": \\\\\\\\\\\\\\\"ca\\\\\\\\\\\\\\\"}}, \\\\\\\\\\\\\\\"typeProperty\\\\\\\\\\\\\\\": 2}, {\\\\\\\\\\\\\\\"column\\\\\\\\\\\\\\\": {\\\\\\\\\\\\\\\"type\\\\\\\\\\\\\\\": 2, \\\\\\\\\\\\\\\"details\\\\\\\\\\\\\\\": {\\\\\\\\\\\\\\\"selectedColumn\\\\\\\\\\\\\\\": \\\\\\\\\\\\\\\"thal\\\\\\\\\\\\\\\"}}, \\\\\\\\\\\\\\\"typeProperty\\\\\\\\\\\\\\\": 2}, {\\\\\\\\\\\\\\\"column\\\\\\\\\\\\\\\": {\\\\\\\\\\\\\\\"type\\\\\\\\\\\\\\\": 2, \\\\\\\\\\\\\\\"details\\\\\\\\\\\\\\\": {\\\\\\\\\\\\\\\"selectedColumn\\\\\\\\\\\\\\\": \\\\\\\\\\\\\\\"target\\\\\\\\\\\\\\\"}}, \\\\\\\\\\\\\\\"typeProperty\\\\\\\\\\\\\\\": 2}]}, \\\\\\\\\\\\\\\"localData\\\\\\\\\\\\\\\": {}, \\\\\\\\\\\\\\\"isEnabled\\\\\\\\\\\\\\\": true, \\\\\\\\\\\\\\\"name\\\\\\\\\\\\\\\": null, \\\\\\\\\\\\\\\"annotation\\\\\\\\\\\\\\\": null}], \\\\\\\\\\\\\\\"inspectors\\\\\\\\\\\\\\\": [], \\\\\\\\\\\\\\\"meta\\\\\\\\\\\\\\\": {\\\\\\\\\\\\\\\"savedDatasetId\\\\\\\\\\\\\\\": \\\\\\\\\\\\\\\"60a7fc3e-9b1e-4d1b-8ed0-6d4074614ff8\\\\\\\\\\\\\\\", \\\\\\\\\\\\\\\"datasetType\\\\\\\\\\\\\\\": \\\\\\\\\\\\\\\"tabular\\\\\\\\\\\\\\\", \\\\\\\\\\\\\\\"subscriptionId\\\\\\\\\\\\\\\": \\\\\\\\\\\\\\\"6b4af8be-9931-443e-90f6-c4c34a1f9737\\\\\\\\\\\\\\\", \\\\\\\\\\\\\\\"workspaceId\\\\\\\\\\\\\\\": \\\\\\\\\\\\\\\"7269878d-eed7-4dda-ba2c-f3c044137e3d\\\\\\\\\\\\\\\", \\\\\\\\\\\\\\\"workspaceLocation\\\\\\\\\\\\\\\": \\\\\\\\\\\\\\\"southcentralus\\\\\\\\\\\\\\\"}}\\\\\\\", \\\\\\\"activities\\\\\\\": 0}\", \"EnableSubsampling\": null, \"runTemplate\": \"AutoML\", \"azureml.runsource\": \"automl\", \"display_task_type\": \"classification\", \"dependencies_versions\": \"{\\\"azureml-widgets\\\": \\\"1.19.0\\\", \\\"azureml-train\\\": \\\"1.19.0\\\", \\\"azureml-train-restclients-hyperdrive\\\": \\\"1.19.0\\\", \\\"azureml-train-core\\\": \\\"1.19.0\\\", \\\"azureml-train-automl\\\": \\\"1.19.0\\\", \\\"azureml-train-automl-runtime\\\": \\\"1.19.0\\\", \\\"azureml-train-automl-client\\\": \\\"1.19.0\\\", \\\"azureml-tensorboard\\\": \\\"1.19.0\\\", \\\"azureml-telemetry\\\": \\\"1.19.0\\\", \\\"azureml-sdk\\\": \\\"1.19.0\\\", \\\"azureml-samples\\\": \\\"0+unknown\\\", \\\"azureml-pipeline\\\": \\\"1.19.0\\\", \\\"azureml-pipeline-steps\\\": \\\"1.19.0\\\", \\\"azureml-pipeline-core\\\": \\\"1.19.0\\\", \\\"azureml-opendatasets\\\": \\\"1.19.0\\\", \\\"azureml-model-management-sdk\\\": \\\"1.0.1b6.post1\\\", \\\"azureml-mlflow\\\": \\\"1.19.0\\\", \\\"azureml-interpret\\\": \\\"1.19.0\\\", \\\"azureml-explain-model\\\": \\\"1.19.0\\\", \\\"azureml-defaults\\\": \\\"1.19.0\\\", \\\"azureml-dataset-runtime\\\": \\\"1.19.0\\\", \\\"azureml-dataprep\\\": \\\"2.6.1\\\", \\\"azureml-dataprep-rslex\\\": \\\"1.4.0\\\", \\\"azureml-dataprep-native\\\": \\\"26.0.0\\\", \\\"azureml-datadrift\\\": \\\"1.19.0\\\", \\\"azureml-core\\\": \\\"1.19.0\\\", \\\"azureml-contrib-services\\\": \\\"1.19.0\\\", \\\"azureml-contrib-server\\\": \\\"1.19.0\\\", \\\"azureml-contrib-reinforcementlearning\\\": \\\"1.19.0\\\", \\\"azureml-contrib-pipeline-steps\\\": \\\"1.19.0\\\", \\\"azureml-contrib-notebook\\\": \\\"1.19.0\\\", \\\"azureml-contrib-interpret\\\": \\\"1.19.0\\\", \\\"azureml-contrib-gbdt\\\": \\\"1.19.0\\\", \\\"azureml-contrib-fairness\\\": \\\"1.19.0\\\", \\\"azureml-contrib-dataset\\\": \\\"1.19.0\\\", \\\"azureml-cli-common\\\": \\\"1.19.0\\\", \\\"azureml-automl-runtime\\\": \\\"1.19.0\\\", \\\"azureml-automl-core\\\": \\\"1.19.0\\\", \\\"azureml-accel-models\\\": \\\"1.19.0\\\"}\", \"_aml_system_scenario_identification\": \"Remote.Parent\", \"ClientType\": \"SDK\", \"environment_cpu_name\": \"AzureML-AutoML\", \"environment_cpu_label\": \"prod\", \"environment_gpu_name\": \"AzureML-AutoML-GPU\", \"environment_gpu_label\": \"prod\", \"root_attribution\": \"automl\", \"attribution\": \"AutoML\", \"Orchestrator\": \"AutoML\", \"CancelUri\": \"https://southcentralus.experiments.azureml.net/jasmine/v1.0/subscriptions/6b4af8be-9931-443e-90f6-c4c34a1f9737/resourceGroups/aml-quickstarts-132485/providers/Microsoft.MachineLearningServices/workspaces/quick-starts-ws-132485/experimentids/2e8f9f3d-e0a6-406f-be8a-290cdbb8f6d1/cancel/AutoML_0c5b7c54-ae9a-4cc2-a643-7039cb5a0b02\", \"ClientSdkVersion\": \"1.19.0\", \"snapshotId\": \"00000000-0000-0000-0000-000000000000\", \"SetupRunId\": \"AutoML_0c5b7c54-ae9a-4cc2-a643-7039cb5a0b02_setup\", \"SetupRunContainerId\": \"dcid.AutoML_0c5b7c54-ae9a-4cc2-a643-7039cb5a0b02_setup\", \"FeaturizationRunJsonPath\": \"featurizer_container.json\", \"FeaturizationRunId\": \"AutoML_0c5b7c54-ae9a-4cc2-a643-7039cb5a0b02_featurize\", \"ProblemInfoJsonString\": \"{\\\"dataset_num_categorical\\\": 0, \\\"is_sparse\\\": false, \\\"subsampling\\\": false, \\\"dataset_classes\\\": 2, \\\"dataset_features\\\": 13, \\\"dataset_samples\\\": 303, \\\"single_frequency_class_detected\\\": false}\", \"ModelExplainRunId\": \"AutoML_0c5b7c54-ae9a-4cc2-a643-7039cb5a0b02_ModelExplain\"}, \"tags\": {\"model_explain_run\": \"best_run\", \"_aml_system_azureml.automlComponent\": \"AutoML\", \"pipeline_id\": \"\", \"score\": \"\", \"predicted_cost\": \"\", \"fit_time\": \"\", \"training_percent\": \"\", \"iteration\": \"\", \"run_preprocessor\": \"\", \"run_algorithm\": \"\", \"automl_best_child_run_id\": \"AutoML_0c5b7c54-ae9a-4cc2-a643-7039cb5a0b02_19\", \"model_explain_best_run_child_id\": \"AutoML_0c5b7c54-ae9a-4cc2-a643-7039cb5a0b02_19\"}, \"end_time_utc\": \"2020-12-30T14:07:56.794842Z\", \"status\": \"Completed\", \"log_files\": {}, \"log_groups\": [], \"run_duration\": \"0:26:44\"}, \"child_runs\": [{\"run_id\": \"AutoML_0c5b7c54-ae9a-4cc2-a643-7039cb5a0b02_0\", \"run_number\": 5, \"metric\": null, \"status\": \"Completed\", \"run_type\": \"azureml.scriptrun\", \"training_percent\": \"100\", \"start_time\": \"2020-12-30T13:46:02.346726Z\", \"end_time\": \"2020-12-30T13:47:17.187064Z\", \"created_time\": \"2020-12-30T13:45:47.384923Z\", \"created_time_dt\": \"2020-12-30T13:45:47.384923Z\", \"duration\": \"0:01:29\", \"iteration\": \"0\", \"goal\": \"accuracy_max\", \"run_name\": \"MaxAbsScaler, LightGBM\", \"run_properties\": \"copy=True\", \"primary_metric\": 0.79535519, \"best_metric\": 0.79535519}, {\"run_id\": \"AutoML_0c5b7c54-ae9a-4cc2-a643-7039cb5a0b02_1\", \"run_number\": 6, \"metric\": null, \"status\": \"Completed\", \"run_type\": \"azureml.scriptrun\", \"training_percent\": \"100\", \"start_time\": \"2020-12-30T13:47:31.84874Z\", \"end_time\": \"2020-12-30T13:48:14.967484Z\", \"created_time\": \"2020-12-30T13:47:18.96597Z\", \"created_time_dt\": \"2020-12-30T13:47:18.96597Z\", \"duration\": \"0:00:56\", \"iteration\": \"1\", \"goal\": \"accuracy_max\", \"run_name\": \"MaxAbsScaler, XGBoostClassifier\", \"run_properties\": \"copy=True\", \"primary_metric\": 0.79530055, \"best_metric\": 0.79535519}, {\"run_id\": \"AutoML_0c5b7c54-ae9a-4cc2-a643-7039cb5a0b02_2\", \"run_number\": 7, \"metric\": null, \"status\": \"Completed\", \"run_type\": \"azureml.scriptrun\", \"training_percent\": \"100\", \"start_time\": \"2020-12-30T13:48:30.44014Z\", \"end_time\": \"2020-12-30T13:49:19.181338Z\", \"created_time\": \"2020-12-30T13:48:16.560072Z\", \"created_time_dt\": \"2020-12-30T13:48:16.560072Z\", \"duration\": \"0:01:02\", \"iteration\": \"2\", \"goal\": \"accuracy_max\", \"run_name\": \"MinMaxScaler, RandomForest\", \"run_properties\": \"copy=True, feature_range=(0, 1\", \"primary_metric\": 0.82174863, \"best_metric\": 0.82174863}, {\"run_id\": \"AutoML_0c5b7c54-ae9a-4cc2-a643-7039cb5a0b02_3\", \"run_number\": 8, \"metric\": null, \"status\": \"Completed\", \"run_type\": \"azureml.scriptrun\", \"training_percent\": \"100\", \"start_time\": \"2020-12-30T13:49:38.693264Z\", \"end_time\": \"2020-12-30T13:50:21.840439Z\", \"created_time\": \"2020-12-30T13:49:22.259918Z\", \"created_time_dt\": \"2020-12-30T13:49:22.259918Z\", \"duration\": \"0:00:59\", \"iteration\": \"3\", \"goal\": \"accuracy_max\", \"run_name\": \"MinMaxScaler, RandomForest\", \"run_properties\": \"copy=True, feature_range=(0, 1\", \"primary_metric\": 0.82185792, \"best_metric\": 0.82185792}, {\"run_id\": \"AutoML_0c5b7c54-ae9a-4cc2-a643-7039cb5a0b02_4\", \"run_number\": 9, \"metric\": null, \"status\": \"Completed\", \"run_type\": \"azureml.scriptrun\", \"training_percent\": \"100\", \"start_time\": \"2020-12-30T13:50:37.916051Z\", \"end_time\": \"2020-12-30T13:51:23.172114Z\", \"created_time\": \"2020-12-30T13:50:24.215786Z\", \"created_time_dt\": \"2020-12-30T13:50:24.215786Z\", \"duration\": \"0:00:58\", \"iteration\": \"4\", \"goal\": \"accuracy_max\", \"run_name\": \"MinMaxScaler, RandomForest\", \"run_properties\": \"copy=True, feature_range=(0, 1\", \"primary_metric\": 0.80513661, \"best_metric\": 0.82185792}, {\"run_id\": \"AutoML_0c5b7c54-ae9a-4cc2-a643-7039cb5a0b02_5\", \"run_number\": 10, \"metric\": null, \"status\": \"Completed\", \"run_type\": \"azureml.scriptrun\", \"training_percent\": \"100\", \"start_time\": \"2020-12-30T13:51:36.708366Z\", \"end_time\": \"2020-12-30T13:52:27.603469Z\", \"created_time\": \"2020-12-30T13:51:25.630502Z\", \"created_time_dt\": \"2020-12-30T13:51:25.630502Z\", \"duration\": \"0:01:01\", \"iteration\": \"5\", \"goal\": \"accuracy_max\", \"run_name\": \"MinMaxScaler, SVM\", \"run_properties\": \"copy=True, feature_range=(0, 1\", \"primary_metric\": 0.75885246, \"best_metric\": 0.82185792}, {\"run_id\": \"AutoML_0c5b7c54-ae9a-4cc2-a643-7039cb5a0b02_6\", \"run_number\": 11, \"metric\": null, \"status\": \"Completed\", \"run_type\": \"azureml.scriptrun\", \"training_percent\": \"100\", \"start_time\": \"2020-12-30T13:52:44.453015Z\", \"end_time\": \"2020-12-30T13:53:29.797028Z\", \"created_time\": \"2020-12-30T13:52:31.029147Z\", \"created_time_dt\": \"2020-12-30T13:52:31.029147Z\", \"duration\": \"0:00:58\", \"iteration\": \"6\", \"goal\": \"accuracy_max\", \"run_name\": \"MaxAbsScaler, GradientBoosting\", \"run_properties\": \"copy=True\", \"primary_metric\": 0.8315847, \"best_metric\": 0.8315847}, {\"run_id\": \"AutoML_0c5b7c54-ae9a-4cc2-a643-7039cb5a0b02_7\", \"run_number\": 12, \"metric\": null, \"status\": \"Completed\", \"run_type\": \"azureml.scriptrun\", \"training_percent\": \"100\", \"start_time\": \"2020-12-30T13:53:44.177743Z\", \"end_time\": \"2020-12-30T13:54:32.30425Z\", \"created_time\": \"2020-12-30T13:53:32.094408Z\", \"created_time_dt\": \"2020-12-30T13:53:32.094408Z\", \"duration\": \"0:01:00\", \"iteration\": \"7\", \"goal\": \"accuracy_max\", \"run_name\": \"StandardScalerWrapper, RandomForest\", \"run_properties\": \"<azureml.automl.runtime.shared.model_wrappers.StandardScalerWrapper object at 0x7f016e2770b8\", \"primary_metric\": 0.82513661, \"best_metric\": 0.8315847}, {\"run_id\": \"AutoML_0c5b7c54-ae9a-4cc2-a643-7039cb5a0b02_8\", \"run_number\": 13, \"metric\": null, \"status\": \"Completed\", \"run_type\": \"azureml.scriptrun\", \"training_percent\": \"100\", \"start_time\": \"2020-12-30T13:54:54.32676Z\", \"end_time\": \"2020-12-30T13:55:39.879711Z\", \"created_time\": \"2020-12-30T13:54:35.116407Z\", \"created_time_dt\": \"2020-12-30T13:54:35.116407Z\", \"duration\": \"0:01:04\", \"iteration\": \"8\", \"goal\": \"accuracy_max\", \"run_name\": \"StandardScalerWrapper, RandomForest\", \"run_properties\": \"<azureml.automl.runtime.shared.model_wrappers.StandardScalerWrapper object at 0x7f9ab81e3278\", \"primary_metric\": 0.82502732, \"best_metric\": 0.8315847}, {\"run_id\": \"AutoML_0c5b7c54-ae9a-4cc2-a643-7039cb5a0b02_9\", \"run_number\": 14, \"metric\": null, \"status\": \"Completed\", \"run_type\": \"azureml.scriptrun\", \"training_percent\": \"100\", \"start_time\": \"2020-12-30T13:55:55.788965Z\", \"end_time\": \"2020-12-30T13:56:39.19911Z\", \"created_time\": \"2020-12-30T13:55:42.233727Z\", \"created_time_dt\": \"2020-12-30T13:55:42.233727Z\", \"duration\": \"0:00:56\", \"iteration\": \"9\", \"goal\": \"accuracy_max\", \"run_name\": \"SparseNormalizer, XGBoostClassifier\", \"run_properties\": \"<azureml.automl.runtime.shared.model_wrappers.SparseNormalizer object at 0x7f7dd802e438\", \"primary_metric\": 0.81530055, \"best_metric\": 0.8315847}, {\"run_id\": \"AutoML_0c5b7c54-ae9a-4cc2-a643-7039cb5a0b02_10\", \"run_number\": 15, \"metric\": null, \"status\": \"Completed\", \"run_type\": \"azureml.scriptrun\", \"training_percent\": \"100\", \"start_time\": \"2020-12-30T13:56:51.72722Z\", \"end_time\": \"2020-12-30T13:57:45.003185Z\", \"created_time\": \"2020-12-30T13:56:41.448301Z\", \"created_time_dt\": \"2020-12-30T13:56:41.448301Z\", \"duration\": \"0:01:03\", \"iteration\": \"10\", \"goal\": \"accuracy_max\", \"run_name\": \"RobustScaler, ExtremeRandomTrees\", \"run_properties\": \"copy=True, quantile_range=[25, 75], with_centering=True,\\n             with_scaling=False\", \"primary_metric\": 0.8084153, \"best_metric\": 0.8315847}, {\"run_id\": \"AutoML_0c5b7c54-ae9a-4cc2-a643-7039cb5a0b02_11\", \"run_number\": 16, \"metric\": null, \"status\": \"Completed\", \"run_type\": \"azureml.scriptrun\", \"training_percent\": \"100\", \"start_time\": \"2020-12-30T13:58:02.702301Z\", \"end_time\": \"2020-12-30T13:58:49.169494Z\", \"created_time\": \"2020-12-30T13:57:47.726367Z\", \"created_time_dt\": \"2020-12-30T13:57:47.726367Z\", \"duration\": \"0:01:01\", \"iteration\": \"11\", \"goal\": \"accuracy_max\", \"run_name\": \"MinMaxScaler, LightGBM\", \"run_properties\": \"copy=True, feature_range=(0, 1\", \"primary_metric\": 0.8315847, \"best_metric\": 0.8315847}, {\"run_id\": \"AutoML_0c5b7c54-ae9a-4cc2-a643-7039cb5a0b02_12\", \"run_number\": 17, \"metric\": null, \"status\": \"Completed\", \"run_type\": \"azureml.scriptrun\", \"training_percent\": \"100\", \"start_time\": \"2020-12-30T13:59:03.340017Z\", \"end_time\": \"2020-12-30T13:59:47.04769Z\", \"created_time\": \"2020-12-30T13:58:51.37922Z\", \"created_time_dt\": \"2020-12-30T13:58:51.37922Z\", \"duration\": \"0:00:55\", \"iteration\": \"12\", \"goal\": \"accuracy_max\", \"run_name\": \"StandardScalerWrapper, RandomForest\", \"run_properties\": \"<azureml.automl.runtime.shared.model_wrappers.StandardScalerWrapper object at 0x7fa9c1da4278\", \"primary_metric\": 0.78540984, \"best_metric\": 0.8315847}, {\"run_id\": \"AutoML_0c5b7c54-ae9a-4cc2-a643-7039cb5a0b02_13\", \"run_number\": 18, \"metric\": null, \"status\": \"Completed\", \"run_type\": \"azureml.scriptrun\", \"training_percent\": \"100\", \"start_time\": \"2020-12-30T14:00:14.099804Z\", \"end_time\": \"2020-12-30T14:00:59.468417Z\", \"created_time\": \"2020-12-30T13:59:49.699319Z\", \"created_time_dt\": \"2020-12-30T13:59:49.699319Z\", \"duration\": \"0:01:09\", \"iteration\": \"13\", \"goal\": \"accuracy_max\", \"run_name\": \"StandardScalerWrapper, GradientBoosting\", \"run_properties\": \"<azureml.automl.runtime.shared.model_wrappers.StandardScalerWrapper object at 0x7fc9bc331588\", \"primary_metric\": 0.82497268, \"best_metric\": 0.8315847}, {\"run_id\": \"AutoML_0c5b7c54-ae9a-4cc2-a643-7039cb5a0b02_14\", \"run_number\": 19, \"metric\": null, \"status\": \"Completed\", \"run_type\": \"azureml.scriptrun\", \"training_percent\": \"100\", \"start_time\": \"2020-12-30T14:01:19.527519Z\", \"end_time\": \"2020-12-30T14:02:06.804905Z\", \"created_time\": \"2020-12-30T14:01:02.294915Z\", \"created_time_dt\": \"2020-12-30T14:01:02.294915Z\", \"duration\": \"0:01:04\", \"iteration\": \"14\", \"goal\": \"accuracy_max\", \"run_name\": \"StandardScalerWrapper, ExtremeRandomTrees\", \"run_properties\": \"<azureml.automl.runtime.shared.model_wrappers.StandardScalerWrapper object at 0x7faa3814aba8\", \"primary_metric\": 0.8215847, \"best_metric\": 0.8315847}, {\"run_id\": \"AutoML_0c5b7c54-ae9a-4cc2-a643-7039cb5a0b02_15\", \"run_number\": 20, \"metric\": null, \"status\": \"Completed\", \"run_type\": \"azureml.scriptrun\", \"training_percent\": \"100\", \"start_time\": \"2020-12-30T14:02:23.882973Z\", \"end_time\": \"2020-12-30T14:03:09.815656Z\", \"created_time\": \"2020-12-30T14:02:09.368468Z\", \"created_time_dt\": \"2020-12-30T14:02:09.368468Z\", \"duration\": \"0:01:00\", \"iteration\": \"15\", \"goal\": \"accuracy_max\", \"run_name\": \"StandardScalerWrapper, LightGBM\", \"run_properties\": \"<azureml.automl.runtime.shared.model_wrappers.StandardScalerWrapper object at 0x7f182d23ec88\", \"primary_metric\": 0.82513661, \"best_metric\": 0.8315847}, {\"run_id\": \"AutoML_0c5b7c54-ae9a-4cc2-a643-7039cb5a0b02_16\", \"run_number\": 21, \"metric\": null, \"status\": \"Completed\", \"run_type\": \"azureml.scriptrun\", \"training_percent\": \"100\", \"start_time\": \"2020-12-30T14:03:28.498265Z\", \"end_time\": \"2020-12-30T14:04:18.49799Z\", \"created_time\": \"2020-12-30T14:03:12.152786Z\", \"created_time_dt\": \"2020-12-30T14:03:12.152786Z\", \"duration\": \"0:01:06\", \"iteration\": \"16\", \"goal\": \"accuracy_max\", \"run_name\": \"MinMaxScaler, LightGBM\", \"run_properties\": \"copy=True, feature_range=(0, 1\", \"primary_metric\": 0.81830601, \"best_metric\": 0.8315847}, {\"run_id\": \"AutoML_0c5b7c54-ae9a-4cc2-a643-7039cb5a0b02_17\", \"run_number\": 22, \"metric\": null, \"status\": \"Completed\", \"run_type\": \"azureml.scriptrun\", \"training_percent\": \"100\", \"start_time\": \"2020-12-30T14:04:32.603474Z\", \"end_time\": \"2020-12-30T14:05:20.095326Z\", \"created_time\": \"2020-12-30T14:04:21.870994Z\", \"created_time_dt\": \"2020-12-30T14:04:21.870994Z\", \"duration\": \"0:00:58\", \"iteration\": \"17\", \"goal\": \"accuracy_max\", \"run_name\": \"RobustScaler, ExtremeRandomTrees\", \"run_properties\": \"copy=True, quantile_range=[25, 75], with_centering=True,\\n             with_scaling=False\", \"primary_metric\": 0.78218579, \"best_metric\": 0.8315847}, {\"run_id\": \"AutoML_0c5b7c54-ae9a-4cc2-a643-7039cb5a0b02_18\", \"run_number\": 23, \"metric\": null, \"status\": \"Canceled\", \"run_type\": \"azureml.scriptrun\", \"training_percent\": \"100\", \"start_time\": \"2020-12-30T14:05:36.458638Z\", \"end_time\": \"2020-12-30T14:06:20.179311Z\", \"created_time\": \"2020-12-30T14:05:22.085965Z\", \"created_time_dt\": \"2020-12-30T14:05:22.085965Z\", \"duration\": \"0:00:58\", \"iteration\": \"18\", \"goal\": \"accuracy_max\", \"run_name\": \"StandardScalerWrapper, RandomForest\", \"run_properties\": \"<azureml.automl.runtime.shared.model_wrappers.StandardScalerWrapper object at 0x7f7b240eea20\", \"primary_metric\": 0.8184153, \"best_metric\": 0.8315847}, {\"run_id\": \"AutoML_0c5b7c54-ae9a-4cc2-a643-7039cb5a0b02_19\", \"run_number\": 24, \"metric\": null, \"status\": \"Completed\", \"run_type\": \"azureml.scriptrun\", \"training_percent\": \"100\", \"start_time\": \"2020-12-30T14:06:33.318097Z\", \"end_time\": \"2020-12-30T14:07:44.487925Z\", \"created_time\": \"2020-12-30T14:06:21.449786Z\", \"created_time_dt\": \"2020-12-30T14:06:21.449786Z\", \"duration\": \"0:01:23\", \"iteration\": \"19\", \"goal\": \"accuracy_max\", \"run_name\": \"VotingEnsemble\", \"run_properties\": \"classification_labels=None,\\n                              estimators=[('11',\\n                                           Pipeline(memory=None,\\n                                                    steps=[('minmaxscaler',\\n                                                            MinMaxScaler(copy=True,\\n                                                                         feature_range=(0,\\n                                                                                        1\", \"primary_metric\": 0.8415847, \"best_metric\": 0.8415847}], \"children_metrics\": {\"categories\": [0], \"series\": {\"f1_score_macro\": [{\"categories\": [\"0\", \"1\", \"2\", \"3\", \"4\", \"5\", \"6\", \"7\", \"8\", \"9\", \"10\", \"11\", \"12\", \"13\", \"14\", \"15\", \"16\", \"17\", \"18\", \"19\"], \"mode\": \"markers\", \"name\": \"f1_score_macro\", \"stepped\": false, \"type\": \"scatter\", \"data\": [0.7899121122916706, 0.7909610741848351, 0.8150671800046367, 0.8132306640215173, 0.801069835475763, 0.7513187065926479, 0.8278190960984668, 0.81931881956951, 0.8189376103647714, 0.8093079828588301, 0.8024513900168759, 0.8269839836682206, 0.7796438110331584, 0.8199147234618775, 0.8137077661712567, 0.8204456073958664, 0.812860593707368, 0.7745653532960298, 0.8135853794041588, 0.8364875993066423]}, {\"categories\": [\"0\", \"1\", \"2\", \"3\", \"4\", \"5\", \"6\", \"7\", \"8\", \"9\", \"10\", \"11\", \"12\", \"13\", \"14\", \"15\", \"16\", \"17\", \"18\", \"19\"], \"mode\": \"lines\", \"name\": \"f1_score_macro_max\", \"stepped\": true, \"type\": \"scatter\", \"data\": [0.7899121122916706, 0.7909610741848351, 0.8150671800046367, 0.8150671800046367, 0.8150671800046367, 0.8150671800046367, 0.8278190960984668, 0.8278190960984668, 0.8278190960984668, 0.8278190960984668, 0.8278190960984668, 0.8278190960984668, 0.8278190960984668, 0.8278190960984668, 0.8278190960984668, 0.8278190960984668, 0.8278190960984668, 0.8278190960984668, 0.8278190960984668, 0.8364875993066423]}], \"log_loss\": [{\"categories\": [\"0\", \"1\", \"2\", \"3\", \"4\", \"5\", \"6\", \"7\", \"8\", \"9\", \"10\", \"11\", \"12\", \"13\", \"14\", \"15\", \"16\", \"17\", \"18\", \"19\"], \"mode\": \"markers\", \"name\": \"log_loss\", \"stepped\": false, \"type\": \"scatter\", \"data\": [0.5381774711792447, 0.48883718994164826, 0.4078603938164573, 0.42712736184629174, 0.4039639592081876, 0.4836675260225901, 0.3951680985676065, 0.43034845873502237, 0.40907876735620885, 0.42130885887211916, 0.43236184681977274, 0.42158543859896574, 0.4288933129388816, 0.4321959613803127, 0.42480164519728375, 0.4070422038501819, 0.41257395019496573, 0.4470524430313453, 0.4392359429789535, 0.4048368409962387]}, {\"categories\": [\"0\", \"1\", \"2\", \"3\", \"4\", \"5\", \"6\", \"7\", \"8\", \"9\", \"10\", \"11\", \"12\", \"13\", \"14\", \"15\", \"16\", \"17\", \"18\", \"19\"], \"mode\": \"lines\", \"name\": \"log_loss_min\", \"stepped\": true, \"type\": \"scatter\", \"data\": [0.5381774711792447, 0.48883718994164826, 0.4078603938164573, 0.4078603938164573, 0.4039639592081876, 0.4039639592081876, 0.3951680985676065, 0.3951680985676065, 0.3951680985676065, 0.3951680985676065, 0.3951680985676065, 0.3951680985676065, 0.3951680985676065, 0.3951680985676065, 0.3951680985676065, 0.3951680985676065, 0.3951680985676065, 0.3951680985676065, 0.3951680985676065, 0.3951680985676065]}], \"f1_score_weighted\": [{\"categories\": [\"0\", \"1\", \"2\", \"3\", \"4\", \"5\", \"6\", \"7\", \"8\", \"9\", \"10\", \"11\", \"12\", \"13\", \"14\", \"15\", \"16\", \"17\", \"18\", \"19\"], \"mode\": \"markers\", \"name\": \"f1_score_weighted\", \"stepped\": false, \"type\": \"scatter\", \"data\": [0.7942375913471685, 0.7949467988011831, 0.820177988584784, 0.8190037760414801, 0.8046647165230439, 0.7570530038123506, 0.8312000777034607, 0.8235647451741407, 0.823184099999269, 0.8136072244437471, 0.8066845862981917, 0.8306232562133926, 0.783884380081624, 0.8239622494723644, 0.8186214826301063, 0.824291063977582, 0.8170541412139773, 0.7802354162690499, 0.817368539677134, 0.8402818544143749]}, {\"categories\": [\"0\", \"1\", \"2\", \"3\", \"4\", \"5\", \"6\", \"7\", \"8\", \"9\", \"10\", \"11\", \"12\", \"13\", \"14\", \"15\", \"16\", \"17\", \"18\", \"19\"], \"mode\": \"lines\", \"name\": \"f1_score_weighted_max\", \"stepped\": true, \"type\": \"scatter\", \"data\": [0.7942375913471685, 0.7949467988011831, 0.820177988584784, 0.820177988584784, 0.820177988584784, 0.820177988584784, 0.8312000777034607, 0.8312000777034607, 0.8312000777034607, 0.8312000777034607, 0.8312000777034607, 0.8312000777034607, 0.8312000777034607, 0.8312000777034607, 0.8312000777034607, 0.8312000777034607, 0.8312000777034607, 0.8312000777034607, 0.8312000777034607, 0.8402818544143749]}], \"average_precision_score_weighted\": [{\"categories\": [\"0\", \"1\", \"2\", \"3\", \"4\", \"5\", \"6\", \"7\", \"8\", \"9\", \"10\", \"11\", \"12\", \"13\", \"14\", \"15\", \"16\", \"17\", \"18\", \"19\"], \"mode\": \"markers\", \"name\": \"average_precision_score_weighted\", \"stepped\": false, \"type\": \"scatter\", \"data\": [0.8719307562275416, 0.8805960415620803, 0.9106380409246058, 0.9072034766091456, 0.9099687620180221, 0.8594232027827073, 0.9131861700969903, 0.9169208770384157, 0.9185555962080981, 0.894873024199916, 0.908328324724198, 0.9199218085907257, 0.8965596082728018, 0.8955860353325328, 0.9163459450571224, 0.9114435123898549, 0.8999320568095655, 0.8986577633826244, 0.9120910868306643, 0.9172591665696721]}, {\"categories\": [\"0\", \"1\", \"2\", \"3\", \"4\", \"5\", \"6\", \"7\", \"8\", \"9\", \"10\", \"11\", \"12\", \"13\", \"14\", \"15\", \"16\", \"17\", \"18\", \"19\"], \"mode\": \"lines\", \"name\": \"average_precision_score_weighted_max\", \"stepped\": true, \"type\": \"scatter\", \"data\": [0.8719307562275416, 0.8805960415620803, 0.9106380409246058, 0.9106380409246058, 0.9106380409246058, 0.9106380409246058, 0.9131861700969903, 0.9169208770384157, 0.9185555962080981, 0.9185555962080981, 0.9185555962080981, 0.9199218085907257, 0.9199218085907257, 0.9199218085907257, 0.9199218085907257, 0.9199218085907257, 0.9199218085907257, 0.9199218085907257, 0.9199218085907257, 0.9199218085907257]}], \"recall_score_micro\": [{\"categories\": [\"0\", \"1\", \"2\", \"3\", \"4\", \"5\", \"6\", \"7\", \"8\", \"9\", \"10\", \"11\", \"12\", \"13\", \"14\", \"15\", \"16\", \"17\", \"18\", \"19\"], \"mode\": \"markers\", \"name\": \"recall_score_micro\", \"stepped\": false, \"type\": \"scatter\", \"data\": [0.7953551912568306, 0.7953005464480875, 0.8217486338797814, 0.8218579234972676, 0.8051366120218578, 0.7588524590163935, 0.831584699453552, 0.825136612021858, 0.8250273224043717, 0.8153005464480874, 0.8084153005464481, 0.831584699453552, 0.7854098360655737, 0.8249726775956283, 0.821584699453552, 0.825136612021858, 0.8183060109289617, 0.7821857923497267, 0.8184153005464481, 0.8415846994535519]}, {\"categories\": [\"0\", \"1\", \"2\", \"3\", \"4\", \"5\", \"6\", \"7\", \"8\", \"9\", \"10\", \"11\", \"12\", \"13\", \"14\", \"15\", \"16\", \"17\", \"18\", \"19\"], \"mode\": \"lines\", \"name\": \"recall_score_micro_max\", \"stepped\": true, \"type\": \"scatter\", \"data\": [0.7953551912568306, 0.7953551912568306, 0.8217486338797814, 0.8218579234972676, 0.8218579234972676, 0.8218579234972676, 0.831584699453552, 0.831584699453552, 0.831584699453552, 0.831584699453552, 0.831584699453552, 0.831584699453552, 0.831584699453552, 0.831584699453552, 0.831584699453552, 0.831584699453552, 0.831584699453552, 0.831584699453552, 0.831584699453552, 0.8415846994535519]}], \"norm_macro_recall\": [{\"categories\": [\"0\", \"1\", \"2\", \"3\", \"4\", \"5\", \"6\", \"7\", \"8\", \"9\", \"10\", \"11\", \"12\", \"13\", \"14\", \"15\", \"16\", \"17\", \"18\", \"19\"], \"mode\": \"markers\", \"name\": \"norm_macro_recall\", \"stepped\": false, \"type\": \"scatter\", \"data\": [0.5813485603790391, 0.5819682683821805, 0.6264435172360461, 0.6223841010915837, 0.60357436022469, 0.5015341435515568, 0.6572136980866832, 0.6359291163295383, 0.6353108367596458, 0.6198540478729833, 0.606663426018012, 0.6528078025624587, 0.5643864878438782, 0.6371949439420479, 0.6269578902641815, 0.6398973248944289, 0.6258080475285035, 0.5512584786917721, 0.6273147596102506, 0.6702430480733439]}, {\"categories\": [\"0\", \"1\", \"2\", \"3\", \"4\", \"5\", \"6\", \"7\", \"8\", \"9\", \"10\", \"11\", \"12\", \"13\", \"14\", \"15\", \"16\", \"17\", \"18\", \"19\"], \"mode\": \"lines\", \"name\": \"norm_macro_recall_max\", \"stepped\": true, \"type\": \"scatter\", \"data\": [0.5813485603790391, 0.5819682683821805, 0.6264435172360461, 0.6264435172360461, 0.6264435172360461, 0.6264435172360461, 0.6572136980866832, 0.6572136980866832, 0.6572136980866832, 0.6572136980866832, 0.6572136980866832, 0.6572136980866832, 0.6572136980866832, 0.6572136980866832, 0.6572136980866832, 0.6572136980866832, 0.6572136980866832, 0.6572136980866832, 0.6572136980866832, 0.6702430480733439]}], \"balanced_accuracy\": [{\"categories\": [\"0\", \"1\", \"2\", \"3\", \"4\", \"5\", \"6\", \"7\", \"8\", \"9\", \"10\", \"11\", \"12\", \"13\", \"14\", \"15\", \"16\", \"17\", \"18\", \"19\"], \"mode\": \"markers\", \"name\": \"balanced_accuracy\", \"stepped\": false, \"type\": \"scatter\", \"data\": [0.7906742801895195, 0.7909841341910901, 0.813221758618023, 0.811192050545792, 0.801787180112345, 0.7507670717757785, 0.8286068490433415, 0.8179645581647691, 0.8176554183798229, 0.8099270239364916, 0.803331713009006, 0.8264039012812294, 0.782193243921939, 0.818597471971024, 0.8134789451320907, 0.8199486624472143, 0.8129040237642517, 0.775629239345886, 0.8136573798051254, 0.8351215240366721]}, {\"categories\": [\"0\", \"1\", \"2\", \"3\", \"4\", \"5\", \"6\", \"7\", \"8\", \"9\", \"10\", \"11\", \"12\", \"13\", \"14\", \"15\", \"16\", \"17\", \"18\", \"19\"], \"mode\": \"lines\", \"name\": \"balanced_accuracy_max\", \"stepped\": true, \"type\": \"scatter\", \"data\": [0.7906742801895195, 0.7909841341910901, 0.813221758618023, 0.813221758618023, 0.813221758618023, 0.813221758618023, 0.8286068490433415, 0.8286068490433415, 0.8286068490433415, 0.8286068490433415, 0.8286068490433415, 0.8286068490433415, 0.8286068490433415, 0.8286068490433415, 0.8286068490433415, 0.8286068490433415, 0.8286068490433415, 0.8286068490433415, 0.8286068490433415, 0.8351215240366721]}], \"accuracy\": [{\"categories\": [\"0\", \"1\", \"2\", \"3\", \"4\", \"5\", \"6\", \"7\", \"8\", \"9\", \"10\", \"11\", \"12\", \"13\", \"14\", \"15\", \"16\", \"17\", \"18\", \"19\"], \"mode\": \"markers\", \"name\": \"accuracy\", \"stepped\": false, \"type\": \"scatter\", \"data\": [0.7953551912568306, 0.7953005464480875, 0.8217486338797814, 0.8218579234972676, 0.8051366120218578, 0.7588524590163935, 0.831584699453552, 0.825136612021858, 0.8250273224043717, 0.8153005464480874, 0.8084153005464481, 0.831584699453552, 0.7854098360655737, 0.8249726775956283, 0.821584699453552, 0.825136612021858, 0.8183060109289617, 0.7821857923497267, 0.8184153005464481, 0.8415846994535519]}, {\"categories\": [\"0\", \"1\", \"2\", \"3\", \"4\", \"5\", \"6\", \"7\", \"8\", \"9\", \"10\", \"11\", \"12\", \"13\", \"14\", \"15\", \"16\", \"17\", \"18\", \"19\"], \"mode\": \"lines\", \"name\": \"accuracy_max\", \"stepped\": true, \"type\": \"scatter\", \"data\": [0.7953551912568306, 0.7953551912568306, 0.8217486338797814, 0.8218579234972676, 0.8218579234972676, 0.8218579234972676, 0.831584699453552, 0.831584699453552, 0.831584699453552, 0.831584699453552, 0.831584699453552, 0.831584699453552, 0.831584699453552, 0.831584699453552, 0.831584699453552, 0.831584699453552, 0.831584699453552, 0.831584699453552, 0.831584699453552, 0.8415846994535519]}], \"precision_score_weighted\": [{\"categories\": [\"0\", \"1\", \"2\", \"3\", \"4\", \"5\", \"6\", \"7\", \"8\", \"9\", \"10\", \"11\", \"12\", \"13\", \"14\", \"15\", \"16\", \"17\", \"18\", \"19\"], \"mode\": \"markers\", \"name\": \"precision_score_weighted\", \"stepped\": false, \"type\": \"scatter\", \"data\": [0.7999417209061359, 0.7966893123147967, 0.8236286049019841, 0.8290813996621615, 0.8091862597440086, 0.7621096440732888, 0.8363037279839258, 0.829721521993348, 0.8312743490454533, 0.8225756160640421, 0.8173546272292656, 0.8369244927650472, 0.7948404155454212, 0.8277542280374837, 0.8328161205983875, 0.8283506086631215, 0.8243376902887262, 0.7868737172961838, 0.824413688304652, 0.8468640852060265]}, {\"categories\": [\"0\", \"1\", \"2\", \"3\", \"4\", \"5\", \"6\", \"7\", \"8\", \"9\", \"10\", \"11\", \"12\", \"13\", \"14\", \"15\", \"16\", \"17\", \"18\", \"19\"], \"mode\": \"lines\", \"name\": \"precision_score_weighted_max\", \"stepped\": true, \"type\": \"scatter\", \"data\": [0.7999417209061359, 0.7999417209061359, 0.8236286049019841, 0.8290813996621615, 0.8290813996621615, 0.8290813996621615, 0.8363037279839258, 0.8363037279839258, 0.8363037279839258, 0.8363037279839258, 0.8363037279839258, 0.8369244927650472, 0.8369244927650472, 0.8369244927650472, 0.8369244927650472, 0.8369244927650472, 0.8369244927650472, 0.8369244927650472, 0.8369244927650472, 0.8468640852060265]}], \"precision_score_macro\": [{\"categories\": [\"0\", \"1\", \"2\", \"3\", \"4\", \"5\", \"6\", \"7\", \"8\", \"9\", \"10\", \"11\", \"12\", \"13\", \"14\", \"15\", \"16\", \"17\", \"18\", \"19\"], \"mode\": \"markers\", \"name\": \"precision_score_macro\", \"stepped\": false, \"type\": \"scatter\", \"data\": [0.7961721314177864, 0.7931143298210874, 0.8222883087045194, 0.828789436054142, 0.805526083594016, 0.7588599831845911, 0.8326016266520012, 0.8288117711245994, 0.830593860625972, 0.8199990077535716, 0.8145980054803583, 0.8351323744130121, 0.7898136424479678, 0.8262012316370273, 0.8323618921752113, 0.826020899043397, 0.8216675459981335, 0.7826175584177941, 0.8218104645789419, 0.8460340381045522]}, {\"categories\": [\"0\", \"1\", \"2\", \"3\", \"4\", \"5\", \"6\", \"7\", \"8\", \"9\", \"10\", \"11\", \"12\", \"13\", \"14\", \"15\", \"16\", \"17\", \"18\", \"19\"], \"mode\": \"lines\", \"name\": \"precision_score_macro_max\", \"stepped\": true, \"type\": \"scatter\", \"data\": [0.7961721314177864, 0.7961721314177864, 0.8222883087045194, 0.828789436054142, 0.828789436054142, 0.828789436054142, 0.8326016266520012, 0.8326016266520012, 0.8326016266520012, 0.8326016266520012, 0.8326016266520012, 0.8351323744130121, 0.8351323744130121, 0.8351323744130121, 0.8351323744130121, 0.8351323744130121, 0.8351323744130121, 0.8351323744130121, 0.8351323744130121, 0.8460340381045522]}], \"precision_score_micro\": [{\"categories\": [\"0\", \"1\", \"2\", \"3\", \"4\", \"5\", \"6\", \"7\", \"8\", \"9\", \"10\", \"11\", \"12\", \"13\", \"14\", \"15\", \"16\", \"17\", \"18\", \"19\"], \"mode\": \"markers\", \"name\": \"precision_score_micro\", \"stepped\": false, \"type\": \"scatter\", \"data\": [0.7953551912568306, 0.7953005464480875, 0.8217486338797814, 0.8218579234972676, 0.8051366120218578, 0.7588524590163935, 0.831584699453552, 0.825136612021858, 0.8250273224043717, 0.8153005464480874, 0.8084153005464481, 0.831584699453552, 0.7854098360655737, 0.8249726775956283, 0.821584699453552, 0.825136612021858, 0.8183060109289617, 0.7821857923497267, 0.8184153005464481, 0.8415846994535519]}, {\"categories\": [\"0\", \"1\", \"2\", \"3\", \"4\", \"5\", \"6\", \"7\", \"8\", \"9\", \"10\", \"11\", \"12\", \"13\", \"14\", \"15\", \"16\", \"17\", \"18\", \"19\"], \"mode\": \"lines\", \"name\": \"precision_score_micro_max\", \"stepped\": true, \"type\": \"scatter\", \"data\": [0.7953551912568306, 0.7953551912568306, 0.8217486338797814, 0.8218579234972676, 0.8218579234972676, 0.8218579234972676, 0.831584699453552, 0.831584699453552, 0.831584699453552, 0.831584699453552, 0.831584699453552, 0.831584699453552, 0.831584699453552, 0.831584699453552, 0.831584699453552, 0.831584699453552, 0.831584699453552, 0.831584699453552, 0.831584699453552, 0.8415846994535519]}], \"recall_score_macro\": [{\"categories\": [\"0\", \"1\", \"2\", \"3\", \"4\", \"5\", \"6\", \"7\", \"8\", \"9\", \"10\", \"11\", \"12\", \"13\", \"14\", \"15\", \"16\", \"17\", \"18\", \"19\"], \"mode\": \"markers\", \"name\": \"recall_score_macro\", \"stepped\": false, \"type\": \"scatter\", \"data\": [0.7906742801895195, 0.7909841341910901, 0.813221758618023, 0.811192050545792, 0.801787180112345, 0.7507670717757785, 0.8286068490433415, 0.8179645581647691, 0.8176554183798229, 0.8099270239364916, 0.803331713009006, 0.8264039012812294, 0.782193243921939, 0.818597471971024, 0.8134789451320907, 0.8199486624472143, 0.8129040237642517, 0.775629239345886, 0.8136573798051254, 0.8351215240366721]}, {\"categories\": [\"0\", \"1\", \"2\", \"3\", \"4\", \"5\", \"6\", \"7\", \"8\", \"9\", \"10\", \"11\", \"12\", \"13\", \"14\", \"15\", \"16\", \"17\", \"18\", \"19\"], \"mode\": \"lines\", \"name\": \"recall_score_macro_max\", \"stepped\": true, \"type\": \"scatter\", \"data\": [0.7906742801895195, 0.7909841341910901, 0.813221758618023, 0.813221758618023, 0.813221758618023, 0.813221758618023, 0.8286068490433415, 0.8286068490433415, 0.8286068490433415, 0.8286068490433415, 0.8286068490433415, 0.8286068490433415, 0.8286068490433415, 0.8286068490433415, 0.8286068490433415, 0.8286068490433415, 0.8286068490433415, 0.8286068490433415, 0.8286068490433415, 0.8351215240366721]}], \"weighted_accuracy\": [{\"categories\": [\"0\", \"1\", \"2\", \"3\", \"4\", \"5\", \"6\", \"7\", \"8\", \"9\", \"10\", \"11\", \"12\", \"13\", \"14\", \"15\", \"16\", \"17\", \"18\", \"19\"], \"mode\": \"markers\", \"name\": \"weighted_accuracy\", \"stepped\": false, \"type\": \"scatter\", \"data\": [0.7995120430367557, 0.7991553963701673, 0.8294090273357243, 0.8315065589953049, 0.8080388580221337, 0.766195861120134, 0.8342574840846837, 0.8315613733542367, 0.831650508362417, 0.819954201467076, 0.8127958532082354, 0.8361910019438643, 0.7880960501511657, 0.8307588207252701, 0.8287380516221236, 0.8297979580974696, 0.8231102393469417, 0.7878835320641298, 0.8226716739331261, 0.8474209945579754]}, {\"categories\": [\"0\", \"1\", \"2\", \"3\", \"4\", \"5\", \"6\", \"7\", \"8\", \"9\", \"10\", \"11\", \"12\", \"13\", \"14\", \"15\", \"16\", \"17\", \"18\", \"19\"], \"mode\": \"lines\", \"name\": \"weighted_accuracy_max\", \"stepped\": true, \"type\": \"scatter\", \"data\": [0.7995120430367557, 0.7995120430367557, 0.8294090273357243, 0.8315065589953049, 0.8315065589953049, 0.8315065589953049, 0.8342574840846837, 0.8342574840846837, 0.8342574840846837, 0.8342574840846837, 0.8342574840846837, 0.8361910019438643, 0.8361910019438643, 0.8361910019438643, 0.8361910019438643, 0.8361910019438643, 0.8361910019438643, 0.8361910019438643, 0.8361910019438643, 0.8474209945579754]}], \"AUC_weighted\": [{\"categories\": [\"0\", \"1\", \"2\", \"3\", \"4\", \"5\", \"6\", \"7\", \"8\", \"9\", \"10\", \"11\", \"12\", \"13\", \"14\", \"15\", \"16\", \"17\", \"18\", \"19\"], \"mode\": \"markers\", \"name\": \"AUC_weighted\", \"stepped\": false, \"type\": \"scatter\", \"data\": [0.8691605140432452, 0.8743019778937438, 0.9038801777844201, 0.8990609558710014, 0.9035954541405019, 0.8491280565089756, 0.908588130221412, 0.9106320149186462, 0.9154891279277493, 0.8904528875286667, 0.9049041311626504, 0.9134592908796633, 0.8869452249055356, 0.8913498314328162, 0.9124470192888842, 0.9055486098692105, 0.8917116134430157, 0.8914958644838791, 0.9039726285353563, 0.9127130249775266]}, {\"categories\": [\"0\", \"1\", \"2\", \"3\", \"4\", \"5\", \"6\", \"7\", \"8\", \"9\", \"10\", \"11\", \"12\", \"13\", \"14\", \"15\", \"16\", \"17\", \"18\", \"19\"], \"mode\": \"lines\", \"name\": \"AUC_weighted_max\", \"stepped\": true, \"type\": \"scatter\", \"data\": [0.8691605140432452, 0.8743019778937438, 0.9038801777844201, 0.9038801777844201, 0.9038801777844201, 0.9038801777844201, 0.908588130221412, 0.9106320149186462, 0.9154891279277493, 0.9154891279277493, 0.9154891279277493, 0.9154891279277493, 0.9154891279277493, 0.9154891279277493, 0.9154891279277493, 0.9154891279277493, 0.9154891279277493, 0.9154891279277493, 0.9154891279277493, 0.9154891279277493]}], \"recall_score_weighted\": [{\"categories\": [\"0\", \"1\", \"2\", \"3\", \"4\", \"5\", \"6\", \"7\", \"8\", \"9\", \"10\", \"11\", \"12\", \"13\", \"14\", \"15\", \"16\", \"17\", \"18\", \"19\"], \"mode\": \"markers\", \"name\": \"recall_score_weighted\", \"stepped\": false, \"type\": \"scatter\", \"data\": [0.7953551912568306, 0.7953005464480875, 0.8217486338797814, 0.8218579234972676, 0.8051366120218578, 0.7588524590163935, 0.831584699453552, 0.825136612021858, 0.8250273224043717, 0.8153005464480874, 0.8084153005464481, 0.831584699453552, 0.7854098360655737, 0.8249726775956283, 0.821584699453552, 0.825136612021858, 0.8183060109289617, 0.7821857923497267, 0.8184153005464481, 0.8415846994535519]}, {\"categories\": [\"0\", \"1\", \"2\", \"3\", \"4\", \"5\", \"6\", \"7\", \"8\", \"9\", \"10\", \"11\", \"12\", \"13\", \"14\", \"15\", \"16\", \"17\", \"18\", \"19\"], \"mode\": \"lines\", \"name\": \"recall_score_weighted_max\", \"stepped\": true, \"type\": \"scatter\", \"data\": [0.7953551912568306, 0.7953551912568306, 0.8217486338797814, 0.8218579234972676, 0.8218579234972676, 0.8218579234972676, 0.831584699453552, 0.831584699453552, 0.831584699453552, 0.831584699453552, 0.831584699453552, 0.831584699453552, 0.831584699453552, 0.831584699453552, 0.831584699453552, 0.831584699453552, 0.831584699453552, 0.831584699453552, 0.831584699453552, 0.8415846994535519]}], \"matthews_correlation\": [{\"categories\": [\"0\", \"1\", \"2\", \"3\", \"4\", \"5\", \"6\", \"7\", \"8\", \"9\", \"10\", \"11\", \"12\", \"13\", \"14\", \"15\", \"16\", \"17\", \"18\", \"19\"], \"mode\": \"markers\", \"name\": \"matthews_correlation\", \"stepped\": false, \"type\": \"scatter\", \"data\": [0.5867308851294775, 0.5840623580228471, 0.635302579605217, 0.6395450354076364, 0.6072386142659809, 0.509521867049804, 0.6611521697461683, 0.6465033618359464, 0.6479320801203073, 0.6295535728083405, 0.6175625597476714, 0.6613516516505922, 0.5718711485713838, 0.6446735197048266, 0.6449417567222442, 0.6458655565794196, 0.6343755928132552, 0.5579732170457798, 0.6353208102532472, 0.6809411370437884]}, {\"categories\": [\"0\", \"1\", \"2\", \"3\", \"4\", \"5\", \"6\", \"7\", \"8\", \"9\", \"10\", \"11\", \"12\", \"13\", \"14\", \"15\", \"16\", \"17\", \"18\", \"19\"], \"mode\": \"lines\", \"name\": \"matthews_correlation_max\", \"stepped\": true, \"type\": \"scatter\", \"data\": [0.5867308851294775, 0.5867308851294775, 0.635302579605217, 0.6395450354076364, 0.6395450354076364, 0.6395450354076364, 0.6611521697461683, 0.6611521697461683, 0.6611521697461683, 0.6611521697461683, 0.6611521697461683, 0.6613516516505922, 0.6613516516505922, 0.6613516516505922, 0.6613516516505922, 0.6613516516505922, 0.6613516516505922, 0.6613516516505922, 0.6613516516505922, 0.6809411370437884]}], \"AUC_macro\": [{\"categories\": [\"0\", \"1\", \"2\", \"3\", \"4\", \"5\", \"6\", \"7\", \"8\", \"9\", \"10\", \"11\", \"12\", \"13\", \"14\", \"15\", \"16\", \"17\", \"18\", \"19\"], \"mode\": \"markers\", \"name\": \"AUC_macro\", \"stepped\": false, \"type\": \"scatter\", \"data\": [0.8691605140432452, 0.8743019778937438, 0.9038801777844201, 0.8990609558710014, 0.9035954541405019, 0.8491280565089756, 0.908588130221412, 0.9106320149186462, 0.9154891279277493, 0.8904528875286667, 0.9049041311626504, 0.9134592908796633, 0.8869452249055356, 0.8913498314328162, 0.9124470192888842, 0.9055486098692105, 0.8917116134430157, 0.8914958644838791, 0.9039726285353563, 0.9127130249775266]}, {\"categories\": [\"0\", \"1\", \"2\", \"3\", \"4\", \"5\", \"6\", \"7\", \"8\", \"9\", \"10\", \"11\", \"12\", \"13\", \"14\", \"15\", \"16\", \"17\", \"18\", \"19\"], \"mode\": \"lines\", \"name\": \"AUC_macro_max\", \"stepped\": true, \"type\": \"scatter\", \"data\": [0.8691605140432452, 0.8743019778937438, 0.9038801777844201, 0.9038801777844201, 0.9038801777844201, 0.9038801777844201, 0.908588130221412, 0.9106320149186462, 0.9154891279277493, 0.9154891279277493, 0.9154891279277493, 0.9154891279277493, 0.9154891279277493, 0.9154891279277493, 0.9154891279277493, 0.9154891279277493, 0.9154891279277493, 0.9154891279277493, 0.9154891279277493, 0.9154891279277493]}], \"AUC_micro\": [{\"categories\": [\"0\", \"1\", \"2\", \"3\", \"4\", \"5\", \"6\", \"7\", \"8\", \"9\", \"10\", \"11\", \"12\", \"13\", \"14\", \"15\", \"16\", \"17\", \"18\", \"19\"], \"mode\": \"markers\", \"name\": \"AUC_micro\", \"stepped\": false, \"type\": \"scatter\", \"data\": [0.8752491713697035, 0.8737062617575921, 0.9033115351309384, 0.8953557884678551, 0.9029027740452088, 0.8483056152766579, 0.9084005195735914, 0.910210815491654, 0.9142993520260383, 0.8890739347248351, 0.8981218310490011, 0.9115107348681656, 0.8853381558123562, 0.890483606557377, 0.9056177700140345, 0.9070500164233032, 0.8947058287795991, 0.8888444862492163, 0.9044465794738571, 0.9129213025172443]}, {\"categories\": [\"0\", \"1\", \"2\", \"3\", \"4\", \"5\", \"6\", \"7\", \"8\", \"9\", \"10\", \"11\", \"12\", \"13\", \"14\", \"15\", \"16\", \"17\", \"18\", \"19\"], \"mode\": \"lines\", \"name\": \"AUC_micro_max\", \"stepped\": true, \"type\": \"scatter\", \"data\": [0.8752491713697035, 0.8752491713697035, 0.9033115351309384, 0.9033115351309384, 0.9033115351309384, 0.9033115351309384, 0.9084005195735914, 0.910210815491654, 0.9142993520260383, 0.9142993520260383, 0.9142993520260383, 0.9142993520260383, 0.9142993520260383, 0.9142993520260383, 0.9142993520260383, 0.9142993520260383, 0.9142993520260383, 0.9142993520260383, 0.9142993520260383, 0.9142993520260383]}], \"f1_score_micro\": [{\"categories\": [\"0\", \"1\", \"2\", \"3\", \"4\", \"5\", \"6\", \"7\", \"8\", \"9\", \"10\", \"11\", \"12\", \"13\", \"14\", \"15\", \"16\", \"17\", \"18\", \"19\"], \"mode\": \"markers\", \"name\": \"f1_score_micro\", \"stepped\": false, \"type\": \"scatter\", \"data\": [0.7953551912568305, 0.7953005464480873, 0.8217486338797814, 0.8218579234972676, 0.8051366120218578, 0.7588524590163935, 0.831584699453552, 0.825136612021858, 0.8250273224043717, 0.8153005464480874, 0.8084153005464481, 0.831584699453552, 0.7854098360655738, 0.8249726775956283, 0.821584699453552, 0.825136612021858, 0.8183060109289617, 0.7821857923497268, 0.8184153005464483, 0.8415846994535519]}, {\"categories\": [\"0\", \"1\", \"2\", \"3\", \"4\", \"5\", \"6\", \"7\", \"8\", \"9\", \"10\", \"11\", \"12\", \"13\", \"14\", \"15\", \"16\", \"17\", \"18\", \"19\"], \"mode\": \"lines\", \"name\": \"f1_score_micro_max\", \"stepped\": true, \"type\": \"scatter\", \"data\": [0.7953551912568305, 0.7953551912568305, 0.8217486338797814, 0.8218579234972676, 0.8218579234972676, 0.8218579234972676, 0.831584699453552, 0.831584699453552, 0.831584699453552, 0.831584699453552, 0.831584699453552, 0.831584699453552, 0.831584699453552, 0.831584699453552, 0.831584699453552, 0.831584699453552, 0.831584699453552, 0.831584699453552, 0.831584699453552, 0.8415846994535519]}], \"average_precision_score_micro\": [{\"categories\": [\"0\", \"1\", \"2\", \"3\", \"4\", \"5\", \"6\", \"7\", \"8\", \"9\", \"10\", \"11\", \"12\", \"13\", \"14\", \"15\", \"16\", \"17\", \"18\", \"19\"], \"mode\": \"markers\", \"name\": \"average_precision_score_micro\", \"stepped\": false, \"type\": \"scatter\", \"data\": [0.873274688000748, 0.8740330981401747, 0.9067059423296321, 0.899764218837373, 0.9067244713582381, 0.8520140613790581, 0.9083019194091133, 0.9132074532947849, 0.9139212164439489, 0.888511059886207, 0.8975935598371683, 0.9148781444295517, 0.8894406721263456, 0.8896411874488012, 0.9067209666831844, 0.9078756229427146, 0.8966378566338872, 0.8920466776132857, 0.9079451212454934, 0.9133571428093699]}, {\"categories\": [\"0\", \"1\", \"2\", \"3\", \"4\", \"5\", \"6\", \"7\", \"8\", \"9\", \"10\", \"11\", \"12\", \"13\", \"14\", \"15\", \"16\", \"17\", \"18\", \"19\"], \"mode\": \"lines\", \"name\": \"average_precision_score_micro_max\", \"stepped\": true, \"type\": \"scatter\", \"data\": [0.873274688000748, 0.8740330981401747, 0.9067059423296321, 0.9067059423296321, 0.9067244713582381, 0.9067244713582381, 0.9083019194091133, 0.9132074532947849, 0.9139212164439489, 0.9139212164439489, 0.9139212164439489, 0.9148781444295517, 0.9148781444295517, 0.9148781444295517, 0.9148781444295517, 0.9148781444295517, 0.9148781444295517, 0.9148781444295517, 0.9148781444295517, 0.9148781444295517]}], \"average_precision_score_macro\": [{\"categories\": [\"0\", \"1\", \"2\", \"3\", \"4\", \"5\", \"6\", \"7\", \"8\", \"9\", \"10\", \"11\", \"12\", \"13\", \"14\", \"15\", \"16\", \"17\", \"18\", \"19\"], \"mode\": \"markers\", \"name\": \"average_precision_score_macro\", \"stepped\": false, \"type\": \"scatter\", \"data\": [0.8681195930043959, 0.8781243756589239, 0.9077175400123743, 0.9040484857207203, 0.9070502733586551, 0.8559747189942204, 0.9109982139565256, 0.9143395007508307, 0.9164698508680962, 0.8918554433074629, 0.905700837743758, 0.9173343574284424, 0.8942251876140069, 0.892180545278935, 0.9141420138060761, 0.9089480901883557, 0.8976190036140945, 0.8954409219256408, 0.9095879750697314, 0.9148135332937228]}, {\"categories\": [\"0\", \"1\", \"2\", \"3\", \"4\", \"5\", \"6\", \"7\", \"8\", \"9\", \"10\", \"11\", \"12\", \"13\", \"14\", \"15\", \"16\", \"17\", \"18\", \"19\"], \"mode\": \"lines\", \"name\": \"average_precision_score_macro_max\", \"stepped\": true, \"type\": \"scatter\", \"data\": [0.8681195930043959, 0.8781243756589239, 0.9077175400123743, 0.9077175400123743, 0.9077175400123743, 0.9077175400123743, 0.9109982139565256, 0.9143395007508307, 0.9164698508680962, 0.9164698508680962, 0.9164698508680962, 0.9173343574284424, 0.9173343574284424, 0.9173343574284424, 0.9173343574284424, 0.9173343574284424, 0.9173343574284424, 0.9173343574284424, 0.9173343574284424, 0.9173343574284424]}]}, \"metricName\": null, \"primaryMetricName\": \"accuracy\", \"showLegend\": false}, \"run_metrics\": [{\"name\": \"experiment_status\", \"run_id\": \"AutoML_0c5b7c54-ae9a-4cc2-a643-7039cb5a0b02\", \"categories\": [0, 1, 2, 3, 4, 5, 6, 7, 8, 9, 10, 11, 12, 13], \"series\": [{\"data\": [\"DatasetEvaluation\", \"FeaturesGeneration\", \"DatasetFeaturization\", \"DatasetFeaturizationCompleted\", \"DatasetCrossValidationSplit\", \"ModelSelection\", \"BestRunExplainModel\", \"ModelExplanationDataSetSetup\", \"PickSurrogateModel\", \"EngineeredFeatureExplanations\", \"EngineeredFeatureExplanations\", \"RawFeaturesExplanations\", \"RawFeaturesExplanations\", \"BestRunExplainModel\"]}]}, {\"name\": \"experiment_status_description\", \"run_id\": \"AutoML_0c5b7c54-ae9a-4cc2-a643-7039cb5a0b02\", \"categories\": [0, 1, 2, 3, 4, 5, 6, 7, 8, 9, 10, 11, 12, 13], \"series\": [{\"data\": [\"Gathering dataset statistics.\", \"Generating features for the dataset.\", \"Beginning to fit featurizers and featurize the dataset.\", \"Completed fit featurizers and featurizing the dataset.\", \"Generating individually featurized CV splits.\", \"Beginning model selection.\", \"Best run model explanations started\", \"Model explanations data setup completed\", \"Choosing LightGBM as the surrogate model for explanations\", \"Computation of engineered features started\", \"Computation of engineered features completed\", \"Computation of raw features started\", \"Computation of raw features completed\", \"Best run model explanations completed\"]}]}, {\"name\": \"recall_score_micro\", \"run_id\": \"AutoML_0c5b7c54-ae9a-4cc2-a643-7039cb5a0b02\", \"categories\": [0], \"series\": [{\"data\": [0.8415846994535519]}]}, {\"name\": \"log_loss\", \"run_id\": \"AutoML_0c5b7c54-ae9a-4cc2-a643-7039cb5a0b02\", \"categories\": [0], \"series\": [{\"data\": [0.4048368409962387]}]}, {\"name\": \"norm_macro_recall\", \"run_id\": \"AutoML_0c5b7c54-ae9a-4cc2-a643-7039cb5a0b02\", \"categories\": [0], \"series\": [{\"data\": [0.6702430480733439]}]}, {\"name\": \"recall_score_macro\", \"run_id\": \"AutoML_0c5b7c54-ae9a-4cc2-a643-7039cb5a0b02\", \"categories\": [0], \"series\": [{\"data\": [0.8351215240366721]}]}, {\"name\": \"accuracy\", \"run_id\": \"AutoML_0c5b7c54-ae9a-4cc2-a643-7039cb5a0b02\", \"categories\": [0], \"series\": [{\"data\": [0.8415846994535519]}]}, {\"name\": \"AUC_macro\", \"run_id\": \"AutoML_0c5b7c54-ae9a-4cc2-a643-7039cb5a0b02\", \"categories\": [0], \"series\": [{\"data\": [0.9127130249775266]}]}, {\"name\": \"AUC_micro\", \"run_id\": \"AutoML_0c5b7c54-ae9a-4cc2-a643-7039cb5a0b02\", \"categories\": [0], \"series\": [{\"data\": [0.9129213025172443]}]}, {\"name\": \"f1_score_macro\", \"run_id\": \"AutoML_0c5b7c54-ae9a-4cc2-a643-7039cb5a0b02\", \"categories\": [0], \"series\": [{\"data\": [0.8364875993066423]}]}, {\"name\": \"weighted_accuracy\", \"run_id\": \"AutoML_0c5b7c54-ae9a-4cc2-a643-7039cb5a0b02\", \"categories\": [0], \"series\": [{\"data\": [0.8474209945579754]}]}, {\"name\": \"precision_score_weighted\", \"run_id\": \"AutoML_0c5b7c54-ae9a-4cc2-a643-7039cb5a0b02\", \"categories\": [0], \"series\": [{\"data\": [0.8468640852060265]}]}, {\"name\": \"f1_score_weighted\", \"run_id\": \"AutoML_0c5b7c54-ae9a-4cc2-a643-7039cb5a0b02\", \"categories\": [0], \"series\": [{\"data\": [0.8402818544143749]}]}, {\"name\": \"precision_score_macro\", \"run_id\": \"AutoML_0c5b7c54-ae9a-4cc2-a643-7039cb5a0b02\", \"categories\": [0], \"series\": [{\"data\": [0.8460340381045522]}]}, {\"name\": \"balanced_accuracy\", \"run_id\": \"AutoML_0c5b7c54-ae9a-4cc2-a643-7039cb5a0b02\", \"categories\": [0], \"series\": [{\"data\": [0.8351215240366721]}]}, {\"name\": \"matthews_correlation\", \"run_id\": \"AutoML_0c5b7c54-ae9a-4cc2-a643-7039cb5a0b02\", \"categories\": [0], \"series\": [{\"data\": [0.6809411370437884]}]}, {\"name\": \"average_precision_score_macro\", \"run_id\": \"AutoML_0c5b7c54-ae9a-4cc2-a643-7039cb5a0b02\", \"categories\": [0], \"series\": [{\"data\": [0.9148135332937228]}]}, {\"name\": \"recall_score_weighted\", \"run_id\": \"AutoML_0c5b7c54-ae9a-4cc2-a643-7039cb5a0b02\", \"categories\": [0], \"series\": [{\"data\": [0.8415846994535519]}]}, {\"name\": \"average_precision_score_micro\", \"run_id\": \"AutoML_0c5b7c54-ae9a-4cc2-a643-7039cb5a0b02\", \"categories\": [0], \"series\": [{\"data\": [0.9133571428093699]}]}, {\"name\": \"average_precision_score_weighted\", \"run_id\": \"AutoML_0c5b7c54-ae9a-4cc2-a643-7039cb5a0b02\", \"categories\": [0], \"series\": [{\"data\": [0.9172591665696721]}]}, {\"name\": \"precision_score_micro\", \"run_id\": \"AutoML_0c5b7c54-ae9a-4cc2-a643-7039cb5a0b02\", \"categories\": [0], \"series\": [{\"data\": [0.8415846994535519]}]}, {\"name\": \"AUC_weighted\", \"run_id\": \"AutoML_0c5b7c54-ae9a-4cc2-a643-7039cb5a0b02\", \"categories\": [0], \"series\": [{\"data\": [0.9127130249775266]}]}, {\"name\": \"f1_score_micro\", \"run_id\": \"AutoML_0c5b7c54-ae9a-4cc2-a643-7039cb5a0b02\", \"categories\": [0], \"series\": [{\"data\": [0.8415846994535519]}]}], \"run_logs\": \"\\nRun is completed.\", \"graph\": {}, \"widget_settings\": {\"childWidgetDisplay\": \"popup\", \"send_telemetry\": false, \"log_level\": \"INFO\", \"sdk_version\": \"1.19.0\"}, \"loading\": false}"
     },
     "metadata": {},
     "output_type": "display_data"
    }
   ],
   "source": [
    "from azureml.widgets import RunDetails\n",
    "\n",
    "RunDetails(remote_run).show()"
   ]
  },
  {
   "cell_type": "markdown",
   "metadata": {},
   "source": [
    "## Best Model\n",
    "\n",
    "TODO: In the cell below, get the best model from the automl experiments and display all the properties of the model.\n",
    "\n"
   ]
  },
  {
   "cell_type": "code",
   "execution_count": 10,
   "metadata": {
    "gather": {
     "logged": 1598431425670
    },
    "jupyter": {
     "outputs_hidden": false,
     "source_hidden": false
    },
    "nteract": {
     "transient": {
      "deleting": false
     }
    }
   },
   "outputs": [],
   "source": [
    "best_run_aml, fitted_model_aml = remote_run.get_output()\n",
    "model_name = best_run_aml.properties['model_name']"
   ]
  },
  {
   "cell_type": "code",
   "execution_count": 11,
   "metadata": {
    "gather": {
     "logged": 1598431426111
    },
    "jupyter": {
     "outputs_hidden": false,
     "source_hidden": false
    },
    "nteract": {
     "transient": {
      "deleting": false
     }
    }
   },
   "outputs": [],
   "source": [
    "#TODO: Save the best model\n",
    "best_run_aml.download_file('outputs/model.pkl', 'outputs/heart-diesease-auto-model.pkl')\n",
    "best_run_aml.download_file('outputs/scoring_file_v_1_0_0.py', 'outputs/score_aml.py')\n",
    "best_run_aml.download_file('automl_driver.py', 'outputs/automl_driver.py')"
   ]
  },
  {
   "cell_type": "markdown",
   "metadata": {},
   "source": [
    "## Auto ML Evaluation"
   ]
  },
  {
   "cell_type": "code",
   "execution_count": 12,
   "metadata": {},
   "outputs": [],
   "source": [
    "import pickle\n",
    "file = open(\"outputs/heart-diesease-auto-model.pkl\",'rb')\n",
    "aml_model = pickle.load(file)\n",
    "file.close()"
   ]
  },
  {
   "cell_type": "code",
   "execution_count": 15,
   "metadata": {},
   "outputs": [
    {
     "name": "stdout",
     "output_type": "stream",
     "text": [
      "0.933993399339934\n"
     ]
    }
   ],
   "source": [
    "from train import clean_data\n",
    "from sklearn.metrics import accuracy_score\n",
    "import pandas as pd\n",
    "\n",
    "\n",
    "factory = TabularDatasetFactory()\n",
    "test_data_path = \"https://raw.githubusercontent.com/KrishnaB22/Azure-ML-Capstone/main/dataset/heart.csv\"\n",
    "test_ds = pd.read_csv(test_data_path)\n",
    "y_test = test_ds[['target']]\n",
    "print(accuracy_score(aml_model.predict(test_ds.drop(columns=['target'])), y_test))"
   ]
  },
  {
   "cell_type": "code",
   "execution_count": 17,
   "metadata": {},
   "outputs": [
    {
     "name": "stdout",
     "output_type": "stream",
     "text": [
      "              precision    recall  f1-score   support\n",
      "\n",
      "           0       0.95      0.90      0.93       138\n",
      "           1       0.92      0.96      0.94       165\n",
      "\n",
      "    accuracy                           0.93       303\n",
      "   macro avg       0.94      0.93      0.93       303\n",
      "weighted avg       0.93      0.93      0.93       303\n",
      "\n"
     ]
    }
   ],
   "source": [
    "from sklearn.metrics import classification_report\n",
    "print(classification_report(y_test, aml_model.predict(test_ds.drop(columns=['target']))))"
   ]
  },
  {
   "cell_type": "markdown",
   "metadata": {},
   "source": [
    "### The AutoML model has an acccuracy of 93%."
   ]
  },
  {
   "cell_type": "markdown",
   "metadata": {},
   "source": [
    "### As the AutoML model has higher accuracy we deploy the AutoML model "
   ]
  },
  {
   "cell_type": "markdown",
   "metadata": {},
   "source": [
    "## Model Deployment\n",
    "\n",
    "Remember you have to deploy only one of the two models you trained.. Perform the steps in the rest of this notebook only if you wish to deploy this model.\n",
    "\n",
    "TODO: In the cell below, register the model, create an inference config and deploy the model as a web service."
   ]
  },
  {
   "cell_type": "code",
   "execution_count": 9,
   "metadata": {},
   "outputs": [
    {
     "name": "stdout",
     "output_type": "stream",
     "text": [
      "Registering model automl_cap\n"
     ]
    }
   ],
   "source": [
    "from azureml.core.model import Model\n",
    "\n",
    "model = Model.register(workspace = ws,\n",
    "                        model_path =\"heart-diesease-auto-model.pkl\",\n",
    "                        model_name = \"automl_cap\")"
   ]
  },
  {
   "cell_type": "code",
   "execution_count": 10,
   "metadata": {},
   "outputs": [
    {
     "name": "stdout",
     "output_type": "stream",
     "text": [
      "automl_cap\n"
     ]
    }
   ],
   "source": [
    "print(model.name)"
   ]
  },
  {
   "cell_type": "markdown",
   "metadata": {},
   "source": [
    "### Inference configuration"
   ]
  },
  {
   "cell_type": "code",
   "execution_count": 78,
   "metadata": {
    "gather": {
     "logged": 1598431435189
    },
    "jupyter": {
     "outputs_hidden": false,
     "source_hidden": false
    },
    "nteract": {
     "transient": {
      "deleting": false
     }
    }
   },
   "outputs": [],
   "source": [
    "from azureml.core.environment import Environment\n",
    "from azureml.core.model import InferenceConfig\n",
    "\n",
    "\n",
    "env = Environment.from_conda_specification(name='myenv',file_path = 'env.yml')\n",
    "\n",
    "# for pip_package in [\"scikit-learn\", \"py-xgboost\", \"xgboost\"]:\n",
    "#     env.python.conda_dependencies.add_pip_package(pip_package)\n",
    "\n",
    "# env.python.conda_dependencies(\"xgboost\")\n",
    "\n",
    "inference_config = InferenceConfig(entry_script='./score.py',\n",
    "                                    environment=env)"
   ]
  },
  {
   "cell_type": "code",
   "execution_count": 79,
   "metadata": {},
   "outputs": [
    {
     "name": "stdout",
     "output_type": "stream",
     "text": [
      "packages channels:\n",
      "- anaconda\n",
      "- conda-forge\n",
      "dependencies:\n",
      "- pip\n",
      "- python=3.6.2\n",
      "- pip:\n",
      "  - azureml-core==1.19.0\n",
      "  - azureml-defaults==1.19.0\n",
      "  - azureml-telemetry==1.19.0\n",
      "  - azureml-train-restclients-hyperdrive==1.19.0\n",
      "  - azureml-train-core==1.19.0\n",
      "  - azureml-widgets==1.19.0\n",
      "  - azureml-pipeline-core==1.19.0\n",
      "  - azureml-pipeline-steps==1.19.0\n",
      "  - azureml-opendatasets==1.19.0\n",
      "  - azureml-automl-core==1.19.0\n",
      "  - azureml-automl-runtime==1.19.0\n",
      "  - azureml-train-automl-client==1.19.0\n",
      "  - azureml-train-automl-runtime==1.19.0\n",
      "  - azureml-train-automl==1.19.0\n",
      "  - azureml-train==1.19.0\n",
      "  - azureml-sdk==1.19.0\n",
      "  - azureml-interpret==1.19.0\n",
      "  - azureml-tensorboard==1.19.0\n",
      "  - azureml-mlflow==1.19.0\n",
      "  - mlflow\n",
      "  - sklearn-pandas\n",
      "  - scikit-learn\n",
      "- pandas\n",
      "- numpy\n",
      "- tqdm\n",
      "- py-xgboost\n",
      "- joblib\n",
      "- xgboost\n",
      "- scikit-learn\n",
      "- matplotlib\n",
      "name: azureml_a1736710baabf05d37337a101fa8d6d1\n",
      "\n"
     ]
    }
   ],
   "source": [
    "f = open(\"envnew.yml\", \"w\")\n",
    "f.write(env.python.conda_dependencies.serialize_to_string())\n",
    "f.close()\n",
    "\n",
    "print(\"packages\", env.python.conda_dependencies.serialize_to_string())"
   ]
  },
  {
   "cell_type": "code",
   "execution_count": 85,
   "metadata": {},
   "outputs": [
    {
     "name": "stdout",
     "output_type": "stream",
     "text": [
      "Healthy\n"
     ]
    }
   ],
   "source": [
    "from azureml.core.webservice import AciWebservice,Webservice\n",
    "from azureml.core.model import Model\n",
    "\n",
    "deployment_config = AciWebservice.deploy_configuration(cpu_cores = 1, memory_gb = 1,enable_app_insights = True)\n",
    "service = Model.deploy(ws, \"autodeploy5\", [model], inference_config, deployment_config)\n",
    "service.wait_for_deployment(show_output = True)\n",
    "print(service.state)"
   ]
  },
  {
   "cell_type": "code",
   "execution_count": 86,
   "metadata": {},
   "outputs": [
    {
     "name": "stdout",
     "output_type": "stream",
     "text": [
      "2020-12-30T16:47:56,391733140+00:00 - rsyslog/run \n",
      "2020-12-30T16:47:56,393032445+00:00 - gunicorn/run \n",
      "rsyslogd: /azureml-envs/azureml_afca42347aeb1ef9abd9ee384fe31fec/lib/libuuid.so.1: no version information available (required by rsyslogd)\n",
      "2020-12-30T16:47:56,394137949+00:00 - iot-server/run \n",
      "2020-12-30T16:47:56,404770891+00:00 - nginx/run \n",
      "/usr/sbin/nginx: /azureml-envs/azureml_afca42347aeb1ef9abd9ee384fe31fec/lib/libcrypto.so.1.0.0: no version information available (required by /usr/sbin/nginx)\n",
      "/usr/sbin/nginx: /azureml-envs/azureml_afca42347aeb1ef9abd9ee384fe31fec/lib/libcrypto.so.1.0.0: no version information available (required by /usr/sbin/nginx)\n",
      "/usr/sbin/nginx: /azureml-envs/azureml_afca42347aeb1ef9abd9ee384fe31fec/lib/libssl.so.1.0.0: no version information available (required by /usr/sbin/nginx)\n",
      "/usr/sbin/nginx: /azureml-envs/azureml_afca42347aeb1ef9abd9ee384fe31fec/lib/libssl.so.1.0.0: no version information available (required by /usr/sbin/nginx)\n",
      "/usr/sbin/nginx: /azureml-envs/azureml_afca42347aeb1ef9abd9ee384fe31fec/lib/libssl.so.1.0.0: no version information available (required by /usr/sbin/nginx)\n",
      "EdgeHubConnectionString and IOTEDGE_IOTHUBHOSTNAME are not set. Exiting...\n",
      "2020-12-30T16:47:56,605451574+00:00 - iot-server/finish 1 0\n",
      "2020-12-30T16:47:56,607093481+00:00 - Exit code 1 is normal. Not restarting iot-server.\n",
      "Starting gunicorn 19.9.0\n",
      "Listening at: http://127.0.0.1:31311 (14)\n",
      "Using worker: sync\n",
      "worker timeout is set to 300\n",
      "Booting worker with pid: 42\n",
      "SPARK_HOME not set. Skipping PySpark Initialization.\n",
      "Initializing logger\n",
      "2020-12-30 16:47:57,368 | root | INFO | Starting up app insights client\n",
      "Starting up app insights client\n",
      "2020-12-30 16:47:57,368 | root | INFO | Starting up request id generator\n",
      "Starting up request id generator\n",
      "2020-12-30 16:47:57,368 | root | INFO | Starting up app insight hooks\n",
      "Starting up app insight hooks\n",
      "2020-12-30 16:47:57,368 | root | INFO | Invoking user's init function\n",
      "Invoking user's init function\n",
      "2020-12-30 16:48:00,207 | root | INFO | Users's init has completed successfully\n",
      "Users's init has completed successfully\n",
      "2020-12-30 16:48:00,210 | root | INFO | Skipping middleware: dbg_model_info as it's not enabled.\n",
      "Skipping middleware: dbg_model_info as it's not enabled.\n",
      "2020-12-30 16:48:00,210 | root | INFO | Skipping middleware: dbg_resource_usage as it's not enabled.\n",
      "Skipping middleware: dbg_resource_usage as it's not enabled.\n",
      "2020-12-30 16:48:00,211 | root | INFO | Scoring timeout is found from os.environ: 60000 ms\n",
      "Scoring timeout is found from os.environ: 60000 ms\n",
      "2020-12-30 16:48:10,063 | root | INFO | Swagger file not present\n",
      "Swagger file not present\n",
      "2020-12-30 16:48:10,064 | root | INFO | 404\n",
      "404\n",
      "127.0.0.1 - - [30/Dec/2020:16:48:10 +0000] \"GET /swagger.json HTTP/1.0\" 404 19 \"-\" \"Go-http-client/1.1\"\n",
      "2020-12-30 16:49:49,547 | root | INFO | Swagger file not present\n",
      "Swagger file not present\n",
      "2020-12-30 16:49:49,547 | root | INFO | 404\n",
      "404\n",
      "127.0.0.1 - - [30/Dec/2020:16:49:49 +0000] \"GET /swagger.json HTTP/1.0\" 404 19 \"-\" \"Go-http-client/1.1\"\n",
      "2020-12-30 16:52:24,535 | root | INFO | Swagger file not present\n",
      "Swagger file not present\n",
      "2020-12-30 16:52:24,535 | root | INFO | 404\n",
      "404\n",
      "127.0.0.1 - - [30/Dec/2020:16:52:24 +0000] \"GET /swagger.json HTTP/1.0\" 404 19 \"-\" \"Go-http-client/1.1\"\n",
      "\n"
     ]
    }
   ],
   "source": [
    "logs = service.get_logs()\n",
    "for line in logs.split('\\n'):\n",
    "    print(line)"
   ]
  },
  {
   "cell_type": "markdown",
   "metadata": {
    "collapsed": true,
    "gather": {
     "logged": 1598431657736
    },
    "jupyter": {
     "outputs_hidden": false,
     "source_hidden": false
    },
    "nteract": {
     "transient": {
      "deleting": false
     }
    }
   },
   "source": [
    "TODO: In the cell below, send a request to the web service you deployed to test it."
   ]
  },
  {
   "cell_type": "code",
   "execution_count": 93,
   "metadata": {
    "gather": {
     "logged": 1598432707604
    },
    "jupyter": {
     "outputs_hidden": false,
     "source_hidden": false
    },
    "nteract": {
     "transient": {
      "deleting": false
     }
    }
   },
   "outputs": [
    {
     "name": "stdout",
     "output_type": "stream",
     "text": [
      "Must pass 2-d input\n"
     ]
    }
   ],
   "source": [
    "import json\n",
    "\n",
    "\n",
    "data= ({'data':test_ds[0:3].to_dict(orient='records'),'method':'predict'})\n",
    "test_sample=json.dumps(data)\n",
    "#test_sampole = json.dumps({'data': test_ds[0:2].tolist(),'method': 'predict'})\n",
    "output= service.run(test_sample)\n",
    "print(output)"
   ]
  },
  {
   "cell_type": "code",
   "execution_count": 96,
   "metadata": {},
   "outputs": [
    {
     "name": "stdout",
     "output_type": "stream",
     "text": [
      "Must pass 2-d input\n"
     ]
    }
   ],
   "source": [
    "data = {\"data\":\n",
    "        [\n",
    "          {\n",
    "            \"age\": 63,\n",
    "            \"sex\": 1,\n",
    "            \"cp\": 3,\n",
    "            \"trestbps\": 145,\n",
    "            \"chol\": 233,\n",
    "            \"fbs\": 1,\n",
    "            \"restecg\": 0,\n",
    "            \"thalach\": 150,\n",
    "            \"exang\": 0,\n",
    "            \"oldpeak\": 2.3,\n",
    "            \"slope\": 0,\n",
    "            \"ca\": 0,\n",
    "            \"thal\": 1,\n",
    "          }\n",
    "      ],\n",
    "    'method':'predict'}\n",
    "test_sample = json.dumps(data)\n",
    "output= service.run(test_sample)\n",
    "print(output)"
   ]
  },
  {
   "cell_type": "code",
   "execution_count": 99,
   "metadata": {},
   "outputs": [
    {
     "name": "stdout",
     "output_type": "stream",
     "text": [
      "Must pass 2-d input\n"
     ]
    }
   ],
   "source": [
    "import requests\n",
    "scoring_uri='http://1b429716-b927-4b0e-97e9-1ee8e766018b.southcentralus.azurecontainer.io/score'\n",
    "key=''\n",
    "headers = {'Content-Type': 'application/json'}\n",
    "# If authentication is enabled, set the authorization header\n",
    "#headers['Authorization'] = f'Bearer {key}'\n",
    "data = {\"data\":\n",
    "        [\n",
    "          {\n",
    "            \"age\": 63,\n",
    "            \"sex\": 1,\n",
    "            \"cp\": 3,\n",
    "            \"trestbps\": 145,\n",
    "            \"chol\": 233,\n",
    "            \"fbs\": 1,\n",
    "            \"restecg\": 0,\n",
    "            \"thalach\": 150,\n",
    "            \"exang\": 0,\n",
    "            \"oldpeak\": 2.3,\n",
    "            \"slope\": 0,\n",
    "            \"ca\": 0,\n",
    "            \"thal\": 1,\n",
    "          }\n",
    "      ]\n",
    "    }\n",
    "test_sample = json.dumps(data)\n",
    "\n",
    "\n",
    "resp = requests.post(scoring_uri, test_sample, headers=headers)\n",
    "print(resp.json())"
   ]
  },
  {
   "cell_type": "markdown",
   "metadata": {
    "collapsed": true,
    "gather": {
     "logged": 1598432765711
    },
    "jupyter": {
     "outputs_hidden": false,
     "source_hidden": false
    },
    "nteract": {
     "transient": {
      "deleting": false
     }
    }
   },
   "source": [
    "TODO: In the cell below, print the logs of the web service and delete the service"
   ]
  },
  {
   "cell_type": "code",
   "execution_count": 17,
   "metadata": {
    "jupyter": {
     "outputs_hidden": false,
     "source_hidden": false
    },
    "nteract": {
     "transient": {
      "deleting": false
     }
    }
   },
   "outputs": [
    {
     "name": "stdout",
     "output_type": "stream",
     "text": [
      "automl_cap\n",
      "<function Model.get_model_path at 0x7f24ce9c0950>\n"
     ]
    }
   ],
   "source": [
    "print(model.name)\n",
    "print(model.get_model_path)"
   ]
  },
  {
   "cell_type": "code",
   "execution_count": 19,
   "metadata": {},
   "outputs": [],
   "source": [
    "path=Model.get_model_path(model_name=model.name, version=None, _workspace=ws)"
   ]
  },
  {
   "cell_type": "code",
   "execution_count": 20,
   "metadata": {},
   "outputs": [
    {
     "name": "stdout",
     "output_type": "stream",
     "text": [
      "azureml-models/automl_cap/1/heart-diesease-auto-model.pkl\n"
     ]
    }
   ],
   "source": [
    "print(path)"
   ]
  },
  {
   "cell_type": "code",
   "execution_count": null,
   "metadata": {},
   "outputs": [],
   "source": []
  },
  {
   "cell_type": "code",
   "execution_count": null,
   "metadata": {},
   "outputs": [],
   "source": []
  },
  {
   "cell_type": "code",
   "execution_count": null,
   "metadata": {},
   "outputs": [],
   "source": [
    "payload = json.dumps({\n",
    "    'data': test_ds[0:2].tolist(),\n",
    "    'method': 'predict'\n",
    "})"
   ]
  },
  {
   "cell_type": "code",
   "execution_count": null,
   "metadata": {},
   "outputs": [],
   "source": []
  }
 ],
 "metadata": {
  "kernel_info": {
   "name": "python3-azureml"
  },
  "kernelspec": {
   "display_name": "Python 3",
   "language": "python",
   "name": "python3"
  },
  "nteract": {
   "version": "nteract-front-end@1.0.0"
  },
  "toc": {
   "base_numbering": 1,
   "nav_menu": {},
   "number_sections": true,
   "sideBar": true,
   "skip_h1_title": false,
   "title_cell": "Table of Contents",
   "title_sidebar": "Contents",
   "toc_cell": false,
   "toc_position": {},
   "toc_section_display": true,
   "toc_window_display": false
  }
 },
 "nbformat": 4,
 "nbformat_minor": 2
}
