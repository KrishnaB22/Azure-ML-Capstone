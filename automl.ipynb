{
 "cells": [
  {
   "cell_type": "markdown",
   "metadata": {},
   "source": [
    "# Automated ML\n",
    "\n",
    "TODO: Import Dependencies. In the cell below, import all the dependencies that you will need to complete the project."
   ]
  },
  {
   "cell_type": "code",
   "execution_count": 1,
   "metadata": {
    "gather": {
     "logged": 1598423888013
    },
    "jupyter": {
     "outputs_hidden": false,
     "source_hidden": false
    },
    "nteract": {
     "transient": {
      "deleting": false
     }
    }
   },
   "outputs": [],
   "source": [
    "from azureml.core import Workspace, Experiment\n",
    "from azureml.data.dataset_factory import TabularDatasetFactory\n",
    "from azureml.train.automl import AutoMLConfig"
   ]
  },
  {
   "cell_type": "markdown",
   "metadata": {},
   "source": [
    "## Dataset\n",
    "\n",
    "### Overview\n",
    "TODO: In this markdown cell, give an overview of the dataset you are using. Also mention the task you will be performing.\n",
    "\n",
    "\n",
    "TODO: Get data. In the cell below, write code to access the data you will be using in this project. Remember that the dataset needs to be external."
   ]
  },
  {
   "cell_type": "code",
   "execution_count": 2,
   "metadata": {
    "gather": {
     "logged": 1598423890461
    },
    "jupyter": {
     "outputs_hidden": false,
     "source_hidden": false
    },
    "nteract": {
     "transient": {
      "deleting": false
     }
    }
   },
   "outputs": [],
   "source": [
    "ws = Workspace.from_config()\n",
    "\n",
    "# choose a name for experiment\n",
    "experiment_name = 'mlexpauto'\n",
    "\n",
    "experiment=Experiment(ws, experiment_name)"
   ]
  },
  {
   "cell_type": "markdown",
   "metadata": {},
   "source": [
    "## Creating Compute"
   ]
  },
  {
   "cell_type": "code",
   "execution_count": 4,
   "metadata": {},
   "outputs": [
    {
     "name": "stdout",
     "output_type": "stream",
     "text": [
      "Found existing cluster, use it.\n"
     ]
    }
   ],
   "source": [
    "from azureml.core.compute import ComputeTarget, AmlCompute\n",
    "\n",
    "amlcompute_cluster_name = \"capprocompute\"\n",
    "\n",
    "# Verify that cluster does not exist already\n",
    "try:\n",
    "    aml_compute = ComputeTarget(workspace=ws, name=amlcompute_cluster_name)\n",
    "    print('Found existing cluster, use it.')\n",
    "except ComputeTargetException:\n",
    "    compute_config = AmlCompute.provisioning_configuration(vm_size='STANDARD_D2_V2',\n",
    "                                                           max_nodes=4)\n",
    "    aml_compute = ComputeTarget.create(ws, amlcompute_cluster_name, compute_config)"
   ]
  },
  {
   "cell_type": "markdown",
   "metadata": {},
   "source": [
    "## AutoML Configuration\n",
    "\n",
    "TODO: Explain why you chose the automl settings and cofiguration you used below."
   ]
  },
  {
   "cell_type": "code",
   "execution_count": 5,
   "metadata": {},
   "outputs": [],
   "source": [
    "factory = TabularDatasetFactory()\n",
    "url = 'https://raw.githubusercontent.com/KrishnaB22/Azure-ML-Capstone/main/dataset/heart.csv'\n",
    "trainds = factory.from_delimited_files(url)"
   ]
  },
  {
   "cell_type": "code",
   "execution_count": 6,
   "metadata": {
    "gather": {
     "logged": 1598429217746
    },
    "jupyter": {
     "outputs_hidden": false,
     "source_hidden": false
    },
    "nteract": {
     "transient": {
      "deleting": false
     }
    }
   },
   "outputs": [],
   "source": [
    "# TODO: Put your automl settings here\n",
    "automl_settings = {\n",
    "    \"enable_early_stopping\" : True,\n",
    "    \"primary_metric\": 'accuracy',\n",
    "    \"featurization\": 'auto',\n",
    "}\n",
    "\n",
    "# TODO: Put your automl config here\n",
    "automl_config = AutoMLConfig(experiment_timeout_minutes=20,\n",
    "                             task = 'classification',\n",
    "                             compute_target=aml_compute,\n",
    "                             experiment_exit_score = 0.9984,\n",
    "                             blocked_models = ['KNN','LinearSVM'],\n",
    "                             enable_onnx_compatible_models=True,\n",
    "                             training_data = trainds,\n",
    "                             label_column_name = 'target',\n",
    "                             n_cross_validations=5,\n",
    "                             **automl_settings\n",
    "                            )"
   ]
  },
  {
   "cell_type": "code",
   "execution_count": 7,
   "metadata": {
    "gather": {
     "logged": 1598431107951
    },
    "jupyter": {
     "outputs_hidden": false,
     "source_hidden": false
    },
    "nteract": {
     "transient": {
      "deleting": false
     }
    }
   },
   "outputs": [
    {
     "name": "stdout",
     "output_type": "stream",
     "text": [
      "Running on remote.\n"
     ]
    }
   ],
   "source": [
    "# TODO: Submit your experiment\n",
    "remote_run = experiment.submit(automl_config)"
   ]
  },
  {
   "cell_type": "markdown",
   "metadata": {},
   "source": [
    "## Run Details\n",
    "\n",
    "OPTIONAL: Write about the different models trained and their performance. Why do you think some models did better than others?\n",
    "\n",
    "TODO: In the cell below, use the `RunDetails` widget to show the different experiments."
   ]
  },
  {
   "cell_type": "code",
   "execution_count": 9,
   "metadata": {
    "gather": {
     "logged": 1598431121770
    },
    "jupyter": {
     "outputs_hidden": false,
     "source_hidden": false
    },
    "nteract": {
     "transient": {
      "deleting": false
     }
    }
   },
   "outputs": [
    {
     "data": {
      "application/vnd.jupyter.widget-view+json": {
       "model_id": "c37dafca99ff495fa945e0476dfc377a",
       "version_major": 2,
       "version_minor": 0
      },
      "text/plain": [
       "_AutoMLWidget(widget_settings={'childWidgetDisplay': 'popup', 'send_telemetry': False, 'log_level': 'INFO', 's…"
      ]
     },
     "metadata": {},
     "output_type": "display_data"
    },
    {
     "data": {
      "application/aml.mini.widget.v1": "{\"status\": \"Completed\", \"workbench_run_details_uri\": \"https://ml.azure.com/experiments/mlexpauto/runs/AutoML_e43a3ec5-770a-4d7f-b745-a9f0f53e4b82?wsid=/subscriptions/6971f5ac-8af1-446e-8034-05acea24681f/resourcegroups/aml-quickstarts-132450/workspaces/quick-starts-ws-132450\", \"run_id\": \"AutoML_e43a3ec5-770a-4d7f-b745-a9f0f53e4b82\", \"run_properties\": {\"run_id\": \"AutoML_e43a3ec5-770a-4d7f-b745-a9f0f53e4b82\", \"created_utc\": \"2020-12-30T08:53:09.96982Z\", \"properties\": {\"num_iterations\": \"1000\", \"training_type\": \"TrainFull\", \"acquisition_function\": \"EI\", \"primary_metric\": \"accuracy\", \"train_split\": \"0\", \"acquisition_parameter\": \"0\", \"num_cross_validation\": \"5\", \"target\": \"capprocompute\", \"AMLSettingsJsonString\": \"{\\\"path\\\":null,\\\"name\\\":\\\"mlexpauto\\\",\\\"subscription_id\\\":\\\"6971f5ac-8af1-446e-8034-05acea24681f\\\",\\\"resource_group\\\":\\\"aml-quickstarts-132450\\\",\\\"workspace_name\\\":\\\"quick-starts-ws-132450\\\",\\\"region\\\":\\\"southcentralus\\\",\\\"compute_target\\\":\\\"capprocompute\\\",\\\"spark_service\\\":null,\\\"azure_service\\\":\\\"remote\\\",\\\"many_models\\\":false,\\\"pipeline_fetch_max_batch_size\\\":1,\\\"iterations\\\":1000,\\\"primary_metric\\\":\\\"accuracy\\\",\\\"task_type\\\":\\\"classification\\\",\\\"data_script\\\":null,\\\"validation_size\\\":0.0,\\\"n_cross_validations\\\":5,\\\"y_min\\\":null,\\\"y_max\\\":null,\\\"num_classes\\\":null,\\\"featurization\\\":\\\"auto\\\",\\\"_ignore_package_version_incompatibilities\\\":false,\\\"is_timeseries\\\":false,\\\"max_cores_per_iteration\\\":1,\\\"max_concurrent_iterations\\\":1,\\\"iteration_timeout_minutes\\\":null,\\\"mem_in_mb\\\":null,\\\"enforce_time_on_windows\\\":false,\\\"experiment_timeout_minutes\\\":20,\\\"experiment_exit_score\\\":0.9984,\\\"whitelist_models\\\":null,\\\"blacklist_algos\\\":[\\\"KNN\\\",\\\"LinearSVM\\\",\\\"TensorFlowLinearClassifier\\\",\\\"TensorFlowDNN\\\"],\\\"supported_models\\\":[\\\"LinearSVM\\\",\\\"TensorFlowDNN\\\",\\\"SGD\\\",\\\"BernoulliNaiveBayes\\\",\\\"XGBoostClassifier\\\",\\\"SVM\\\",\\\"KNN\\\",\\\"LogisticRegression\\\",\\\"MultinomialNaiveBayes\\\",\\\"DecisionTree\\\",\\\"ExtremeRandomTrees\\\",\\\"TensorFlowLinearClassifier\\\",\\\"LightGBM\\\",\\\"AveragedPerceptronClassifier\\\",\\\"RandomForest\\\",\\\"GradientBoosting\\\"],\\\"auto_blacklist\\\":true,\\\"blacklist_samples_reached\\\":false,\\\"exclude_nan_labels\\\":true,\\\"verbosity\\\":20,\\\"_debug_log\\\":\\\"azureml_automl.log\\\",\\\"show_warnings\\\":false,\\\"model_explainability\\\":true,\\\"service_url\\\":null,\\\"sdk_url\\\":null,\\\"sdk_packages\\\":null,\\\"enable_onnx_compatible_models\\\":true,\\\"enable_split_onnx_featurizer_estimator_models\\\":false,\\\"vm_type\\\":\\\"STANDARD_DS3_V2\\\",\\\"telemetry_verbosity\\\":20,\\\"send_telemetry\\\":true,\\\"enable_dnn\\\":false,\\\"scenario\\\":\\\"SDK-1.13.0\\\",\\\"environment_label\\\":null,\\\"force_text_dnn\\\":false,\\\"enable_feature_sweeping\\\":false,\\\"enable_early_stopping\\\":true,\\\"early_stopping_n_iters\\\":10,\\\"metrics\\\":null,\\\"enable_ensembling\\\":true,\\\"enable_stack_ensembling\\\":false,\\\"ensemble_iterations\\\":15,\\\"enable_tf\\\":false,\\\"enable_subsampling\\\":null,\\\"subsample_seed\\\":null,\\\"enable_nimbusml\\\":false,\\\"enable_streaming\\\":false,\\\"force_streaming\\\":false,\\\"track_child_runs\\\":true,\\\"allowed_private_models\\\":[],\\\"label_column_name\\\":\\\"target\\\",\\\"weight_column_name\\\":null,\\\"cv_split_column_names\\\":null,\\\"enable_local_managed\\\":false,\\\"_local_managed_run_id\\\":null,\\\"cost_mode\\\":1,\\\"lag_length\\\":0,\\\"metric_operation\\\":\\\"maximize\\\",\\\"preprocess\\\":true}\", \"DataPrepJsonString\": \"{\\\\\\\"training_data\\\\\\\": \\\\\\\"{\\\\\\\\\\\\\\\"blocks\\\\\\\\\\\\\\\": [{\\\\\\\\\\\\\\\"id\\\\\\\\\\\\\\\": \\\\\\\\\\\\\\\"8693cbef-999e-41df-ab85-f9f3ba76095e\\\\\\\\\\\\\\\", \\\\\\\\\\\\\\\"type\\\\\\\\\\\\\\\": \\\\\\\\\\\\\\\"Microsoft.DPrep.GetFilesBlock\\\\\\\\\\\\\\\", \\\\\\\\\\\\\\\"arguments\\\\\\\\\\\\\\\": {\\\\\\\\\\\\\\\"isArchive\\\\\\\\\\\\\\\": false, \\\\\\\\\\\\\\\"path\\\\\\\\\\\\\\\": {\\\\\\\\\\\\\\\"target\\\\\\\\\\\\\\\": 4, \\\\\\\\\\\\\\\"resourceDetails\\\\\\\\\\\\\\\": [{\\\\\\\\\\\\\\\"path\\\\\\\\\\\\\\\": \\\\\\\\\\\\\\\"https://raw.githubusercontent.com/KrishnaB22/Azure-ML-Capstone/main/dataset/heart.csv\\\\\\\\\\\\\\\"}]}}, \\\\\\\\\\\\\\\"localData\\\\\\\\\\\\\\\": {}, \\\\\\\\\\\\\\\"isEnabled\\\\\\\\\\\\\\\": true, \\\\\\\\\\\\\\\"name\\\\\\\\\\\\\\\": null, \\\\\\\\\\\\\\\"annotation\\\\\\\\\\\\\\\": null}, {\\\\\\\\\\\\\\\"id\\\\\\\\\\\\\\\": \\\\\\\\\\\\\\\"964cfabd-c1b5-4f1c-b6d4-a269d39904ab\\\\\\\\\\\\\\\", \\\\\\\\\\\\\\\"type\\\\\\\\\\\\\\\": \\\\\\\\\\\\\\\"Microsoft.DPrep.ParseDelimitedBlock\\\\\\\\\\\\\\\", \\\\\\\\\\\\\\\"arguments\\\\\\\\\\\\\\\": {\\\\\\\\\\\\\\\"columnHeadersMode\\\\\\\\\\\\\\\": 3, \\\\\\\\\\\\\\\"fileEncoding\\\\\\\\\\\\\\\": 0, \\\\\\\\\\\\\\\"handleQuotedLineBreaks\\\\\\\\\\\\\\\": false, \\\\\\\\\\\\\\\"preview\\\\\\\\\\\\\\\": false, \\\\\\\\\\\\\\\"separator\\\\\\\\\\\\\\\": \\\\\\\\\\\\\\\",\\\\\\\\\\\\\\\", \\\\\\\\\\\\\\\"skipRows\\\\\\\\\\\\\\\": 0, \\\\\\\\\\\\\\\"skipRowsMode\\\\\\\\\\\\\\\": 0}, \\\\\\\\\\\\\\\"localData\\\\\\\\\\\\\\\": {}, \\\\\\\\\\\\\\\"isEnabled\\\\\\\\\\\\\\\": true, \\\\\\\\\\\\\\\"name\\\\\\\\\\\\\\\": null, \\\\\\\\\\\\\\\"annotation\\\\\\\\\\\\\\\": null}, {\\\\\\\\\\\\\\\"id\\\\\\\\\\\\\\\": \\\\\\\\\\\\\\\"ba7cde25-d4cc-4736-8f82-4d59625e403a\\\\\\\\\\\\\\\", \\\\\\\\\\\\\\\"type\\\\\\\\\\\\\\\": \\\\\\\\\\\\\\\"Microsoft.DPrep.DropColumnsBlock\\\\\\\\\\\\\\\", \\\\\\\\\\\\\\\"arguments\\\\\\\\\\\\\\\": {\\\\\\\\\\\\\\\"columns\\\\\\\\\\\\\\\": {\\\\\\\\\\\\\\\"type\\\\\\\\\\\\\\\": 0, \\\\\\\\\\\\\\\"details\\\\\\\\\\\\\\\": {\\\\\\\\\\\\\\\"selectedColumns\\\\\\\\\\\\\\\": [\\\\\\\\\\\\\\\"Path\\\\\\\\\\\\\\\"]}}}, \\\\\\\\\\\\\\\"localData\\\\\\\\\\\\\\\": {}, \\\\\\\\\\\\\\\"isEnabled\\\\\\\\\\\\\\\": true, \\\\\\\\\\\\\\\"name\\\\\\\\\\\\\\\": null, \\\\\\\\\\\\\\\"annotation\\\\\\\\\\\\\\\": null}, {\\\\\\\\\\\\\\\"id\\\\\\\\\\\\\\\": \\\\\\\\\\\\\\\"2a3a0d2f-f329-4dec-90d8-2bd0174a76a1\\\\\\\\\\\\\\\", \\\\\\\\\\\\\\\"type\\\\\\\\\\\\\\\": \\\\\\\\\\\\\\\"Microsoft.DPrep.SetColumnTypesBlock\\\\\\\\\\\\\\\", \\\\\\\\\\\\\\\"arguments\\\\\\\\\\\\\\\": {\\\\\\\\\\\\\\\"columnConversion\\\\\\\\\\\\\\\": [{\\\\\\\\\\\\\\\"column\\\\\\\\\\\\\\\": {\\\\\\\\\\\\\\\"type\\\\\\\\\\\\\\\": 2, \\\\\\\\\\\\\\\"details\\\\\\\\\\\\\\\": {\\\\\\\\\\\\\\\"selectedColumn\\\\\\\\\\\\\\\": \\\\\\\\\\\\\\\"age\\\\\\\\\\\\\\\"}}, \\\\\\\\\\\\\\\"typeProperty\\\\\\\\\\\\\\\": 2}, {\\\\\\\\\\\\\\\"column\\\\\\\\\\\\\\\": {\\\\\\\\\\\\\\\"type\\\\\\\\\\\\\\\": 2, \\\\\\\\\\\\\\\"details\\\\\\\\\\\\\\\": {\\\\\\\\\\\\\\\"selectedColumn\\\\\\\\\\\\\\\": \\\\\\\\\\\\\\\"sex\\\\\\\\\\\\\\\"}}, \\\\\\\\\\\\\\\"typeProperty\\\\\\\\\\\\\\\": 2}, {\\\\\\\\\\\\\\\"column\\\\\\\\\\\\\\\": {\\\\\\\\\\\\\\\"type\\\\\\\\\\\\\\\": 2, \\\\\\\\\\\\\\\"details\\\\\\\\\\\\\\\": {\\\\\\\\\\\\\\\"selectedColumn\\\\\\\\\\\\\\\": \\\\\\\\\\\\\\\"cp\\\\\\\\\\\\\\\"}}, \\\\\\\\\\\\\\\"typeProperty\\\\\\\\\\\\\\\": 2}, {\\\\\\\\\\\\\\\"column\\\\\\\\\\\\\\\": {\\\\\\\\\\\\\\\"type\\\\\\\\\\\\\\\": 2, \\\\\\\\\\\\\\\"details\\\\\\\\\\\\\\\": {\\\\\\\\\\\\\\\"selectedColumn\\\\\\\\\\\\\\\": \\\\\\\\\\\\\\\"trestbps\\\\\\\\\\\\\\\"}}, \\\\\\\\\\\\\\\"typeProperty\\\\\\\\\\\\\\\": 2}, {\\\\\\\\\\\\\\\"column\\\\\\\\\\\\\\\": {\\\\\\\\\\\\\\\"type\\\\\\\\\\\\\\\": 2, \\\\\\\\\\\\\\\"details\\\\\\\\\\\\\\\": {\\\\\\\\\\\\\\\"selectedColumn\\\\\\\\\\\\\\\": \\\\\\\\\\\\\\\"chol\\\\\\\\\\\\\\\"}}, \\\\\\\\\\\\\\\"typeProperty\\\\\\\\\\\\\\\": 2}, {\\\\\\\\\\\\\\\"column\\\\\\\\\\\\\\\": {\\\\\\\\\\\\\\\"type\\\\\\\\\\\\\\\": 2, \\\\\\\\\\\\\\\"details\\\\\\\\\\\\\\\": {\\\\\\\\\\\\\\\"selectedColumn\\\\\\\\\\\\\\\": \\\\\\\\\\\\\\\"fbs\\\\\\\\\\\\\\\"}}, \\\\\\\\\\\\\\\"typeProperty\\\\\\\\\\\\\\\": 2}, {\\\\\\\\\\\\\\\"column\\\\\\\\\\\\\\\": {\\\\\\\\\\\\\\\"type\\\\\\\\\\\\\\\": 2, \\\\\\\\\\\\\\\"details\\\\\\\\\\\\\\\": {\\\\\\\\\\\\\\\"selectedColumn\\\\\\\\\\\\\\\": \\\\\\\\\\\\\\\"restecg\\\\\\\\\\\\\\\"}}, \\\\\\\\\\\\\\\"typeProperty\\\\\\\\\\\\\\\": 2}, {\\\\\\\\\\\\\\\"column\\\\\\\\\\\\\\\": {\\\\\\\\\\\\\\\"type\\\\\\\\\\\\\\\": 2, \\\\\\\\\\\\\\\"details\\\\\\\\\\\\\\\": {\\\\\\\\\\\\\\\"selectedColumn\\\\\\\\\\\\\\\": \\\\\\\\\\\\\\\"thalach\\\\\\\\\\\\\\\"}}, \\\\\\\\\\\\\\\"typeProperty\\\\\\\\\\\\\\\": 2}, {\\\\\\\\\\\\\\\"column\\\\\\\\\\\\\\\": {\\\\\\\\\\\\\\\"type\\\\\\\\\\\\\\\": 2, \\\\\\\\\\\\\\\"details\\\\\\\\\\\\\\\": {\\\\\\\\\\\\\\\"selectedColumn\\\\\\\\\\\\\\\": \\\\\\\\\\\\\\\"exang\\\\\\\\\\\\\\\"}}, \\\\\\\\\\\\\\\"typeProperty\\\\\\\\\\\\\\\": 2}, {\\\\\\\\\\\\\\\"column\\\\\\\\\\\\\\\": {\\\\\\\\\\\\\\\"type\\\\\\\\\\\\\\\": 2, \\\\\\\\\\\\\\\"details\\\\\\\\\\\\\\\": {\\\\\\\\\\\\\\\"selectedColumn\\\\\\\\\\\\\\\": \\\\\\\\\\\\\\\"oldpeak\\\\\\\\\\\\\\\"}}, \\\\\\\\\\\\\\\"typeProperty\\\\\\\\\\\\\\\": 3}, {\\\\\\\\\\\\\\\"column\\\\\\\\\\\\\\\": {\\\\\\\\\\\\\\\"type\\\\\\\\\\\\\\\": 2, \\\\\\\\\\\\\\\"details\\\\\\\\\\\\\\\": {\\\\\\\\\\\\\\\"selectedColumn\\\\\\\\\\\\\\\": \\\\\\\\\\\\\\\"slope\\\\\\\\\\\\\\\"}}, \\\\\\\\\\\\\\\"typeProperty\\\\\\\\\\\\\\\": 2}, {\\\\\\\\\\\\\\\"column\\\\\\\\\\\\\\\": {\\\\\\\\\\\\\\\"type\\\\\\\\\\\\\\\": 2, \\\\\\\\\\\\\\\"details\\\\\\\\\\\\\\\": {\\\\\\\\\\\\\\\"selectedColumn\\\\\\\\\\\\\\\": \\\\\\\\\\\\\\\"ca\\\\\\\\\\\\\\\"}}, \\\\\\\\\\\\\\\"typeProperty\\\\\\\\\\\\\\\": 2}, {\\\\\\\\\\\\\\\"column\\\\\\\\\\\\\\\": {\\\\\\\\\\\\\\\"type\\\\\\\\\\\\\\\": 2, \\\\\\\\\\\\\\\"details\\\\\\\\\\\\\\\": {\\\\\\\\\\\\\\\"selectedColumn\\\\\\\\\\\\\\\": \\\\\\\\\\\\\\\"thal\\\\\\\\\\\\\\\"}}, \\\\\\\\\\\\\\\"typeProperty\\\\\\\\\\\\\\\": 2}, {\\\\\\\\\\\\\\\"column\\\\\\\\\\\\\\\": {\\\\\\\\\\\\\\\"type\\\\\\\\\\\\\\\": 2, \\\\\\\\\\\\\\\"details\\\\\\\\\\\\\\\": {\\\\\\\\\\\\\\\"selectedColumn\\\\\\\\\\\\\\\": \\\\\\\\\\\\\\\"target\\\\\\\\\\\\\\\"}}, \\\\\\\\\\\\\\\"typeProperty\\\\\\\\\\\\\\\": 2}]}, \\\\\\\\\\\\\\\"localData\\\\\\\\\\\\\\\": {}, \\\\\\\\\\\\\\\"isEnabled\\\\\\\\\\\\\\\": true, \\\\\\\\\\\\\\\"name\\\\\\\\\\\\\\\": null, \\\\\\\\\\\\\\\"annotation\\\\\\\\\\\\\\\": null}], \\\\\\\\\\\\\\\"inspectors\\\\\\\\\\\\\\\": [], \\\\\\\\\\\\\\\"meta\\\\\\\\\\\\\\\": {\\\\\\\\\\\\\\\"savedDatasetId\\\\\\\\\\\\\\\": \\\\\\\\\\\\\\\"edad0131-8239-4077-b6bf-f76901835946\\\\\\\\\\\\\\\", \\\\\\\\\\\\\\\"datasetType\\\\\\\\\\\\\\\": \\\\\\\\\\\\\\\"tabular\\\\\\\\\\\\\\\", \\\\\\\\\\\\\\\"subscriptionId\\\\\\\\\\\\\\\": \\\\\\\\\\\\\\\"6971f5ac-8af1-446e-8034-05acea24681f\\\\\\\\\\\\\\\", \\\\\\\\\\\\\\\"workspaceId\\\\\\\\\\\\\\\": \\\\\\\\\\\\\\\"bb3a19df-25e6-4e94-bfff-b3136bdec5db\\\\\\\\\\\\\\\", \\\\\\\\\\\\\\\"workspaceLocation\\\\\\\\\\\\\\\": \\\\\\\\\\\\\\\"southcentralus\\\\\\\\\\\\\\\"}}\\\\\\\", \\\\\\\"activities\\\\\\\": 0}\", \"EnableSubsampling\": null, \"runTemplate\": \"AutoML\", \"azureml.runsource\": \"automl\", \"display_task_type\": \"classification\", \"dependencies_versions\": \"{\\\"azureml-widgets\\\": \\\"1.19.0\\\", \\\"azureml-train\\\": \\\"1.19.0\\\", \\\"azureml-train-restclients-hyperdrive\\\": \\\"1.19.0\\\", \\\"azureml-train-core\\\": \\\"1.19.0\\\", \\\"azureml-train-automl\\\": \\\"1.19.0\\\", \\\"azureml-train-automl-runtime\\\": \\\"1.19.0\\\", \\\"azureml-train-automl-client\\\": \\\"1.19.0\\\", \\\"azureml-tensorboard\\\": \\\"1.19.0\\\", \\\"azureml-telemetry\\\": \\\"1.19.0\\\", \\\"azureml-sdk\\\": \\\"1.19.0\\\", \\\"azureml-samples\\\": \\\"0+unknown\\\", \\\"azureml-pipeline\\\": \\\"1.19.0\\\", \\\"azureml-pipeline-steps\\\": \\\"1.19.0\\\", \\\"azureml-pipeline-core\\\": \\\"1.19.0\\\", \\\"azureml-opendatasets\\\": \\\"1.19.0\\\", \\\"azureml-model-management-sdk\\\": \\\"1.0.1b6.post1\\\", \\\"azureml-mlflow\\\": \\\"1.19.0\\\", \\\"azureml-interpret\\\": \\\"1.19.0\\\", \\\"azureml-explain-model\\\": \\\"1.19.0\\\", \\\"azureml-defaults\\\": \\\"1.19.0\\\", \\\"azureml-dataset-runtime\\\": \\\"1.19.0\\\", \\\"azureml-dataprep\\\": \\\"2.6.1\\\", \\\"azureml-dataprep-rslex\\\": \\\"1.4.0\\\", \\\"azureml-dataprep-native\\\": \\\"26.0.0\\\", \\\"azureml-datadrift\\\": \\\"1.19.0\\\", \\\"azureml-core\\\": \\\"1.19.0\\\", \\\"azureml-contrib-services\\\": \\\"1.19.0\\\", \\\"azureml-contrib-server\\\": \\\"1.19.0\\\", \\\"azureml-contrib-reinforcementlearning\\\": \\\"1.19.0\\\", \\\"azureml-contrib-pipeline-steps\\\": \\\"1.19.0\\\", \\\"azureml-contrib-notebook\\\": \\\"1.19.0\\\", \\\"azureml-contrib-interpret\\\": \\\"1.19.0\\\", \\\"azureml-contrib-gbdt\\\": \\\"1.19.0\\\", \\\"azureml-contrib-fairness\\\": \\\"1.19.0\\\", \\\"azureml-contrib-dataset\\\": \\\"1.19.0\\\", \\\"azureml-cli-common\\\": \\\"1.19.0\\\", \\\"azureml-automl-runtime\\\": \\\"1.19.0\\\", \\\"azureml-automl-core\\\": \\\"1.19.0\\\", \\\"azureml-accel-models\\\": \\\"1.19.0\\\"}\", \"_aml_system_scenario_identification\": \"Remote.Parent\", \"ClientType\": \"SDK\", \"environment_cpu_name\": \"AzureML-AutoML\", \"environment_cpu_label\": \"prod\", \"environment_gpu_name\": \"AzureML-AutoML-GPU\", \"environment_gpu_label\": \"prod\", \"root_attribution\": \"automl\", \"attribution\": \"AutoML\", \"Orchestrator\": \"AutoML\", \"CancelUri\": \"https://southcentralus.experiments.azureml.net/jasmine/v1.0/subscriptions/6971f5ac-8af1-446e-8034-05acea24681f/resourceGroups/aml-quickstarts-132450/providers/Microsoft.MachineLearningServices/workspaces/quick-starts-ws-132450/experimentids/fe925194-a1e6-4272-afe7-e03b0a31ea22/cancel/AutoML_e43a3ec5-770a-4d7f-b745-a9f0f53e4b82\", \"ClientSdkVersion\": \"1.19.0\", \"snapshotId\": \"00000000-0000-0000-0000-000000000000\", \"SetupRunId\": \"AutoML_e43a3ec5-770a-4d7f-b745-a9f0f53e4b82_setup\", \"SetupRunContainerId\": \"dcid.AutoML_e43a3ec5-770a-4d7f-b745-a9f0f53e4b82_setup\", \"FeaturizationRunJsonPath\": \"featurizer_container.json\", \"FeaturizationRunId\": \"AutoML_e43a3ec5-770a-4d7f-b745-a9f0f53e4b82_featurize\", \"ProblemInfoJsonString\": \"{\\\"dataset_num_categorical\\\": 0, \\\"is_sparse\\\": false, \\\"subsampling\\\": false, \\\"dataset_classes\\\": 2, \\\"dataset_features\\\": 13, \\\"dataset_samples\\\": 303, \\\"single_frequency_class_detected\\\": false}\", \"ModelExplainRunId\": \"AutoML_e43a3ec5-770a-4d7f-b745-a9f0f53e4b82_ModelExplain\"}, \"tags\": {\"model_explain_run\": \"best_run\", \"_aml_system_azureml.automlComponent\": \"AutoML\", \"pipeline_id\": \"\", \"score\": \"\", \"predicted_cost\": \"\", \"fit_time\": \"\", \"training_percent\": \"\", \"iteration\": \"\", \"run_preprocessor\": \"\", \"run_algorithm\": \"\", \"automl_best_child_run_id\": \"AutoML_e43a3ec5-770a-4d7f-b745-a9f0f53e4b82_19\", \"model_explain_best_run_child_id\": \"AutoML_e43a3ec5-770a-4d7f-b745-a9f0f53e4b82_19\"}, \"end_time_utc\": \"2020-12-30T09:19:24.193588Z\", \"status\": \"Completed\", \"log_files\": {}, \"log_groups\": [], \"run_duration\": \"0:26:14\"}, \"child_runs\": [{\"run_id\": \"AutoML_e43a3ec5-770a-4d7f-b745-a9f0f53e4b82_0\", \"run_number\": 5, \"metric\": null, \"status\": \"Completed\", \"run_type\": \"azureml.scriptrun\", \"training_percent\": \"100\", \"start_time\": \"2020-12-30T08:57:53.351005Z\", \"end_time\": \"2020-12-30T08:58:36.307955Z\", \"created_time\": \"2020-12-30T08:57:40.850514Z\", \"created_time_dt\": \"2020-12-30T08:57:40.850514Z\", \"duration\": \"0:00:55\", \"iteration\": \"0\", \"goal\": \"accuracy_max\", \"run_name\": \"MaxAbsScaler, LightGBM\", \"run_properties\": \"copy=True\", \"primary_metric\": 0.79535519, \"best_metric\": 0.79535519}, {\"run_id\": \"AutoML_e43a3ec5-770a-4d7f-b745-a9f0f53e4b82_1\", \"run_number\": 6, \"metric\": null, \"status\": \"Completed\", \"run_type\": \"azureml.scriptrun\", \"training_percent\": \"100\", \"start_time\": \"2020-12-30T08:58:50.083019Z\", \"end_time\": \"2020-12-30T08:59:38.43012Z\", \"created_time\": \"2020-12-30T08:58:37.31714Z\", \"created_time_dt\": \"2020-12-30T08:58:37.31714Z\", \"duration\": \"0:01:01\", \"iteration\": \"1\", \"goal\": \"accuracy_max\", \"run_name\": \"MaxAbsScaler, XGBoostClassifier\", \"run_properties\": \"copy=True\", \"primary_metric\": 0.79530055, \"best_metric\": 0.79535519}, {\"run_id\": \"AutoML_e43a3ec5-770a-4d7f-b745-a9f0f53e4b82_2\", \"run_number\": 7, \"metric\": null, \"status\": \"Completed\", \"run_type\": \"azureml.scriptrun\", \"training_percent\": \"100\", \"start_time\": \"2020-12-30T08:59:50.922867Z\", \"end_time\": \"2020-12-30T09:00:38.554537Z\", \"created_time\": \"2020-12-30T08:59:39.486769Z\", \"created_time_dt\": \"2020-12-30T08:59:39.486769Z\", \"duration\": \"0:00:59\", \"iteration\": \"2\", \"goal\": \"accuracy_max\", \"run_name\": \"MinMaxScaler, RandomForest\", \"run_properties\": \"copy=True, feature_range=(0, 1\", \"primary_metric\": 0.81830601, \"best_metric\": 0.81830601}, {\"run_id\": \"AutoML_e43a3ec5-770a-4d7f-b745-a9f0f53e4b82_3\", \"run_number\": 8, \"metric\": null, \"status\": \"Completed\", \"run_type\": \"azureml.scriptrun\", \"training_percent\": \"100\", \"start_time\": \"2020-12-30T09:00:53.744774Z\", \"end_time\": \"2020-12-30T09:01:33.877373Z\", \"created_time\": \"2020-12-30T09:00:40.948484Z\", \"created_time_dt\": \"2020-12-30T09:00:40.948484Z\", \"duration\": \"0:00:52\", \"iteration\": \"3\", \"goal\": \"accuracy_max\", \"run_name\": \"MinMaxScaler, RandomForest\", \"run_properties\": \"copy=True, feature_range=(0, 1\", \"primary_metric\": 0.80530055, \"best_metric\": 0.81830601}, {\"run_id\": \"AutoML_e43a3ec5-770a-4d7f-b745-a9f0f53e4b82_4\", \"run_number\": 9, \"metric\": null, \"status\": \"Completed\", \"run_type\": \"azureml.scriptrun\", \"training_percent\": \"100\", \"start_time\": \"2020-12-30T09:02:03.716766Z\", \"end_time\": \"2020-12-30T09:02:42.110437Z\", \"created_time\": \"2020-12-30T09:01:36.023423Z\", \"created_time_dt\": \"2020-12-30T09:01:36.023423Z\", \"duration\": \"0:01:06\", \"iteration\": \"4\", \"goal\": \"accuracy_max\", \"run_name\": \"MinMaxScaler, RandomForest\", \"run_properties\": \"copy=True, feature_range=(0, 1\", \"primary_metric\": 0.80846995, \"best_metric\": 0.81830601}, {\"run_id\": \"AutoML_e43a3ec5-770a-4d7f-b745-a9f0f53e4b82_5\", \"run_number\": 10, \"metric\": null, \"status\": \"Completed\", \"run_type\": \"azureml.scriptrun\", \"training_percent\": \"100\", \"start_time\": \"2020-12-30T09:02:59.136233Z\", \"end_time\": \"2020-12-30T09:03:39.187403Z\", \"created_time\": \"2020-12-30T09:02:45.18611Z\", \"created_time_dt\": \"2020-12-30T09:02:45.18611Z\", \"duration\": \"0:00:54\", \"iteration\": \"5\", \"goal\": \"accuracy_max\", \"run_name\": \"MinMaxScaler, SVM\", \"run_properties\": \"copy=True, feature_range=(0, 1\", \"primary_metric\": 0.76546448, \"best_metric\": 0.81830601}, {\"run_id\": \"AutoML_e43a3ec5-770a-4d7f-b745-a9f0f53e4b82_6\", \"run_number\": 11, \"metric\": null, \"status\": \"Completed\", \"run_type\": \"azureml.scriptrun\", \"training_percent\": \"100\", \"start_time\": \"2020-12-30T09:03:57.992879Z\", \"end_time\": \"2020-12-30T09:04:45.423216Z\", \"created_time\": \"2020-12-30T09:03:41.937941Z\", \"created_time_dt\": \"2020-12-30T09:03:41.937941Z\", \"duration\": \"0:01:03\", \"iteration\": \"6\", \"goal\": \"accuracy_max\", \"run_name\": \"MaxAbsScaler, GradientBoosting\", \"run_properties\": \"copy=True\", \"primary_metric\": 0.83830601, \"best_metric\": 0.83830601}, {\"run_id\": \"AutoML_e43a3ec5-770a-4d7f-b745-a9f0f53e4b82_7\", \"run_number\": 12, \"metric\": null, \"status\": \"Completed\", \"run_type\": \"azureml.scriptrun\", \"training_percent\": \"100\", \"start_time\": \"2020-12-30T09:05:03.89397Z\", \"end_time\": \"2020-12-30T09:05:59.384347Z\", \"created_time\": \"2020-12-30T09:04:47.962764Z\", \"created_time_dt\": \"2020-12-30T09:04:47.962764Z\", \"duration\": \"0:01:11\", \"iteration\": \"7\", \"goal\": \"accuracy_max\", \"run_name\": \"StandardScalerWrapper, RandomForest\", \"run_properties\": \"<azureml.automl.runtime.shared.model_wrappers.StandardScalerWrapper object at 0x7fe614e55550\", \"primary_metric\": 0.83502732, \"best_metric\": 0.83830601}, {\"run_id\": \"AutoML_e43a3ec5-770a-4d7f-b745-a9f0f53e4b82_8\", \"run_number\": 13, \"metric\": null, \"status\": \"Completed\", \"run_type\": \"azureml.scriptrun\", \"training_percent\": \"100\", \"start_time\": \"2020-12-30T09:06:15.614588Z\", \"end_time\": \"2020-12-30T09:07:03.085444Z\", \"created_time\": \"2020-12-30T09:06:02.366189Z\", \"created_time_dt\": \"2020-12-30T09:06:02.366189Z\", \"duration\": \"0:01:00\", \"iteration\": \"8\", \"goal\": \"accuracy_max\", \"run_name\": \"StandardScalerWrapper, RandomForest\", \"run_properties\": \"<azureml.automl.runtime.shared.model_wrappers.StandardScalerWrapper object at 0x7f3307c790b8\", \"primary_metric\": 0.8184153, \"best_metric\": 0.83830601}, {\"run_id\": \"AutoML_e43a3ec5-770a-4d7f-b745-a9f0f53e4b82_9\", \"run_number\": 14, \"metric\": null, \"status\": \"Completed\", \"run_type\": \"azureml.scriptrun\", \"training_percent\": \"100\", \"start_time\": \"2020-12-30T09:07:19.265782Z\", \"end_time\": \"2020-12-30T09:08:06.725453Z\", \"created_time\": \"2020-12-30T09:07:05.615448Z\", \"created_time_dt\": \"2020-12-30T09:07:05.615448Z\", \"duration\": \"0:01:01\", \"iteration\": \"9\", \"goal\": \"accuracy_max\", \"run_name\": \"SparseNormalizer, XGBoostClassifier\", \"run_properties\": \"<azureml.automl.runtime.shared.model_wrappers.SparseNormalizer object at 0x7f4e04945588\", \"primary_metric\": 0.81530055, \"best_metric\": 0.83830601}, {\"run_id\": \"AutoML_e43a3ec5-770a-4d7f-b745-a9f0f53e4b82_10\", \"run_number\": 15, \"metric\": null, \"status\": \"Completed\", \"run_type\": \"azureml.scriptrun\", \"training_percent\": \"100\", \"start_time\": \"2020-12-30T09:08:23.923105Z\", \"end_time\": \"2020-12-30T09:09:03.932118Z\", \"created_time\": \"2020-12-30T09:08:09.487786Z\", \"created_time_dt\": \"2020-12-30T09:08:09.487786Z\", \"duration\": \"0:00:54\", \"iteration\": \"10\", \"goal\": \"accuracy_max\", \"run_name\": \"RobustScaler, ExtremeRandomTrees\", \"run_properties\": \"copy=True, quantile_range=[25, 75], with_centering=True,\\n             with_scaling=False\", \"primary_metric\": 0.80191257, \"best_metric\": 0.83830601}, {\"run_id\": \"AutoML_e43a3ec5-770a-4d7f-b745-a9f0f53e4b82_11\", \"run_number\": 16, \"metric\": null, \"status\": \"Completed\", \"run_type\": \"azureml.scriptrun\", \"training_percent\": \"100\", \"start_time\": \"2020-12-30T09:09:19.14517Z\", \"end_time\": \"2020-12-30T09:10:09.416763Z\", \"created_time\": \"2020-12-30T09:09:06.883244Z\", \"created_time_dt\": \"2020-12-30T09:09:06.883244Z\", \"duration\": \"0:01:02\", \"iteration\": \"11\", \"goal\": \"accuracy_max\", \"run_name\": \"MinMaxScaler, LightGBM\", \"run_properties\": \"copy=True, feature_range=(0, 1\", \"primary_metric\": 0.8315847, \"best_metric\": 0.83830601}, {\"run_id\": \"AutoML_e43a3ec5-770a-4d7f-b745-a9f0f53e4b82_12\", \"run_number\": 17, \"metric\": null, \"status\": \"Completed\", \"run_type\": \"azureml.scriptrun\", \"training_percent\": \"100\", \"start_time\": \"2020-12-30T09:10:29.695634Z\", \"end_time\": \"2020-12-30T09:11:20.660302Z\", \"created_time\": \"2020-12-30T09:10:11.972313Z\", \"created_time_dt\": \"2020-12-30T09:10:11.972313Z\", \"duration\": \"0:01:08\", \"iteration\": \"12\", \"goal\": \"accuracy_max\", \"run_name\": \"SparseNormalizer, XGBoostClassifier\", \"run_properties\": \"<azureml.automl.runtime.shared.model_wrappers.SparseNormalizer object at 0x7fc8c67aae10\", \"primary_metric\": 0.78863388, \"best_metric\": 0.83830601}, {\"run_id\": \"AutoML_e43a3ec5-770a-4d7f-b745-a9f0f53e4b82_13\", \"run_number\": 18, \"metric\": null, \"status\": \"Completed\", \"run_type\": \"azureml.scriptrun\", \"training_percent\": \"100\", \"start_time\": \"2020-12-30T09:11:34.334598Z\", \"end_time\": \"2020-12-30T09:12:16.170836Z\", \"created_time\": \"2020-12-30T09:11:22.941446Z\", \"created_time_dt\": \"2020-12-30T09:11:22.941446Z\", \"duration\": \"0:00:53\", \"iteration\": \"13\", \"goal\": \"accuracy_max\", \"run_name\": \"SparseNormalizer, LightGBM\", \"run_properties\": \"<azureml.automl.runtime.shared.model_wrappers.SparseNormalizer object at 0x7f934d16d7f0\", \"primary_metric\": 0.8415847, \"best_metric\": 0.8415847}, {\"run_id\": \"AutoML_e43a3ec5-770a-4d7f-b745-a9f0f53e4b82_14\", \"run_number\": 19, \"metric\": null, \"status\": \"Completed\", \"run_type\": \"azureml.scriptrun\", \"training_percent\": \"100\", \"start_time\": \"2020-12-30T09:12:30.727398Z\", \"end_time\": \"2020-12-30T09:13:11.108272Z\", \"created_time\": \"2020-12-30T09:12:17.926375Z\", \"created_time_dt\": \"2020-12-30T09:12:17.926375Z\", \"duration\": \"0:00:53\", \"iteration\": \"14\", \"goal\": \"accuracy_max\", \"run_name\": \"StandardScalerWrapper, GradientBoosting\", \"run_properties\": \"<azureml.automl.runtime.shared.model_wrappers.StandardScalerWrapper object at 0x7f585366e208\", \"primary_metric\": 0.83830601, \"best_metric\": 0.8415847}, {\"run_id\": \"AutoML_e43a3ec5-770a-4d7f-b745-a9f0f53e4b82_15\", \"run_number\": 20, \"metric\": null, \"status\": \"Completed\", \"run_type\": \"azureml.scriptrun\", \"training_percent\": \"100\", \"start_time\": \"2020-12-30T09:13:31.294488Z\", \"end_time\": \"2020-12-30T09:14:18.953748Z\", \"created_time\": \"2020-12-30T09:13:13.335776Z\", \"created_time_dt\": \"2020-12-30T09:13:13.335776Z\", \"duration\": \"0:01:05\", \"iteration\": \"15\", \"goal\": \"accuracy_max\", \"run_name\": \"SparseNormalizer, XGBoostClassifier\", \"run_properties\": \"<azureml.automl.runtime.shared.model_wrappers.SparseNormalizer object at 0x7fd5d8058518\", \"primary_metric\": 0.80196721, \"best_metric\": 0.8415847}, {\"run_id\": \"AutoML_e43a3ec5-770a-4d7f-b745-a9f0f53e4b82_16\", \"run_number\": 21, \"metric\": null, \"status\": \"Completed\", \"run_type\": \"azureml.scriptrun\", \"training_percent\": \"100\", \"start_time\": \"2020-12-30T09:14:38.126Z\", \"end_time\": \"2020-12-30T09:15:27.633143Z\", \"created_time\": \"2020-12-30T09:14:21.254163Z\", \"created_time_dt\": \"2020-12-30T09:14:21.254163Z\", \"duration\": \"0:01:06\", \"iteration\": \"16\", \"goal\": \"accuracy_max\", \"run_name\": \"StandardScalerWrapper, XGBoostClassifier\", \"run_properties\": \"<azureml.automl.runtime.shared.model_wrappers.StandardScalerWrapper object at 0x7f706cc9f668\", \"primary_metric\": 0.78546448, \"best_metric\": 0.8415847}, {\"run_id\": \"AutoML_e43a3ec5-770a-4d7f-b745-a9f0f53e4b82_17\", \"run_number\": 22, \"metric\": null, \"status\": \"Completed\", \"run_type\": \"azureml.scriptrun\", \"training_percent\": \"100\", \"start_time\": \"2020-12-30T09:15:42.176873Z\", \"end_time\": \"2020-12-30T09:16:36.496193Z\", \"created_time\": \"2020-12-30T09:15:29.617782Z\", \"created_time_dt\": \"2020-12-30T09:15:29.617782Z\", \"duration\": \"0:01:06\", \"iteration\": \"17\", \"goal\": \"accuracy_max\", \"run_name\": \"MaxAbsScaler, LightGBM\", \"run_properties\": \"copy=True\", \"primary_metric\": 0.79202186, \"best_metric\": 0.8415847}, {\"run_id\": \"AutoML_e43a3ec5-770a-4d7f-b745-a9f0f53e4b82_18\", \"run_number\": 23, \"metric\": null, \"status\": \"Completed\", \"run_type\": \"azureml.scriptrun\", \"training_percent\": \"100\", \"start_time\": \"2020-12-30T09:16:51.452184Z\", \"end_time\": \"2020-12-30T09:17:43.079409Z\", \"created_time\": \"2020-12-30T09:16:38.399543Z\", \"created_time_dt\": \"2020-12-30T09:16:38.399543Z\", \"duration\": \"0:01:04\", \"iteration\": \"18\", \"goal\": \"accuracy_max\", \"run_name\": \"MaxAbsScaler, ExtremeRandomTrees\", \"run_properties\": \"copy=True\", \"primary_metric\": 0.81497268, \"best_metric\": 0.8415847}, {\"run_id\": \"AutoML_e43a3ec5-770a-4d7f-b745-a9f0f53e4b82_19\", \"run_number\": 24, \"metric\": null, \"status\": \"Completed\", \"run_type\": \"azureml.scriptrun\", \"training_percent\": \"100\", \"start_time\": \"2020-12-30T09:17:58.701354Z\", \"end_time\": \"2020-12-30T09:19:15.270941Z\", \"created_time\": \"2020-12-30T09:17:44.134651Z\", \"created_time_dt\": \"2020-12-30T09:17:44.134651Z\", \"duration\": \"0:01:31\", \"iteration\": \"19\", \"goal\": \"accuracy_max\", \"run_name\": \"VotingEnsemble\", \"run_properties\": \"classification_labels=None,\\n                              estimators=[('13',\\n                                           Pipeline(memory=None,\\n                                                    steps=[('sparsenormalizer',\\n                                                            <azureml.automl.runtime.shared.model_wrappers.SparseNormalizer object at 0x7f3810383eb8>\", \"primary_metric\": 0.84808743, \"best_metric\": 0.84808743}], \"children_metrics\": {\"categories\": [0], \"series\": {\"average_precision_score_macro\": [{\"categories\": [\"0\", \"1\", \"2\", \"3\", \"4\", \"5\", \"6\", \"7\", \"8\", \"9\", \"10\", \"11\", \"12\", \"13\", \"14\", \"15\", \"16\", \"17\", \"18\", \"19\"], \"mode\": \"markers\", \"name\": \"average_precision_score_macro\", \"stepped\": false, \"type\": \"scatter\", \"data\": [0.8681195930043959, 0.8781243756589239, 0.8913473014347069, 0.9080219237996447, 0.89231093632885, 0.8559747189942204, 0.9053422340096662, 0.9118066729774084, 0.9160882686769574, 0.8918554433074629, 0.9013044586423516, 0.9173343574284424, 0.8768072978032272, 0.9091858166064956, 0.9175382951686892, 0.8790111133755767, 0.8735057621461625, 0.8874638759869011, 0.9133256295764307, 0.9137437493447049]}, {\"categories\": [\"0\", \"1\", \"2\", \"3\", \"4\", \"5\", \"6\", \"7\", \"8\", \"9\", \"10\", \"11\", \"12\", \"13\", \"14\", \"15\", \"16\", \"17\", \"18\", \"19\"], \"mode\": \"lines\", \"name\": \"average_precision_score_macro_max\", \"stepped\": true, \"type\": \"scatter\", \"data\": [0.8681195930043959, 0.8781243756589239, 0.8913473014347069, 0.9080219237996447, 0.9080219237996447, 0.9080219237996447, 0.9080219237996447, 0.9118066729774084, 0.9160882686769574, 0.9160882686769574, 0.9160882686769574, 0.9173343574284424, 0.9173343574284424, 0.9173343574284424, 0.9175382951686892, 0.9175382951686892, 0.9175382951686892, 0.9175382951686892, 0.9175382951686892, 0.9175382951686892]}], \"recall_score_weighted\": [{\"categories\": [\"0\", \"1\", \"2\", \"3\", \"4\", \"5\", \"6\", \"7\", \"8\", \"9\", \"10\", \"11\", \"12\", \"13\", \"14\", \"15\", \"16\", \"17\", \"18\", \"19\"], \"mode\": \"markers\", \"name\": \"recall_score_weighted\", \"stepped\": false, \"type\": \"scatter\", \"data\": [0.7953551912568306, 0.7953005464480875, 0.8183060109289617, 0.8053005464480874, 0.8084699453551913, 0.765464480874317, 0.8383060109289617, 0.8350273224043716, 0.8184153005464481, 0.8153005464480874, 0.8019125683060109, 0.831584699453552, 0.7886338797814207, 0.8415846994535519, 0.8383060109289617, 0.801967213114754, 0.7854644808743169, 0.7920218579234973, 0.8149726775956283, 0.8480874316939891]}, {\"categories\": [\"0\", \"1\", \"2\", \"3\", \"4\", \"5\", \"6\", \"7\", \"8\", \"9\", \"10\", \"11\", \"12\", \"13\", \"14\", \"15\", \"16\", \"17\", \"18\", \"19\"], \"mode\": \"lines\", \"name\": \"recall_score_weighted_max\", \"stepped\": true, \"type\": \"scatter\", \"data\": [0.7953551912568306, 0.7953551912568306, 0.8183060109289617, 0.8183060109289617, 0.8183060109289617, 0.8183060109289617, 0.8383060109289617, 0.8383060109289617, 0.8383060109289617, 0.8383060109289617, 0.8383060109289617, 0.8383060109289617, 0.8383060109289617, 0.8415846994535519, 0.8415846994535519, 0.8415846994535519, 0.8415846994535519, 0.8415846994535519, 0.8415846994535519, 0.8480874316939891]}], \"AUC_macro\": [{\"categories\": [\"0\", \"1\", \"2\", \"3\", \"4\", \"5\", \"6\", \"7\", \"8\", \"9\", \"10\", \"11\", \"12\", \"13\", \"14\", \"15\", \"16\", \"17\", \"18\", \"19\"], \"mode\": \"markers\", \"name\": \"AUC_macro\", \"stepped\": false, \"type\": \"scatter\", \"data\": [0.8691605140432452, 0.8743019778937438, 0.8855662271621082, 0.9029337827145122, 0.8846609928643894, 0.8491280565089756, 0.9036774985213352, 0.9076204739614185, 0.9122442762550328, 0.8904528875286667, 0.8984017564748228, 0.9134592908796633, 0.8788540437437519, 0.9058624582526426, 0.9146014797738975, 0.8814413230707793, 0.8707364842600933, 0.8797312398544441, 0.909754684520057, 0.9093484380556104]}, {\"categories\": [\"0\", \"1\", \"2\", \"3\", \"4\", \"5\", \"6\", \"7\", \"8\", \"9\", \"10\", \"11\", \"12\", \"13\", \"14\", \"15\", \"16\", \"17\", \"18\", \"19\"], \"mode\": \"lines\", \"name\": \"AUC_macro_max\", \"stepped\": true, \"type\": \"scatter\", \"data\": [0.8691605140432452, 0.8743019778937438, 0.8855662271621082, 0.9029337827145122, 0.9029337827145122, 0.9029337827145122, 0.9036774985213352, 0.9076204739614185, 0.9122442762550328, 0.9122442762550328, 0.9122442762550328, 0.9134592908796633, 0.9134592908796633, 0.9134592908796633, 0.9146014797738975, 0.9146014797738975, 0.9146014797738975, 0.9146014797738975, 0.9146014797738975, 0.9146014797738975]}], \"balanced_accuracy\": [{\"categories\": [\"0\", \"1\", \"2\", \"3\", \"4\", \"5\", \"6\", \"7\", \"8\", \"9\", \"10\", \"11\", \"12\", \"13\", \"14\", \"15\", \"16\", \"17\", \"18\", \"19\"], \"mode\": \"markers\", \"name\": \"balanced_accuracy\", \"stepped\": false, \"type\": \"scatter\", \"data\": [0.7906742801895195, 0.7909841341910901, 0.8118134849171339, 0.7980898494786078, 0.8031474448168833, 0.7573262115607247, 0.8337300017527012, 0.8269992618594898, 0.8136782173126388, 0.8099270239364916, 0.7972758092061172, 0.8264039012812294, 0.7855543146902173, 0.8364309337115337, 0.8324899450893035, 0.7957882445358694, 0.7802922030829117, 0.7826103029615437, 0.8107971234489474, 0.840186886092486]}, {\"categories\": [\"0\", \"1\", \"2\", \"3\", \"4\", \"5\", \"6\", \"7\", \"8\", \"9\", \"10\", \"11\", \"12\", \"13\", \"14\", \"15\", \"16\", \"17\", \"18\", \"19\"], \"mode\": \"lines\", \"name\": \"balanced_accuracy_max\", \"stepped\": true, \"type\": \"scatter\", \"data\": [0.7906742801895195, 0.7909841341910901, 0.8118134849171339, 0.8118134849171339, 0.8118134849171339, 0.8118134849171339, 0.8337300017527012, 0.8337300017527012, 0.8337300017527012, 0.8337300017527012, 0.8337300017527012, 0.8337300017527012, 0.8337300017527012, 0.8364309337115337, 0.8364309337115337, 0.8364309337115337, 0.8364309337115337, 0.8364309337115337, 0.8364309337115337, 0.840186886092486]}], \"average_precision_score_micro\": [{\"categories\": [\"0\", \"1\", \"2\", \"3\", \"4\", \"5\", \"6\", \"7\", \"8\", \"9\", \"10\", \"11\", \"12\", \"13\", \"14\", \"15\", \"16\", \"17\", \"18\", \"19\"], \"mode\": \"markers\", \"name\": \"average_precision_score_micro\", \"stepped\": false, \"type\": \"scatter\", \"data\": [0.873274688000748, 0.8740330981401747, 0.8935991975759059, 0.9075362166530795, 0.8915828804133632, 0.8534230965262143, 0.9038672531838479, 0.9105097432775053, 0.9145981699276504, 0.888511059886207, 0.8945597197148947, 0.9148781444295517, 0.869243583903993, 0.9081366412492594, 0.9140015449398625, 0.872184970536369, 0.8705251838925424, 0.8855512675140369, 0.9118412588613743, 0.9112333918940705]}, {\"categories\": [\"0\", \"1\", \"2\", \"3\", \"4\", \"5\", \"6\", \"7\", \"8\", \"9\", \"10\", \"11\", \"12\", \"13\", \"14\", \"15\", \"16\", \"17\", \"18\", \"19\"], \"mode\": \"lines\", \"name\": \"average_precision_score_micro_max\", \"stepped\": true, \"type\": \"scatter\", \"data\": [0.873274688000748, 0.8740330981401747, 0.8935991975759059, 0.9075362166530795, 0.9075362166530795, 0.9075362166530795, 0.9075362166530795, 0.9105097432775053, 0.9145981699276504, 0.9145981699276504, 0.9145981699276504, 0.9148781444295517, 0.9148781444295517, 0.9148781444295517, 0.9148781444295517, 0.9148781444295517, 0.9148781444295517, 0.9148781444295517, 0.9148781444295517, 0.9148781444295517]}], \"f1_score_micro\": [{\"categories\": [\"0\", \"1\", \"2\", \"3\", \"4\", \"5\", \"6\", \"7\", \"8\", \"9\", \"10\", \"11\", \"12\", \"13\", \"14\", \"15\", \"16\", \"17\", \"18\", \"19\"], \"mode\": \"markers\", \"name\": \"f1_score_micro\", \"stepped\": false, \"type\": \"scatter\", \"data\": [0.7953551912568305, 0.7953005464480873, 0.8183060109289617, 0.8053005464480876, 0.8084699453551911, 0.765464480874317, 0.8383060109289617, 0.8350273224043716, 0.8184153005464483, 0.8153005464480874, 0.8019125683060109, 0.831584699453552, 0.7886338797814207, 0.8415846994535519, 0.8383060109289617, 0.801967213114754, 0.7854644808743169, 0.7920218579234973, 0.8149726775956283, 0.8480874316939891]}, {\"categories\": [\"0\", \"1\", \"2\", \"3\", \"4\", \"5\", \"6\", \"7\", \"8\", \"9\", \"10\", \"11\", \"12\", \"13\", \"14\", \"15\", \"16\", \"17\", \"18\", \"19\"], \"mode\": \"lines\", \"name\": \"f1_score_micro_max\", \"stepped\": true, \"type\": \"scatter\", \"data\": [0.7953551912568305, 0.7953551912568305, 0.8183060109289617, 0.8183060109289617, 0.8183060109289617, 0.8183060109289617, 0.8383060109289617, 0.8383060109289617, 0.8383060109289617, 0.8383060109289617, 0.8383060109289617, 0.8383060109289617, 0.8383060109289617, 0.8415846994535519, 0.8415846994535519, 0.8415846994535519, 0.8415846994535519, 0.8415846994535519, 0.8415846994535519, 0.8480874316939891]}], \"average_precision_score_weighted\": [{\"categories\": [\"0\", \"1\", \"2\", \"3\", \"4\", \"5\", \"6\", \"7\", \"8\", \"9\", \"10\", \"11\", \"12\", \"13\", \"14\", \"15\", \"16\", \"17\", \"18\", \"19\"], \"mode\": \"markers\", \"name\": \"average_precision_score_weighted\", \"stepped\": false, \"type\": \"scatter\", \"data\": [0.8719307562275416, 0.8805960415620803, 0.8941567137968522, 0.9108126128127167, 0.8949225457120257, 0.8594232027827073, 0.9076182633952758, 0.9143735649517961, 0.9187211471014196, 0.894873024199916, 0.9043958415532926, 0.9199218085907257, 0.8776107852100636, 0.9114361750629323, 0.9199740771553875, 0.8808335211659459, 0.875727801771438, 0.8898512407723373, 0.9160278724523889, 0.9159647218546538]}, {\"categories\": [\"0\", \"1\", \"2\", \"3\", \"4\", \"5\", \"6\", \"7\", \"8\", \"9\", \"10\", \"11\", \"12\", \"13\", \"14\", \"15\", \"16\", \"17\", \"18\", \"19\"], \"mode\": \"lines\", \"name\": \"average_precision_score_weighted_max\", \"stepped\": true, \"type\": \"scatter\", \"data\": [0.8719307562275416, 0.8805960415620803, 0.8941567137968522, 0.9108126128127167, 0.9108126128127167, 0.9108126128127167, 0.9108126128127167, 0.9143735649517961, 0.9187211471014196, 0.9187211471014196, 0.9187211471014196, 0.9199218085907257, 0.9199218085907257, 0.9199218085907257, 0.9199740771553875, 0.9199740771553875, 0.9199740771553875, 0.9199740771553875, 0.9199740771553875, 0.9199740771553875]}], \"AUC_micro\": [{\"categories\": [\"0\", \"1\", \"2\", \"3\", \"4\", \"5\", \"6\", \"7\", \"8\", \"9\", \"10\", \"11\", \"12\", \"13\", \"14\", \"15\", \"16\", \"17\", \"18\", \"19\"], \"mode\": \"markers\", \"name\": \"AUC_micro\", \"stepped\": false, \"type\": \"scatter\", \"data\": [0.8752491713697035, 0.8737062617575921, 0.8906308489354714, 0.9018688972498431, 0.8878959807698049, 0.8496084609871899, 0.905574860401923, 0.9077433336319387, 0.9111322374511033, 0.8890739347248351, 0.8926800889844427, 0.9115107348681656, 0.8777252381378959, 0.9066069306339395, 0.912724820090179, 0.8791064528651198, 0.8726136641882409, 0.8818444713189406, 0.9069601361641135, 0.9090269939383081]}, {\"categories\": [\"0\", \"1\", \"2\", \"3\", \"4\", \"5\", \"6\", \"7\", \"8\", \"9\", \"10\", \"11\", \"12\", \"13\", \"14\", \"15\", \"16\", \"17\", \"18\", \"19\"], \"mode\": \"lines\", \"name\": \"AUC_micro_max\", \"stepped\": true, \"type\": \"scatter\", \"data\": [0.8752491713697035, 0.8752491713697035, 0.8906308489354714, 0.9018688972498431, 0.9018688972498431, 0.9018688972498431, 0.905574860401923, 0.9077433336319387, 0.9111322374511033, 0.9111322374511033, 0.9111322374511033, 0.9115107348681656, 0.9115107348681656, 0.9115107348681656, 0.912724820090179, 0.912724820090179, 0.912724820090179, 0.912724820090179, 0.912724820090179, 0.912724820090179]}], \"precision_score_macro\": [{\"categories\": [\"0\", \"1\", \"2\", \"3\", \"4\", \"5\", \"6\", \"7\", \"8\", \"9\", \"10\", \"11\", \"12\", \"13\", \"14\", \"15\", \"16\", \"17\", \"18\", \"19\"], \"mode\": \"markers\", \"name\": \"precision_score_macro\", \"stepped\": false, \"type\": \"scatter\", \"data\": [0.7961721314177864, 0.7931143298210874, 0.8213969348172384, 0.8083737134578917, 0.8081883467714439, 0.764660197403923, 0.8395995527412742, 0.838447647886583, 0.8231215381879761, 0.8199990077535716, 0.8047881721449832, 0.8351323744130121, 0.7893254862953138, 0.8473404929797, 0.8414170077237222, 0.8030651197874308, 0.7853491402975074, 0.7946855011044565, 0.8217171879176689, 0.8525188492479764]}, {\"categories\": [\"0\", \"1\", \"2\", \"3\", \"4\", \"5\", \"6\", \"7\", \"8\", \"9\", \"10\", \"11\", \"12\", \"13\", \"14\", \"15\", \"16\", \"17\", \"18\", \"19\"], \"mode\": \"lines\", \"name\": \"precision_score_macro_max\", \"stepped\": true, \"type\": \"scatter\", \"data\": [0.7961721314177864, 0.7961721314177864, 0.8213969348172384, 0.8213969348172384, 0.8213969348172384, 0.8213969348172384, 0.8395995527412742, 0.8395995527412742, 0.8395995527412742, 0.8395995527412742, 0.8395995527412742, 0.8395995527412742, 0.8395995527412742, 0.8473404929797, 0.8473404929797, 0.8473404929797, 0.8473404929797, 0.8473404929797, 0.8473404929797, 0.8525188492479764]}], \"precision_score_weighted\": [{\"categories\": [\"0\", \"1\", \"2\", \"3\", \"4\", \"5\", \"6\", \"7\", \"8\", \"9\", \"10\", \"11\", \"12\", \"13\", \"14\", \"15\", \"16\", \"17\", \"18\", \"19\"], \"mode\": \"markers\", \"name\": \"precision_score_weighted\", \"stepped\": false, \"type\": \"scatter\", \"data\": [0.7999417209061359, 0.7966893123147967, 0.8243129797432687, 0.8114386626462796, 0.8115434133043914, 0.76787966883138, 0.8420117167207595, 0.8392553133177033, 0.8261302391829417, 0.8225756160640421, 0.8089000912240076, 0.8369244927650472, 0.7929874826668212, 0.8488599690429262, 0.8431824701327576, 0.8050783017018986, 0.7893477374633725, 0.7974181500536213, 0.8246029964324822, 0.85215136379308]}, {\"categories\": [\"0\", \"1\", \"2\", \"3\", \"4\", \"5\", \"6\", \"7\", \"8\", \"9\", \"10\", \"11\", \"12\", \"13\", \"14\", \"15\", \"16\", \"17\", \"18\", \"19\"], \"mode\": \"lines\", \"name\": \"precision_score_weighted_max\", \"stepped\": true, \"type\": \"scatter\", \"data\": [0.7999417209061359, 0.7999417209061359, 0.8243129797432687, 0.8243129797432687, 0.8243129797432687, 0.8243129797432687, 0.8420117167207595, 0.8420117167207595, 0.8420117167207595, 0.8420117167207595, 0.8420117167207595, 0.8420117167207595, 0.8420117167207595, 0.8488599690429262, 0.8488599690429262, 0.8488599690429262, 0.8488599690429262, 0.8488599690429262, 0.8488599690429262, 0.85215136379308]}], \"AUC_weighted\": [{\"categories\": [\"0\", \"1\", \"2\", \"3\", \"4\", \"5\", \"6\", \"7\", \"8\", \"9\", \"10\", \"11\", \"12\", \"13\", \"14\", \"15\", \"16\", \"17\", \"18\", \"19\"], \"mode\": \"markers\", \"name\": \"AUC_weighted\", \"stepped\": false, \"type\": \"scatter\", \"data\": [0.8691605140432452, 0.8743019778937438, 0.8855662271621082, 0.9029337827145124, 0.8846609928643894, 0.8491280565089756, 0.9036774985213352, 0.9076204739614185, 0.9122442762550328, 0.8904528875286667, 0.8984017564748227, 0.9134592908796633, 0.8788540437437519, 0.9058624582526427, 0.9146014797738975, 0.8814413230707793, 0.8707364842600933, 0.8797312398544441, 0.9097546845200573, 0.9093484380556104]}, {\"categories\": [\"0\", \"1\", \"2\", \"3\", \"4\", \"5\", \"6\", \"7\", \"8\", \"9\", \"10\", \"11\", \"12\", \"13\", \"14\", \"15\", \"16\", \"17\", \"18\", \"19\"], \"mode\": \"lines\", \"name\": \"AUC_weighted_max\", \"stepped\": true, \"type\": \"scatter\", \"data\": [0.8691605140432452, 0.8743019778937438, 0.8855662271621082, 0.9029337827145124, 0.9029337827145124, 0.9029337827145124, 0.9036774985213352, 0.9076204739614185, 0.9122442762550328, 0.9122442762550328, 0.9122442762550328, 0.9134592908796633, 0.9134592908796633, 0.9134592908796633, 0.9146014797738975, 0.9146014797738975, 0.9146014797738975, 0.9146014797738975, 0.9146014797738975, 0.9146014797738975]}], \"matthews_correlation\": [{\"categories\": [\"0\", \"1\", \"2\", \"3\", \"4\", \"5\", \"6\", \"7\", \"8\", \"9\", \"10\", \"11\", \"12\", \"13\", \"14\", \"15\", \"16\", \"17\", \"18\", \"19\"], \"mode\": \"markers\", \"name\": \"matthews_correlation\", \"stepped\": false, \"type\": \"scatter\", \"data\": [0.5867308851294775, 0.5840623580228471, 0.6330527809097701, 0.6062077018775396, 0.6112399536291397, 0.5218868953233268, 0.6732557482457949, 0.6652530381371085, 0.6365960587188155, 0.6295535728083405, 0.6019155459040888, 0.6613516516505922, 0.5748285795173395, 0.683350219902364, 0.6737640987239979, 0.5986140118456037, 0.565513823933698, 0.5769368492546029, 0.6322449261016347, 0.6922725694659246]}, {\"categories\": [\"0\", \"1\", \"2\", \"3\", \"4\", \"5\", \"6\", \"7\", \"8\", \"9\", \"10\", \"11\", \"12\", \"13\", \"14\", \"15\", \"16\", \"17\", \"18\", \"19\"], \"mode\": \"lines\", \"name\": \"matthews_correlation_max\", \"stepped\": true, \"type\": \"scatter\", \"data\": [0.5867308851294775, 0.5867308851294775, 0.6330527809097701, 0.6330527809097701, 0.6330527809097701, 0.6330527809097701, 0.6732557482457949, 0.6732557482457949, 0.6732557482457949, 0.6732557482457949, 0.6732557482457949, 0.6732557482457949, 0.6732557482457949, 0.683350219902364, 0.683350219902364, 0.683350219902364, 0.683350219902364, 0.683350219902364, 0.683350219902364, 0.6922725694659246]}], \"norm_macro_recall\": [{\"categories\": [\"0\", \"1\", \"2\", \"3\", \"4\", \"5\", \"6\", \"7\", \"8\", \"9\", \"10\", \"11\", \"12\", \"13\", \"14\", \"15\", \"16\", \"17\", \"18\", \"19\"], \"mode\": \"markers\", \"name\": \"norm_macro_recall\", \"stepped\": false, \"type\": \"scatter\", \"data\": [0.5813485603790391, 0.5819682683821805, 0.6236269698342679, 0.5961796989572156, 0.6062948896337667, 0.5146524231214492, 0.6674600035054024, 0.6539985237189796, 0.6273564346252777, 0.6198540478729833, 0.5945516184122346, 0.6528078025624587, 0.5711086293804346, 0.6728618674230675, 0.664979890178607, 0.5915764890717388, 0.5605844061658232, 0.5652206059230875, 0.6215942468978948, 0.6803737721849723]}, {\"categories\": [\"0\", \"1\", \"2\", \"3\", \"4\", \"5\", \"6\", \"7\", \"8\", \"9\", \"10\", \"11\", \"12\", \"13\", \"14\", \"15\", \"16\", \"17\", \"18\", \"19\"], \"mode\": \"lines\", \"name\": \"norm_macro_recall_max\", \"stepped\": true, \"type\": \"scatter\", \"data\": [0.5813485603790391, 0.5819682683821805, 0.6236269698342679, 0.6236269698342679, 0.6236269698342679, 0.6236269698342679, 0.6674600035054024, 0.6674600035054024, 0.6674600035054024, 0.6674600035054024, 0.6674600035054024, 0.6674600035054024, 0.6674600035054024, 0.6728618674230675, 0.6728618674230675, 0.6728618674230675, 0.6728618674230675, 0.6728618674230675, 0.6728618674230675, 0.6803737721849723]}], \"recall_score_micro\": [{\"categories\": [\"0\", \"1\", \"2\", \"3\", \"4\", \"5\", \"6\", \"7\", \"8\", \"9\", \"10\", \"11\", \"12\", \"13\", \"14\", \"15\", \"16\", \"17\", \"18\", \"19\"], \"mode\": \"markers\", \"name\": \"recall_score_micro\", \"stepped\": false, \"type\": \"scatter\", \"data\": [0.7953551912568306, 0.7953005464480875, 0.8183060109289617, 0.8053005464480874, 0.8084699453551913, 0.765464480874317, 0.8383060109289617, 0.8350273224043716, 0.8184153005464481, 0.8153005464480874, 0.8019125683060109, 0.831584699453552, 0.7886338797814207, 0.8415846994535519, 0.8383060109289617, 0.801967213114754, 0.7854644808743169, 0.7920218579234973, 0.8149726775956283, 0.8480874316939891]}, {\"categories\": [\"0\", \"1\", \"2\", \"3\", \"4\", \"5\", \"6\", \"7\", \"8\", \"9\", \"10\", \"11\", \"12\", \"13\", \"14\", \"15\", \"16\", \"17\", \"18\", \"19\"], \"mode\": \"lines\", \"name\": \"recall_score_micro_max\", \"stepped\": true, \"type\": \"scatter\", \"data\": [0.7953551912568306, 0.7953551912568306, 0.8183060109289617, 0.8183060109289617, 0.8183060109289617, 0.8183060109289617, 0.8383060109289617, 0.8383060109289617, 0.8383060109289617, 0.8383060109289617, 0.8383060109289617, 0.8383060109289617, 0.8383060109289617, 0.8415846994535519, 0.8415846994535519, 0.8415846994535519, 0.8415846994535519, 0.8415846994535519, 0.8415846994535519, 0.8480874316939891]}], \"accuracy\": [{\"categories\": [\"0\", \"1\", \"2\", \"3\", \"4\", \"5\", \"6\", \"7\", \"8\", \"9\", \"10\", \"11\", \"12\", \"13\", \"14\", \"15\", \"16\", \"17\", \"18\", \"19\"], \"mode\": \"markers\", \"name\": \"accuracy\", \"stepped\": false, \"type\": \"scatter\", \"data\": [0.7953551912568306, 0.7953005464480875, 0.8183060109289617, 0.8053005464480874, 0.8084699453551913, 0.765464480874317, 0.8383060109289617, 0.8350273224043716, 0.8184153005464481, 0.8153005464480874, 0.8019125683060109, 0.831584699453552, 0.7886338797814207, 0.8415846994535519, 0.8383060109289617, 0.801967213114754, 0.7854644808743169, 0.7920218579234973, 0.8149726775956283, 0.8480874316939891]}, {\"categories\": [\"0\", \"1\", \"2\", \"3\", \"4\", \"5\", \"6\", \"7\", \"8\", \"9\", \"10\", \"11\", \"12\", \"13\", \"14\", \"15\", \"16\", \"17\", \"18\", \"19\"], \"mode\": \"lines\", \"name\": \"accuracy_max\", \"stepped\": true, \"type\": \"scatter\", \"data\": [0.7953551912568306, 0.7953551912568306, 0.8183060109289617, 0.8183060109289617, 0.8183060109289617, 0.8183060109289617, 0.8383060109289617, 0.8383060109289617, 0.8383060109289617, 0.8383060109289617, 0.8383060109289617, 0.8383060109289617, 0.8383060109289617, 0.8415846994535519, 0.8415846994535519, 0.8415846994535519, 0.8415846994535519, 0.8415846994535519, 0.8415846994535519, 0.8480874316939891]}], \"f1_score_weighted\": [{\"categories\": [\"0\", \"1\", \"2\", \"3\", \"4\", \"5\", \"6\", \"7\", \"8\", \"9\", \"10\", \"11\", \"12\", \"13\", \"14\", \"15\", \"16\", \"17\", \"18\", \"19\"], \"mode\": \"markers\", \"name\": \"f1_score_weighted\", \"stepped\": false, \"type\": \"scatter\", \"data\": [0.7942375913471685, 0.7949467988011831, 0.8169876180359102, 0.8032879912584979, 0.8076861003516618, 0.7638364160874727, 0.8375651149145602, 0.8334253261788689, 0.8170504188434518, 0.8136072244437471, 0.800501678151808, 0.8306232562133926, 0.7880675504418417, 0.8402321764018336, 0.8371714619732324, 0.800872041122487, 0.7842842949400326, 0.7891938327735772, 0.8133779301250819, 0.8466189283105944]}, {\"categories\": [\"0\", \"1\", \"2\", \"3\", \"4\", \"5\", \"6\", \"7\", \"8\", \"9\", \"10\", \"11\", \"12\", \"13\", \"14\", \"15\", \"16\", \"17\", \"18\", \"19\"], \"mode\": \"lines\", \"name\": \"f1_score_weighted_max\", \"stepped\": true, \"type\": \"scatter\", \"data\": [0.7942375913471685, 0.7949467988011831, 0.8169876180359102, 0.8169876180359102, 0.8169876180359102, 0.8169876180359102, 0.8375651149145602, 0.8375651149145602, 0.8375651149145602, 0.8375651149145602, 0.8375651149145602, 0.8375651149145602, 0.8375651149145602, 0.8402321764018336, 0.8402321764018336, 0.8402321764018336, 0.8402321764018336, 0.8402321764018336, 0.8402321764018336, 0.8466189283105944]}], \"precision_score_micro\": [{\"categories\": [\"0\", \"1\", \"2\", \"3\", \"4\", \"5\", \"6\", \"7\", \"8\", \"9\", \"10\", \"11\", \"12\", \"13\", \"14\", \"15\", \"16\", \"17\", \"18\", \"19\"], \"mode\": \"markers\", \"name\": \"precision_score_micro\", \"stepped\": false, \"type\": \"scatter\", \"data\": [0.7953551912568306, 0.7953005464480875, 0.8183060109289617, 0.8053005464480874, 0.8084699453551913, 0.765464480874317, 0.8383060109289617, 0.8350273224043716, 0.8184153005464481, 0.8153005464480874, 0.8019125683060109, 0.831584699453552, 0.7886338797814207, 0.8415846994535519, 0.8383060109289617, 0.801967213114754, 0.7854644808743169, 0.7920218579234973, 0.8149726775956283, 0.8480874316939891]}, {\"categories\": [\"0\", \"1\", \"2\", \"3\", \"4\", \"5\", \"6\", \"7\", \"8\", \"9\", \"10\", \"11\", \"12\", \"13\", \"14\", \"15\", \"16\", \"17\", \"18\", \"19\"], \"mode\": \"lines\", \"name\": \"precision_score_micro_max\", \"stepped\": true, \"type\": \"scatter\", \"data\": [0.7953551912568306, 0.7953551912568306, 0.8183060109289617, 0.8183060109289617, 0.8183060109289617, 0.8183060109289617, 0.8383060109289617, 0.8383060109289617, 0.8383060109289617, 0.8383060109289617, 0.8383060109289617, 0.8383060109289617, 0.8383060109289617, 0.8415846994535519, 0.8415846994535519, 0.8415846994535519, 0.8415846994535519, 0.8415846994535519, 0.8415846994535519, 0.8480874316939891]}], \"f1_score_macro\": [{\"categories\": [\"0\", \"1\", \"2\", \"3\", \"4\", \"5\", \"6\", \"7\", \"8\", \"9\", \"10\", \"11\", \"12\", \"13\", \"14\", \"15\", \"16\", \"17\", \"18\", \"19\"], \"mode\": \"markers\", \"name\": \"f1_score_macro\", \"stepped\": false, \"type\": \"scatter\", \"data\": [0.7899121122916706, 0.7909610741848351, 0.8122243492067949, 0.7979481295272945, 0.8032601462975411, 0.758089679697596, 0.834040726237966, 0.8288766318427335, 0.8130147406357084, 0.8093079828588301, 0.7959830317823309, 0.8269839836682206, 0.7846440236549015, 0.8365517356993267, 0.8332916771344173, 0.7965632417100463, 0.7795718898587751, 0.7828750329933385, 0.8096230692573997, 0.8425223848881884]}, {\"categories\": [\"0\", \"1\", \"2\", \"3\", \"4\", \"5\", \"6\", \"7\", \"8\", \"9\", \"10\", \"11\", \"12\", \"13\", \"14\", \"15\", \"16\", \"17\", \"18\", \"19\"], \"mode\": \"lines\", \"name\": \"f1_score_macro_max\", \"stepped\": true, \"type\": \"scatter\", \"data\": [0.7899121122916706, 0.7909610741848351, 0.8122243492067949, 0.8122243492067949, 0.8122243492067949, 0.8122243492067949, 0.834040726237966, 0.834040726237966, 0.834040726237966, 0.834040726237966, 0.834040726237966, 0.834040726237966, 0.834040726237966, 0.8365517356993267, 0.8365517356993267, 0.8365517356993267, 0.8365517356993267, 0.8365517356993267, 0.8365517356993267, 0.8425223848881884]}], \"weighted_accuracy\": [{\"categories\": [\"0\", \"1\", \"2\", \"3\", \"4\", \"5\", \"6\", \"7\", \"8\", \"9\", \"10\", \"11\", \"12\", \"13\", \"14\", \"15\", \"16\", \"17\", \"18\", \"19\"], \"mode\": \"markers\", \"name\": \"weighted_accuracy\", \"stepped\": false, \"type\": \"scatter\", \"data\": [0.7995120430367557, 0.7991553963701673, 0.8242241059220946, 0.8117177780692157, 0.8132331594824731, 0.7728607366350901, 0.8424989158649895, 0.8423185987003843, 0.822590660122365, 0.819954201467076, 0.805965899780469, 0.8361910019438643, 0.7913512801849464, 0.8460425190746854, 0.8435689925306059, 0.8074407201498511, 0.7899937903785682, 0.8004473780049401, 0.8185656479135892, 0.8551662540697341]}, {\"categories\": [\"0\", \"1\", \"2\", \"3\", \"4\", \"5\", \"6\", \"7\", \"8\", \"9\", \"10\", \"11\", \"12\", \"13\", \"14\", \"15\", \"16\", \"17\", \"18\", \"19\"], \"mode\": \"lines\", \"name\": \"weighted_accuracy_max\", \"stepped\": true, \"type\": \"scatter\", \"data\": [0.7995120430367557, 0.7995120430367557, 0.8242241059220946, 0.8242241059220946, 0.8242241059220946, 0.8242241059220946, 0.8424989158649895, 0.8424989158649895, 0.8424989158649895, 0.8424989158649895, 0.8424989158649895, 0.8424989158649895, 0.8424989158649895, 0.8460425190746854, 0.8460425190746854, 0.8460425190746854, 0.8460425190746854, 0.8460425190746854, 0.8460425190746854, 0.8551662540697341]}], \"recall_score_macro\": [{\"categories\": [\"0\", \"1\", \"2\", \"3\", \"4\", \"5\", \"6\", \"7\", \"8\", \"9\", \"10\", \"11\", \"12\", \"13\", \"14\", \"15\", \"16\", \"17\", \"18\", \"19\"], \"mode\": \"markers\", \"name\": \"recall_score_macro\", \"stepped\": false, \"type\": \"scatter\", \"data\": [0.7906742801895195, 0.7909841341910901, 0.8118134849171339, 0.7980898494786078, 0.8031474448168833, 0.7573262115607247, 0.8337300017527012, 0.8269992618594898, 0.8136782173126388, 0.8099270239364916, 0.7972758092061172, 0.8264039012812294, 0.7855543146902173, 0.8364309337115337, 0.8324899450893035, 0.7957882445358694, 0.7802922030829117, 0.7826103029615437, 0.8107971234489474, 0.840186886092486]}, {\"categories\": [\"0\", \"1\", \"2\", \"3\", \"4\", \"5\", \"6\", \"7\", \"8\", \"9\", \"10\", \"11\", \"12\", \"13\", \"14\", \"15\", \"16\", \"17\", \"18\", \"19\"], \"mode\": \"lines\", \"name\": \"recall_score_macro_max\", \"stepped\": true, \"type\": \"scatter\", \"data\": [0.7906742801895195, 0.7909841341910901, 0.8118134849171339, 0.8118134849171339, 0.8118134849171339, 0.8118134849171339, 0.8337300017527012, 0.8337300017527012, 0.8337300017527012, 0.8337300017527012, 0.8337300017527012, 0.8337300017527012, 0.8337300017527012, 0.8364309337115337, 0.8364309337115337, 0.8364309337115337, 0.8364309337115337, 0.8364309337115337, 0.8364309337115337, 0.840186886092486]}], \"log_loss\": [{\"categories\": [\"0\", \"1\", \"2\", \"3\", \"4\", \"5\", \"6\", \"7\", \"8\", \"9\", \"10\", \"11\", \"12\", \"13\", \"14\", \"15\", \"16\", \"17\", \"18\", \"19\"], \"mode\": \"markers\", \"name\": \"log_loss\", \"stepped\": false, \"type\": \"scatter\", \"data\": [0.5381774711792447, 0.48883718994164826, 0.4296978620243118, 0.42540321421850524, 0.4234114729250501, 0.4848669921278684, 0.39653130903053213, 0.43841626641323694, 0.4114419266286524, 0.42130885887211916, 0.4333953667240745, 0.42158543859896574, 0.4814686789007333, 0.38696344826752704, 0.388329254152496, 0.4404325147073928, 0.5155286832383315, 0.4894576744540206, 0.41364350791973903, 0.4080227602106147]}, {\"categories\": [\"0\", \"1\", \"2\", \"3\", \"4\", \"5\", \"6\", \"7\", \"8\", \"9\", \"10\", \"11\", \"12\", \"13\", \"14\", \"15\", \"16\", \"17\", \"18\", \"19\"], \"mode\": \"lines\", \"name\": \"log_loss_min\", \"stepped\": true, \"type\": \"scatter\", \"data\": [0.5381774711792447, 0.48883718994164826, 0.4296978620243118, 0.42540321421850524, 0.4234114729250501, 0.4234114729250501, 0.39653130903053213, 0.39653130903053213, 0.39653130903053213, 0.39653130903053213, 0.39653130903053213, 0.39653130903053213, 0.39653130903053213, 0.38696344826752704, 0.38696344826752704, 0.38696344826752704, 0.38696344826752704, 0.38696344826752704, 0.38696344826752704, 0.38696344826752704]}]}, \"metricName\": null, \"primaryMetricName\": \"accuracy\", \"showLegend\": false}, \"run_metrics\": [{\"name\": \"experiment_status\", \"run_id\": \"AutoML_e43a3ec5-770a-4d7f-b745-a9f0f53e4b82\", \"categories\": [0, 1, 2, 3, 4, 5, 6, 7, 8, 9, 10, 11, 12, 13], \"series\": [{\"data\": [\"DatasetEvaluation\", \"FeaturesGeneration\", \"DatasetFeaturization\", \"DatasetFeaturizationCompleted\", \"DatasetCrossValidationSplit\", \"ModelSelection\", \"BestRunExplainModel\", \"ModelExplanationDataSetSetup\", \"PickSurrogateModel\", \"EngineeredFeatureExplanations\", \"EngineeredFeatureExplanations\", \"RawFeaturesExplanations\", \"RawFeaturesExplanations\", \"BestRunExplainModel\"]}]}, {\"name\": \"experiment_status_description\", \"run_id\": \"AutoML_e43a3ec5-770a-4d7f-b745-a9f0f53e4b82\", \"categories\": [0, 1, 2, 3, 4, 5, 6, 7, 8, 9, 10, 11, 12, 13], \"series\": [{\"data\": [\"Gathering dataset statistics.\", \"Generating features for the dataset.\", \"Beginning to fit featurizers and featurize the dataset.\", \"Completed fit featurizers and featurizing the dataset.\", \"Generating individually featurized CV splits.\", \"Beginning model selection.\", \"Best run model explanations started\", \"Model explanations data setup completed\", \"Choosing LightGBM as the surrogate model for explanations\", \"Computation of engineered features started\", \"Computation of engineered features completed\", \"Computation of raw features started\", \"Computation of raw features completed\", \"Best run model explanations completed\"]}]}, {\"name\": \"AUC_macro\", \"run_id\": \"AutoML_e43a3ec5-770a-4d7f-b745-a9f0f53e4b82\", \"categories\": [0], \"series\": [{\"data\": [0.9093484380556104]}]}, {\"name\": \"accuracy\", \"run_id\": \"AutoML_e43a3ec5-770a-4d7f-b745-a9f0f53e4b82\", \"categories\": [0], \"series\": [{\"data\": [0.8480874316939891]}]}, {\"name\": \"average_precision_score_macro\", \"run_id\": \"AutoML_e43a3ec5-770a-4d7f-b745-a9f0f53e4b82\", \"categories\": [0], \"series\": [{\"data\": [0.9137437493447049]}]}, {\"name\": \"norm_macro_recall\", \"run_id\": \"AutoML_e43a3ec5-770a-4d7f-b745-a9f0f53e4b82\", \"categories\": [0], \"series\": [{\"data\": [0.6803737721849723]}]}, {\"name\": \"matthews_correlation\", \"run_id\": \"AutoML_e43a3ec5-770a-4d7f-b745-a9f0f53e4b82\", \"categories\": [0], \"series\": [{\"data\": [0.6922725694659246]}]}, {\"name\": \"precision_score_micro\", \"run_id\": \"AutoML_e43a3ec5-770a-4d7f-b745-a9f0f53e4b82\", \"categories\": [0], \"series\": [{\"data\": [0.8480874316939891]}]}, {\"name\": \"log_loss\", \"run_id\": \"AutoML_e43a3ec5-770a-4d7f-b745-a9f0f53e4b82\", \"categories\": [0], \"series\": [{\"data\": [0.4080227602106147]}]}, {\"name\": \"AUC_micro\", \"run_id\": \"AutoML_e43a3ec5-770a-4d7f-b745-a9f0f53e4b82\", \"categories\": [0], \"series\": [{\"data\": [0.9090269939383081]}]}, {\"name\": \"precision_score_macro\", \"run_id\": \"AutoML_e43a3ec5-770a-4d7f-b745-a9f0f53e4b82\", \"categories\": [0], \"series\": [{\"data\": [0.8525188492479764]}]}, {\"name\": \"precision_score_weighted\", \"run_id\": \"AutoML_e43a3ec5-770a-4d7f-b745-a9f0f53e4b82\", \"categories\": [0], \"series\": [{\"data\": [0.85215136379308]}]}, {\"name\": \"weighted_accuracy\", \"run_id\": \"AutoML_e43a3ec5-770a-4d7f-b745-a9f0f53e4b82\", \"categories\": [0], \"series\": [{\"data\": [0.8551662540697341]}]}, {\"name\": \"recall_score_micro\", \"run_id\": \"AutoML_e43a3ec5-770a-4d7f-b745-a9f0f53e4b82\", \"categories\": [0], \"series\": [{\"data\": [0.8480874316939891]}]}, {\"name\": \"f1_score_weighted\", \"run_id\": \"AutoML_e43a3ec5-770a-4d7f-b745-a9f0f53e4b82\", \"categories\": [0], \"series\": [{\"data\": [0.8466189283105944]}]}, {\"name\": \"average_precision_score_micro\", \"run_id\": \"AutoML_e43a3ec5-770a-4d7f-b745-a9f0f53e4b82\", \"categories\": [0], \"series\": [{\"data\": [0.9112333918940705]}]}, {\"name\": \"recall_score_weighted\", \"run_id\": \"AutoML_e43a3ec5-770a-4d7f-b745-a9f0f53e4b82\", \"categories\": [0], \"series\": [{\"data\": [0.8480874316939891]}]}, {\"name\": \"AUC_weighted\", \"run_id\": \"AutoML_e43a3ec5-770a-4d7f-b745-a9f0f53e4b82\", \"categories\": [0], \"series\": [{\"data\": [0.9093484380556104]}]}, {\"name\": \"f1_score_micro\", \"run_id\": \"AutoML_e43a3ec5-770a-4d7f-b745-a9f0f53e4b82\", \"categories\": [0], \"series\": [{\"data\": [0.8480874316939891]}]}, {\"name\": \"balanced_accuracy\", \"run_id\": \"AutoML_e43a3ec5-770a-4d7f-b745-a9f0f53e4b82\", \"categories\": [0], \"series\": [{\"data\": [0.840186886092486]}]}, {\"name\": \"recall_score_macro\", \"run_id\": \"AutoML_e43a3ec5-770a-4d7f-b745-a9f0f53e4b82\", \"categories\": [0], \"series\": [{\"data\": [0.840186886092486]}]}, {\"name\": \"average_precision_score_weighted\", \"run_id\": \"AutoML_e43a3ec5-770a-4d7f-b745-a9f0f53e4b82\", \"categories\": [0], \"series\": [{\"data\": [0.9159647218546538]}]}, {\"name\": \"f1_score_macro\", \"run_id\": \"AutoML_e43a3ec5-770a-4d7f-b745-a9f0f53e4b82\", \"categories\": [0], \"series\": [{\"data\": [0.8425223848881884]}]}], \"run_logs\": \"\\nRun is completed.\", \"graph\": {}, \"widget_settings\": {\"childWidgetDisplay\": \"popup\", \"send_telemetry\": false, \"log_level\": \"INFO\", \"sdk_version\": \"1.19.0\"}, \"loading\": false}"
     },
     "metadata": {},
     "output_type": "display_data"
    }
   ],
   "source": [
    "from azureml.widgets import RunDetails\n",
    "\n",
    "RunDetails(remote_run).show()"
   ]
  },
  {
   "cell_type": "markdown",
   "metadata": {},
   "source": [
    "## Best Model\n",
    "\n",
    "TODO: In the cell below, get the best model from the automl experiments and display all the properties of the model.\n",
    "\n"
   ]
  },
  {
   "cell_type": "code",
   "execution_count": 10,
   "metadata": {
    "gather": {
     "logged": 1598431425670
    },
    "jupyter": {
     "outputs_hidden": false,
     "source_hidden": false
    },
    "nteract": {
     "transient": {
      "deleting": false
     }
    }
   },
   "outputs": [],
   "source": [
    "best_run_aml, fitted_model_aml = remote_run.get_output()\n",
    "model_name = best_run_aml.properties['model_name']"
   ]
  },
  {
   "cell_type": "code",
   "execution_count": 11,
   "metadata": {
    "gather": {
     "logged": 1598431426111
    },
    "jupyter": {
     "outputs_hidden": false,
     "source_hidden": false
    },
    "nteract": {
     "transient": {
      "deleting": false
     }
    }
   },
   "outputs": [],
   "source": [
    "#TODO: Save the best model\n",
    "best_run_aml.download_file('outputs/model.pkl', 'outputs/heart-diesease-auto-model.pkl')\n",
    "best_run_aml.download_file('outputs/scoring_file_v_1_0_0.py', 'outputs/score_aml.py')\n",
    "best_run_aml.download_file('automl_driver.py', 'outputs/automl_driver.py')"
   ]
  },
  {
   "cell_type": "markdown",
   "metadata": {},
   "source": [
    "## Auto ML Evaluation"
   ]
  },
  {
   "cell_type": "code",
   "execution_count": 12,
   "metadata": {},
   "outputs": [],
   "source": [
    "import pickle\n",
    "file = open(\"outputs/heart-diesease-auto-model.pkl\",'rb')\n",
    "aml_model = pickle.load(file)\n",
    "file.close()"
   ]
  },
  {
   "cell_type": "code",
   "execution_count": 15,
   "metadata": {},
   "outputs": [
    {
     "name": "stdout",
     "output_type": "stream",
     "text": [
      "0.933993399339934\n"
     ]
    }
   ],
   "source": [
    "from train import clean_data\n",
    "from sklearn.metrics import accuracy_score\n",
    "import pandas as pd\n",
    "\n",
    "\n",
    "factory = TabularDatasetFactory()\n",
    "test_data_path = \"https://raw.githubusercontent.com/KrishnaB22/Azure-ML-Capstone/main/dataset/heart.csv\"\n",
    "test_ds = pd.read_csv(test_data_path)\n",
    "y_test = test_ds[['target']]\n",
    "print(accuracy_score(aml_model.predict(test_ds.drop(columns=['target'])), y_test))"
   ]
  },
  {
   "cell_type": "code",
   "execution_count": 17,
   "metadata": {},
   "outputs": [
    {
     "name": "stdout",
     "output_type": "stream",
     "text": [
      "              precision    recall  f1-score   support\n",
      "\n",
      "           0       0.95      0.90      0.93       138\n",
      "           1       0.92      0.96      0.94       165\n",
      "\n",
      "    accuracy                           0.93       303\n",
      "   macro avg       0.94      0.93      0.93       303\n",
      "weighted avg       0.93      0.93      0.93       303\n",
      "\n"
     ]
    }
   ],
   "source": [
    "from sklearn.metrics import classification_report\n",
    "print(classification_report(y_test, aml_model.predict(test_ds.drop(columns=['target']))))"
   ]
  },
  {
   "cell_type": "markdown",
   "metadata": {},
   "source": [
    "### The AutoML model has an acccuracy of 93%."
   ]
  },
  {
   "cell_type": "markdown",
   "metadata": {},
   "source": [
    "### As the AutoML model has higher accuracy we deploy the AutoML model "
   ]
  },
  {
   "cell_type": "markdown",
   "metadata": {},
   "source": [
    "## Model Deployment\n",
    "\n",
    "Remember you have to deploy only one of the two models you trained.. Perform the steps in the rest of this notebook only if you wish to deploy this model.\n",
    "\n",
    "TODO: In the cell below, register the model, create an inference config and deploy the model as a web service."
   ]
  },
  {
   "cell_type": "code",
   "execution_count": null,
   "metadata": {},
   "outputs": [],
   "source": []
  },
  {
   "cell_type": "code",
   "execution_count": 36,
   "metadata": {},
   "outputs": [
    {
     "name": "stdout",
     "output_type": "stream",
     "text": [
      "Registering model automl_cap\n"
     ]
    }
   ],
   "source": [
    "from azureml.core.model import Model\n",
    "model = Model.register(workspace = ws,\n",
    "                        model_path =\"outputs/heart-diesease-auto-model.pkl\",\n",
    "                        model_name = \"automl_cap\")"
   ]
  },
  {
   "cell_type": "code",
   "execution_count": 41,
   "metadata": {},
   "outputs": [
    {
     "name": "stdout",
     "output_type": "stream",
     "text": [
      "Model(workspace=Workspace.create(name='quick-starts-ws-132450', subscription_id='6971f5ac-8af1-446e-8034-05acea24681f', resource_group='aml-quickstarts-132450'), name=automl_cap, id=automl_cap:1, version=1, tags={}, properties={})\n"
     ]
    }
   ],
   "source": [
    "print(model)"
   ]
  },
  {
   "cell_type": "markdown",
   "metadata": {},
   "source": [
    "### Inference configuration"
   ]
  },
  {
   "cell_type": "code",
   "execution_count": 45,
   "metadata": {
    "gather": {
     "logged": 1598431435189
    },
    "jupyter": {
     "outputs_hidden": false,
     "source_hidden": false
    },
    "nteract": {
     "transient": {
      "deleting": false
     }
    }
   },
   "outputs": [],
   "source": [
    "from azureml.core.environment import Environment\n",
    "from azureml.core.model import InferenceConfig\n",
    "\n",
    "\n",
    "env = Environment.get(ws, \"AzureML-Minimal\")\n",
    "\n",
    "for pip_package in [\"scikit-learn\"]:\n",
    "    env.python.conda_dependencies.add_pip_package(pip_package)\n",
    "\n",
    "inference_config = InferenceConfig(entry_script='./score.py',\n",
    "                                    environment=env)"
   ]
  },
  {
   "cell_type": "code",
   "execution_count": null,
   "metadata": {},
   "outputs": [
    {
     "name": "stdout",
     "output_type": "stream",
     "text": [
      "Tips: You can try get_logs(): https://aka.ms/debugimage#dockerlog or local deployment: https://aka.ms/debugimage#debug-locally to debug if deployment takes longer than 10 minutes.\n",
      "Running......................................................."
     ]
    }
   ],
   "source": [
    "from azureml.core.webservice import AciWebservice\n",
    "from azureml.core.model import Model\n",
    "\n",
    "deployment_config = AciWebservice.deploy_configuration(cpu_cores = 1, memory_gb = 1)\n",
    "service = Model.deploy(ws, \"mldeploy\", [model], inference_config, deployment_config)\n",
    "service.wait_for_deployment(show_output = True)\n",
    "print(service.state)"
   ]
  },
  {
   "cell_type": "markdown",
   "metadata": {
    "collapsed": true,
    "gather": {
     "logged": 1598431657736
    },
    "jupyter": {
     "outputs_hidden": false,
     "source_hidden": false
    },
    "nteract": {
     "transient": {
      "deleting": false
     }
    }
   },
   "source": [
    "TODO: In the cell below, send a request to the web service you deployed to test it."
   ]
  },
  {
   "cell_type": "code",
   "execution_count": null,
   "metadata": {
    "gather": {
     "logged": 1598432707604
    },
    "jupyter": {
     "outputs_hidden": false,
     "source_hidden": false
    },
    "nteract": {
     "transient": {
      "deleting": false
     }
    }
   },
   "outputs": [],
   "source": []
  },
  {
   "cell_type": "markdown",
   "metadata": {
    "collapsed": true,
    "gather": {
     "logged": 1598432765711
    },
    "jupyter": {
     "outputs_hidden": false,
     "source_hidden": false
    },
    "nteract": {
     "transient": {
      "deleting": false
     }
    }
   },
   "source": [
    "TODO: In the cell below, print the logs of the web service and delete the service"
   ]
  },
  {
   "cell_type": "code",
   "execution_count": null,
   "metadata": {
    "jupyter": {
     "outputs_hidden": false,
     "source_hidden": false
    },
    "nteract": {
     "transient": {
      "deleting": false
     }
    }
   },
   "outputs": [],
   "source": []
  }
 ],
 "metadata": {
  "kernel_info": {
   "name": "python3-azureml"
  },
  "kernelspec": {
   "display_name": "Python 3",
   "language": "python",
   "name": "python3"
  },
  "language_info": {
   "codemirror_mode": {
    "name": "ipython",
    "version": 3
   },
   "file_extension": ".py",
   "mimetype": "text/x-python",
   "name": "python",
   "nbconvert_exporter": "python",
   "pygments_lexer": "ipython3",
   "version": "3.6.9"
  },
  "nteract": {
   "version": "nteract-front-end@1.0.0"
  },
  "toc": {
   "base_numbering": 1,
   "nav_menu": {},
   "number_sections": true,
   "sideBar": true,
   "skip_h1_title": false,
   "title_cell": "Table of Contents",
   "title_sidebar": "Contents",
   "toc_cell": false,
   "toc_position": {},
   "toc_section_display": true,
   "toc_window_display": false
  }
 },
 "nbformat": 4,
 "nbformat_minor": 2
}
