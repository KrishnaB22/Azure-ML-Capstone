{
 "cells": [
  {
   "cell_type": "markdown",
   "metadata": {},
   "source": [
    "# Automated ML\n",
    "\n",
    "TODO: Import Dependencies. In the cell below, import all the dependencies that you will need to complete the project."
   ]
  },
  {
   "cell_type": "code",
   "execution_count": 1,
   "metadata": {
    "gather": {
     "logged": 1598423888013
    },
    "jupyter": {
     "outputs_hidden": false,
     "source_hidden": false
    },
    "nteract": {
     "transient": {
      "deleting": false
     }
    }
   },
   "outputs": [],
   "source": [
    "from azureml.core import Workspace, Experiment\n",
    "from azureml.data.dataset_factory import TabularDatasetFactory\n",
    "from azureml.train.automl import AutoMLConfig"
   ]
  },
  {
   "cell_type": "markdown",
   "metadata": {},
   "source": [
    "## Dataset\n",
    "\n",
    "### Overview\n",
    "TODO: In this markdown cell, give an overview of the dataset you are using. Also mention the task you will be performing.\n",
    "\n",
    "\n",
    "TODO: Get data. In the cell below, write code to access the data you will be using in this project. Remember that the dataset needs to be external."
   ]
  },
  {
   "cell_type": "code",
   "execution_count": 2,
   "metadata": {
    "gather": {
     "logged": 1598423890461
    },
    "jupyter": {
     "outputs_hidden": false,
     "source_hidden": false
    },
    "nteract": {
     "transient": {
      "deleting": false
     }
    }
   },
   "outputs": [],
   "source": [
    "ws = Workspace.from_config()\n",
    "\n",
    "# choose a name for experiment\n",
    "experiment_name = 'mlexpauto'\n",
    "\n",
    "experiment=Experiment(ws, experiment_name)"
   ]
  },
  {
   "cell_type": "markdown",
   "metadata": {},
   "source": [
    "## Creating Compute"
   ]
  },
  {
   "cell_type": "code",
   "execution_count": 3,
   "metadata": {},
   "outputs": [
    {
     "name": "stdout",
     "output_type": "stream",
     "text": [
      "Found existing cluster, use it.\n"
     ]
    }
   ],
   "source": [
    "from azureml.core.compute import ComputeTarget, AmlCompute\n",
    "\n",
    "amlcompute_cluster_name = \"capprocompute\"\n",
    "\n",
    "# Verify that cluster does not exist already\n",
    "try:\n",
    "    aml_compute = ComputeTarget(workspace=ws, name=amlcompute_cluster_name)\n",
    "    print('Found existing cluster, use it.')\n",
    "except ComputeTargetException:\n",
    "    compute_config = AmlCompute.provisioning_configuration(vm_size='STANDARD_D2_V2',\n",
    "                                                           max_nodes=4)\n",
    "    aml_compute = ComputeTarget.create(ws, amlcompute_cluster_name, compute_config)"
   ]
  },
  {
   "cell_type": "markdown",
   "metadata": {},
   "source": [
    "## AutoML Configuration\n",
    "\n",
    "TODO: Explain why you chose the automl settings and cofiguration you used below."
   ]
  },
  {
   "cell_type": "code",
   "execution_count": 4,
   "metadata": {},
   "outputs": [],
   "source": [
    "factory = TabularDatasetFactory()\n",
    "url = 'https://raw.githubusercontent.com/KrishnaB22/Azure-ML-Capstone/main/dataset/heart.csv'\n",
    "trainds = factory.from_delimited_files(url)"
   ]
  },
  {
   "cell_type": "code",
   "execution_count": 5,
   "metadata": {
    "gather": {
     "logged": 1598429217746
    },
    "jupyter": {
     "outputs_hidden": false,
     "source_hidden": false
    },
    "nteract": {
     "transient": {
      "deleting": false
     }
    }
   },
   "outputs": [],
   "source": [
    "# TODO: Put your automl settings here\n",
    "automl_settings = {\n",
    "    \"enable_early_stopping\" : True,\n",
    "    \"primary_metric\": 'accuracy',\n",
    "    \"featurization\": 'auto',\n",
    "}\n",
    "\n",
    "# TODO: Put your automl config here\n",
    "automl_config = AutoMLConfig(experiment_timeout_minutes=20,\n",
    "                             task = 'classification',\n",
    "                             compute_target=aml_compute,\n",
    "                             experiment_exit_score = 0.9984,\n",
    "                             blocked_models = ['KNN','LinearSVM'],\n",
    "                             enable_onnx_compatible_models=True,\n",
    "                             training_data = trainds,\n",
    "                             label_column_name = 'target',\n",
    "                             **automl_settings\n",
    "                            )"
   ]
  },
  {
   "cell_type": "code",
   "execution_count": 6,
   "metadata": {
    "gather": {
     "logged": 1598431107951
    },
    "jupyter": {
     "outputs_hidden": false,
     "source_hidden": false
    },
    "nteract": {
     "transient": {
      "deleting": false
     }
    }
   },
   "outputs": [
    {
     "name": "stdout",
     "output_type": "stream",
     "text": [
      "Running on remote.\n"
     ]
    }
   ],
   "source": [
    "# TODO: Submit your experiment\n",
    "remote_run = experiment.submit(automl_config)"
   ]
  },
  {
   "cell_type": "markdown",
   "metadata": {},
   "source": [
    "## Run Details\n",
    "\n",
    "OPTIONAL: Write about the different models trained and their performance. Why do you think some models did better than others?\n",
    "\n",
    "TODO: In the cell below, use the `RunDetails` widget to show the different experiments."
   ]
  },
  {
   "cell_type": "code",
   "execution_count": 7,
   "metadata": {
    "gather": {
     "logged": 1598431121770
    },
    "jupyter": {
     "outputs_hidden": false,
     "source_hidden": false
    },
    "nteract": {
     "transient": {
      "deleting": false
     }
    }
   },
   "outputs": [
    {
     "data": {
      "application/vnd.jupyter.widget-view+json": {
       "model_id": "40d14dd44930421aa9574b8bf724e827",
       "version_major": 2,
       "version_minor": 0
      },
      "text/plain": [
       "_AutoMLWidget(widget_settings={'childWidgetDisplay': 'popup', 'send_telemetry': False, 'log_level': 'INFO', 's…"
      ]
     },
     "metadata": {},
     "output_type": "display_data"
    },
    {
     "data": {
      "application/aml.mini.widget.v1": "{\"status\": \"Completed\", \"workbench_run_details_uri\": \"https://ml.azure.com/experiments/mlexpauto/runs/AutoML_d6eaef32-fdf6-4080-9c34-836678695540?wsid=/subscriptions/2c48c51c-bd47-40d4-abbe-fb8eabd19c8c/resourcegroups/aml-quickstarts-132640/workspaces/quick-starts-ws-132640\", \"run_id\": \"AutoML_d6eaef32-fdf6-4080-9c34-836678695540\", \"run_properties\": {\"run_id\": \"AutoML_d6eaef32-fdf6-4080-9c34-836678695540\", \"created_utc\": \"2020-12-31T13:17:52.598806Z\", \"properties\": {\"num_iterations\": \"1000\", \"training_type\": \"TrainFull\", \"acquisition_function\": \"EI\", \"primary_metric\": \"accuracy\", \"train_split\": \"0\", \"acquisition_parameter\": \"0\", \"num_cross_validation\": null, \"target\": \"capprocompute\", \"AMLSettingsJsonString\": \"{\\\"path\\\":null,\\\"name\\\":\\\"mlexpauto\\\",\\\"subscription_id\\\":\\\"2c48c51c-bd47-40d4-abbe-fb8eabd19c8c\\\",\\\"resource_group\\\":\\\"aml-quickstarts-132640\\\",\\\"workspace_name\\\":\\\"quick-starts-ws-132640\\\",\\\"region\\\":\\\"southcentralus\\\",\\\"compute_target\\\":\\\"capprocompute\\\",\\\"spark_service\\\":null,\\\"azure_service\\\":\\\"remote\\\",\\\"many_models\\\":false,\\\"pipeline_fetch_max_batch_size\\\":1,\\\"iterations\\\":1000,\\\"primary_metric\\\":\\\"accuracy\\\",\\\"task_type\\\":\\\"classification\\\",\\\"data_script\\\":null,\\\"validation_size\\\":0.0,\\\"n_cross_validations\\\":null,\\\"y_min\\\":null,\\\"y_max\\\":null,\\\"num_classes\\\":null,\\\"featurization\\\":\\\"auto\\\",\\\"_ignore_package_version_incompatibilities\\\":false,\\\"is_timeseries\\\":false,\\\"max_cores_per_iteration\\\":1,\\\"max_concurrent_iterations\\\":1,\\\"iteration_timeout_minutes\\\":null,\\\"mem_in_mb\\\":null,\\\"enforce_time_on_windows\\\":false,\\\"experiment_timeout_minutes\\\":20,\\\"experiment_exit_score\\\":0.9984,\\\"whitelist_models\\\":null,\\\"blacklist_algos\\\":[\\\"KNN\\\",\\\"LinearSVM\\\",\\\"TensorFlowLinearClassifier\\\",\\\"TensorFlowDNN\\\"],\\\"supported_models\\\":[\\\"SVM\\\",\\\"ExtremeRandomTrees\\\",\\\"TensorFlowDNN\\\",\\\"LogisticRegression\\\",\\\"BernoulliNaiveBayes\\\",\\\"SGD\\\",\\\"AveragedPerceptronClassifier\\\",\\\"RandomForest\\\",\\\"TensorFlowLinearClassifier\\\",\\\"KNN\\\",\\\"LightGBM\\\",\\\"XGBoostClassifier\\\",\\\"GradientBoosting\\\",\\\"LinearSVM\\\",\\\"MultinomialNaiveBayes\\\",\\\"DecisionTree\\\"],\\\"auto_blacklist\\\":true,\\\"blacklist_samples_reached\\\":false,\\\"exclude_nan_labels\\\":true,\\\"verbosity\\\":20,\\\"_debug_log\\\":\\\"azureml_automl.log\\\",\\\"show_warnings\\\":false,\\\"model_explainability\\\":true,\\\"service_url\\\":null,\\\"sdk_url\\\":null,\\\"sdk_packages\\\":null,\\\"enable_onnx_compatible_models\\\":true,\\\"enable_split_onnx_featurizer_estimator_models\\\":false,\\\"vm_type\\\":\\\"STANDARD_DS3_V2\\\",\\\"telemetry_verbosity\\\":20,\\\"send_telemetry\\\":true,\\\"enable_dnn\\\":false,\\\"scenario\\\":\\\"SDK-1.13.0\\\",\\\"environment_label\\\":null,\\\"force_text_dnn\\\":false,\\\"enable_feature_sweeping\\\":false,\\\"enable_early_stopping\\\":true,\\\"early_stopping_n_iters\\\":10,\\\"metrics\\\":null,\\\"enable_ensembling\\\":true,\\\"enable_stack_ensembling\\\":false,\\\"ensemble_iterations\\\":15,\\\"enable_tf\\\":false,\\\"enable_subsampling\\\":null,\\\"subsample_seed\\\":null,\\\"enable_nimbusml\\\":false,\\\"enable_streaming\\\":false,\\\"force_streaming\\\":false,\\\"track_child_runs\\\":true,\\\"allowed_private_models\\\":[],\\\"label_column_name\\\":\\\"target\\\",\\\"weight_column_name\\\":null,\\\"cv_split_column_names\\\":null,\\\"enable_local_managed\\\":false,\\\"_local_managed_run_id\\\":null,\\\"cost_mode\\\":1,\\\"lag_length\\\":0,\\\"metric_operation\\\":\\\"maximize\\\",\\\"preprocess\\\":true}\", \"DataPrepJsonString\": \"{\\\\\\\"training_data\\\\\\\": \\\\\\\"{\\\\\\\\\\\\\\\"blocks\\\\\\\\\\\\\\\": [{\\\\\\\\\\\\\\\"id\\\\\\\\\\\\\\\": \\\\\\\\\\\\\\\"9bb1ec3f-b5e6-48f9-ac16-6fe32317342f\\\\\\\\\\\\\\\", \\\\\\\\\\\\\\\"type\\\\\\\\\\\\\\\": \\\\\\\\\\\\\\\"Microsoft.DPrep.GetFilesBlock\\\\\\\\\\\\\\\", \\\\\\\\\\\\\\\"arguments\\\\\\\\\\\\\\\": {\\\\\\\\\\\\\\\"isArchive\\\\\\\\\\\\\\\": false, \\\\\\\\\\\\\\\"path\\\\\\\\\\\\\\\": {\\\\\\\\\\\\\\\"target\\\\\\\\\\\\\\\": 4, \\\\\\\\\\\\\\\"resourceDetails\\\\\\\\\\\\\\\": [{\\\\\\\\\\\\\\\"path\\\\\\\\\\\\\\\": \\\\\\\\\\\\\\\"https://raw.githubusercontent.com/KrishnaB22/Azure-ML-Capstone/main/dataset/heart.csv\\\\\\\\\\\\\\\"}]}}, \\\\\\\\\\\\\\\"localData\\\\\\\\\\\\\\\": {}, \\\\\\\\\\\\\\\"isEnabled\\\\\\\\\\\\\\\": true, \\\\\\\\\\\\\\\"name\\\\\\\\\\\\\\\": null, \\\\\\\\\\\\\\\"annotation\\\\\\\\\\\\\\\": null}, {\\\\\\\\\\\\\\\"id\\\\\\\\\\\\\\\": \\\\\\\\\\\\\\\"320f798d-121b-4c97-a42f-f7f22326352d\\\\\\\\\\\\\\\", \\\\\\\\\\\\\\\"type\\\\\\\\\\\\\\\": \\\\\\\\\\\\\\\"Microsoft.DPrep.ParseDelimitedBlock\\\\\\\\\\\\\\\", \\\\\\\\\\\\\\\"arguments\\\\\\\\\\\\\\\": {\\\\\\\\\\\\\\\"columnHeadersMode\\\\\\\\\\\\\\\": 3, \\\\\\\\\\\\\\\"fileEncoding\\\\\\\\\\\\\\\": 0, \\\\\\\\\\\\\\\"handleQuotedLineBreaks\\\\\\\\\\\\\\\": false, \\\\\\\\\\\\\\\"preview\\\\\\\\\\\\\\\": false, \\\\\\\\\\\\\\\"separator\\\\\\\\\\\\\\\": \\\\\\\\\\\\\\\",\\\\\\\\\\\\\\\", \\\\\\\\\\\\\\\"skipRows\\\\\\\\\\\\\\\": 0, \\\\\\\\\\\\\\\"skipRowsMode\\\\\\\\\\\\\\\": 0}, \\\\\\\\\\\\\\\"localData\\\\\\\\\\\\\\\": {}, \\\\\\\\\\\\\\\"isEnabled\\\\\\\\\\\\\\\": true, \\\\\\\\\\\\\\\"name\\\\\\\\\\\\\\\": null, \\\\\\\\\\\\\\\"annotation\\\\\\\\\\\\\\\": null}, {\\\\\\\\\\\\\\\"id\\\\\\\\\\\\\\\": \\\\\\\\\\\\\\\"90d3b5ce-02f5-4218-be9c-e8be299b591d\\\\\\\\\\\\\\\", \\\\\\\\\\\\\\\"type\\\\\\\\\\\\\\\": \\\\\\\\\\\\\\\"Microsoft.DPrep.DropColumnsBlock\\\\\\\\\\\\\\\", \\\\\\\\\\\\\\\"arguments\\\\\\\\\\\\\\\": {\\\\\\\\\\\\\\\"columns\\\\\\\\\\\\\\\": {\\\\\\\\\\\\\\\"type\\\\\\\\\\\\\\\": 0, \\\\\\\\\\\\\\\"details\\\\\\\\\\\\\\\": {\\\\\\\\\\\\\\\"selectedColumns\\\\\\\\\\\\\\\": [\\\\\\\\\\\\\\\"Path\\\\\\\\\\\\\\\"]}}}, \\\\\\\\\\\\\\\"localData\\\\\\\\\\\\\\\": {}, \\\\\\\\\\\\\\\"isEnabled\\\\\\\\\\\\\\\": true, \\\\\\\\\\\\\\\"name\\\\\\\\\\\\\\\": null, \\\\\\\\\\\\\\\"annotation\\\\\\\\\\\\\\\": null}, {\\\\\\\\\\\\\\\"id\\\\\\\\\\\\\\\": \\\\\\\\\\\\\\\"57ebae6f-59a3-4405-a829-efa919d8854c\\\\\\\\\\\\\\\", \\\\\\\\\\\\\\\"type\\\\\\\\\\\\\\\": \\\\\\\\\\\\\\\"Microsoft.DPrep.SetColumnTypesBlock\\\\\\\\\\\\\\\", \\\\\\\\\\\\\\\"arguments\\\\\\\\\\\\\\\": {\\\\\\\\\\\\\\\"columnConversion\\\\\\\\\\\\\\\": [{\\\\\\\\\\\\\\\"column\\\\\\\\\\\\\\\": {\\\\\\\\\\\\\\\"type\\\\\\\\\\\\\\\": 2, \\\\\\\\\\\\\\\"details\\\\\\\\\\\\\\\": {\\\\\\\\\\\\\\\"selectedColumn\\\\\\\\\\\\\\\": \\\\\\\\\\\\\\\"age\\\\\\\\\\\\\\\"}}, \\\\\\\\\\\\\\\"typeProperty\\\\\\\\\\\\\\\": 2}, {\\\\\\\\\\\\\\\"column\\\\\\\\\\\\\\\": {\\\\\\\\\\\\\\\"type\\\\\\\\\\\\\\\": 2, \\\\\\\\\\\\\\\"details\\\\\\\\\\\\\\\": {\\\\\\\\\\\\\\\"selectedColumn\\\\\\\\\\\\\\\": \\\\\\\\\\\\\\\"sex\\\\\\\\\\\\\\\"}}, \\\\\\\\\\\\\\\"typeProperty\\\\\\\\\\\\\\\": 2}, {\\\\\\\\\\\\\\\"column\\\\\\\\\\\\\\\": {\\\\\\\\\\\\\\\"type\\\\\\\\\\\\\\\": 2, \\\\\\\\\\\\\\\"details\\\\\\\\\\\\\\\": {\\\\\\\\\\\\\\\"selectedColumn\\\\\\\\\\\\\\\": \\\\\\\\\\\\\\\"cp\\\\\\\\\\\\\\\"}}, \\\\\\\\\\\\\\\"typeProperty\\\\\\\\\\\\\\\": 2}, {\\\\\\\\\\\\\\\"column\\\\\\\\\\\\\\\": {\\\\\\\\\\\\\\\"type\\\\\\\\\\\\\\\": 2, \\\\\\\\\\\\\\\"details\\\\\\\\\\\\\\\": {\\\\\\\\\\\\\\\"selectedColumn\\\\\\\\\\\\\\\": \\\\\\\\\\\\\\\"trestbps\\\\\\\\\\\\\\\"}}, \\\\\\\\\\\\\\\"typeProperty\\\\\\\\\\\\\\\": 2}, {\\\\\\\\\\\\\\\"column\\\\\\\\\\\\\\\": {\\\\\\\\\\\\\\\"type\\\\\\\\\\\\\\\": 2, \\\\\\\\\\\\\\\"details\\\\\\\\\\\\\\\": {\\\\\\\\\\\\\\\"selectedColumn\\\\\\\\\\\\\\\": \\\\\\\\\\\\\\\"chol\\\\\\\\\\\\\\\"}}, \\\\\\\\\\\\\\\"typeProperty\\\\\\\\\\\\\\\": 2}, {\\\\\\\\\\\\\\\"column\\\\\\\\\\\\\\\": {\\\\\\\\\\\\\\\"type\\\\\\\\\\\\\\\": 2, \\\\\\\\\\\\\\\"details\\\\\\\\\\\\\\\": {\\\\\\\\\\\\\\\"selectedColumn\\\\\\\\\\\\\\\": \\\\\\\\\\\\\\\"fbs\\\\\\\\\\\\\\\"}}, \\\\\\\\\\\\\\\"typeProperty\\\\\\\\\\\\\\\": 2}, {\\\\\\\\\\\\\\\"column\\\\\\\\\\\\\\\": {\\\\\\\\\\\\\\\"type\\\\\\\\\\\\\\\": 2, \\\\\\\\\\\\\\\"details\\\\\\\\\\\\\\\": {\\\\\\\\\\\\\\\"selectedColumn\\\\\\\\\\\\\\\": \\\\\\\\\\\\\\\"restecg\\\\\\\\\\\\\\\"}}, \\\\\\\\\\\\\\\"typeProperty\\\\\\\\\\\\\\\": 2}, {\\\\\\\\\\\\\\\"column\\\\\\\\\\\\\\\": {\\\\\\\\\\\\\\\"type\\\\\\\\\\\\\\\": 2, \\\\\\\\\\\\\\\"details\\\\\\\\\\\\\\\": {\\\\\\\\\\\\\\\"selectedColumn\\\\\\\\\\\\\\\": \\\\\\\\\\\\\\\"thalach\\\\\\\\\\\\\\\"}}, \\\\\\\\\\\\\\\"typeProperty\\\\\\\\\\\\\\\": 2}, {\\\\\\\\\\\\\\\"column\\\\\\\\\\\\\\\": {\\\\\\\\\\\\\\\"type\\\\\\\\\\\\\\\": 2, \\\\\\\\\\\\\\\"details\\\\\\\\\\\\\\\": {\\\\\\\\\\\\\\\"selectedColumn\\\\\\\\\\\\\\\": \\\\\\\\\\\\\\\"exang\\\\\\\\\\\\\\\"}}, \\\\\\\\\\\\\\\"typeProperty\\\\\\\\\\\\\\\": 2}, {\\\\\\\\\\\\\\\"column\\\\\\\\\\\\\\\": {\\\\\\\\\\\\\\\"type\\\\\\\\\\\\\\\": 2, \\\\\\\\\\\\\\\"details\\\\\\\\\\\\\\\": {\\\\\\\\\\\\\\\"selectedColumn\\\\\\\\\\\\\\\": \\\\\\\\\\\\\\\"oldpeak\\\\\\\\\\\\\\\"}}, \\\\\\\\\\\\\\\"typeProperty\\\\\\\\\\\\\\\": 3}, {\\\\\\\\\\\\\\\"column\\\\\\\\\\\\\\\": {\\\\\\\\\\\\\\\"type\\\\\\\\\\\\\\\": 2, \\\\\\\\\\\\\\\"details\\\\\\\\\\\\\\\": {\\\\\\\\\\\\\\\"selectedColumn\\\\\\\\\\\\\\\": \\\\\\\\\\\\\\\"slope\\\\\\\\\\\\\\\"}}, \\\\\\\\\\\\\\\"typeProperty\\\\\\\\\\\\\\\": 2}, {\\\\\\\\\\\\\\\"column\\\\\\\\\\\\\\\": {\\\\\\\\\\\\\\\"type\\\\\\\\\\\\\\\": 2, \\\\\\\\\\\\\\\"details\\\\\\\\\\\\\\\": {\\\\\\\\\\\\\\\"selectedColumn\\\\\\\\\\\\\\\": \\\\\\\\\\\\\\\"ca\\\\\\\\\\\\\\\"}}, \\\\\\\\\\\\\\\"typeProperty\\\\\\\\\\\\\\\": 2}, {\\\\\\\\\\\\\\\"column\\\\\\\\\\\\\\\": {\\\\\\\\\\\\\\\"type\\\\\\\\\\\\\\\": 2, \\\\\\\\\\\\\\\"details\\\\\\\\\\\\\\\": {\\\\\\\\\\\\\\\"selectedColumn\\\\\\\\\\\\\\\": \\\\\\\\\\\\\\\"thal\\\\\\\\\\\\\\\"}}, \\\\\\\\\\\\\\\"typeProperty\\\\\\\\\\\\\\\": 2}, {\\\\\\\\\\\\\\\"column\\\\\\\\\\\\\\\": {\\\\\\\\\\\\\\\"type\\\\\\\\\\\\\\\": 2, \\\\\\\\\\\\\\\"details\\\\\\\\\\\\\\\": {\\\\\\\\\\\\\\\"selectedColumn\\\\\\\\\\\\\\\": \\\\\\\\\\\\\\\"target\\\\\\\\\\\\\\\"}}, \\\\\\\\\\\\\\\"typeProperty\\\\\\\\\\\\\\\": 2}]}, \\\\\\\\\\\\\\\"localData\\\\\\\\\\\\\\\": {}, \\\\\\\\\\\\\\\"isEnabled\\\\\\\\\\\\\\\": true, \\\\\\\\\\\\\\\"name\\\\\\\\\\\\\\\": null, \\\\\\\\\\\\\\\"annotation\\\\\\\\\\\\\\\": null}], \\\\\\\\\\\\\\\"inspectors\\\\\\\\\\\\\\\": [], \\\\\\\\\\\\\\\"meta\\\\\\\\\\\\\\\": {\\\\\\\\\\\\\\\"savedDatasetId\\\\\\\\\\\\\\\": \\\\\\\\\\\\\\\"9909646b-ff7d-4eec-a356-fa7a31215991\\\\\\\\\\\\\\\", \\\\\\\\\\\\\\\"datasetType\\\\\\\\\\\\\\\": \\\\\\\\\\\\\\\"tabular\\\\\\\\\\\\\\\", \\\\\\\\\\\\\\\"subscriptionId\\\\\\\\\\\\\\\": \\\\\\\\\\\\\\\"2c48c51c-bd47-40d4-abbe-fb8eabd19c8c\\\\\\\\\\\\\\\", \\\\\\\\\\\\\\\"workspaceId\\\\\\\\\\\\\\\": \\\\\\\\\\\\\\\"c87b3028-ace7-46f6-9bb4-716c79ba0e09\\\\\\\\\\\\\\\", \\\\\\\\\\\\\\\"workspaceLocation\\\\\\\\\\\\\\\": \\\\\\\\\\\\\\\"southcentralus\\\\\\\\\\\\\\\"}}\\\\\\\", \\\\\\\"activities\\\\\\\": 0}\", \"EnableSubsampling\": null, \"runTemplate\": \"AutoML\", \"azureml.runsource\": \"automl\", \"display_task_type\": \"classification\", \"dependencies_versions\": \"{\\\"azureml-widgets\\\": \\\"1.19.0\\\", \\\"azureml-train\\\": \\\"1.19.0\\\", \\\"azureml-train-restclients-hyperdrive\\\": \\\"1.19.0\\\", \\\"azureml-train-core\\\": \\\"1.19.0\\\", \\\"azureml-train-automl\\\": \\\"1.19.0\\\", \\\"azureml-train-automl-runtime\\\": \\\"1.19.0\\\", \\\"azureml-train-automl-client\\\": \\\"1.19.0\\\", \\\"azureml-tensorboard\\\": \\\"1.19.0\\\", \\\"azureml-telemetry\\\": \\\"1.19.0\\\", \\\"azureml-sdk\\\": \\\"1.19.0\\\", \\\"azureml-samples\\\": \\\"0+unknown\\\", \\\"azureml-pipeline\\\": \\\"1.19.0\\\", \\\"azureml-pipeline-steps\\\": \\\"1.19.0\\\", \\\"azureml-pipeline-core\\\": \\\"1.19.0\\\", \\\"azureml-opendatasets\\\": \\\"1.19.0\\\", \\\"azureml-model-management-sdk\\\": \\\"1.0.1b6.post1\\\", \\\"azureml-mlflow\\\": \\\"1.19.0\\\", \\\"azureml-interpret\\\": \\\"1.19.0\\\", \\\"azureml-explain-model\\\": \\\"1.19.0\\\", \\\"azureml-defaults\\\": \\\"1.19.0\\\", \\\"azureml-dataset-runtime\\\": \\\"1.19.0\\\", \\\"azureml-dataprep\\\": \\\"2.6.1\\\", \\\"azureml-dataprep-rslex\\\": \\\"1.4.0\\\", \\\"azureml-dataprep-native\\\": \\\"26.0.0\\\", \\\"azureml-datadrift\\\": \\\"1.19.0\\\", \\\"azureml-core\\\": \\\"1.19.0\\\", \\\"azureml-contrib-services\\\": \\\"1.19.0\\\", \\\"azureml-contrib-server\\\": \\\"1.19.0\\\", \\\"azureml-contrib-reinforcementlearning\\\": \\\"1.19.0\\\", \\\"azureml-contrib-pipeline-steps\\\": \\\"1.19.0\\\", \\\"azureml-contrib-notebook\\\": \\\"1.19.0\\\", \\\"azureml-contrib-interpret\\\": \\\"1.19.0\\\", \\\"azureml-contrib-gbdt\\\": \\\"1.19.0\\\", \\\"azureml-contrib-fairness\\\": \\\"1.19.0\\\", \\\"azureml-contrib-dataset\\\": \\\"1.19.0\\\", \\\"azureml-cli-common\\\": \\\"1.19.0\\\", \\\"azureml-automl-runtime\\\": \\\"1.19.0\\\", \\\"azureml-automl-core\\\": \\\"1.19.0\\\", \\\"azureml-accel-models\\\": \\\"1.19.0\\\"}\", \"_aml_system_scenario_identification\": \"Remote.Parent\", \"ClientType\": \"SDK\", \"environment_cpu_name\": \"AzureML-AutoML\", \"environment_cpu_label\": \"prod\", \"environment_gpu_name\": \"AzureML-AutoML-GPU\", \"environment_gpu_label\": \"prod\", \"root_attribution\": \"automl\", \"attribution\": \"AutoML\", \"Orchestrator\": \"AutoML\", \"CancelUri\": \"https://southcentralus.experiments.azureml.net/jasmine/v1.0/subscriptions/2c48c51c-bd47-40d4-abbe-fb8eabd19c8c/resourceGroups/aml-quickstarts-132640/providers/Microsoft.MachineLearningServices/workspaces/quick-starts-ws-132640/experimentids/00d7eec6-6cbf-476d-8176-52c922dda3f1/cancel/AutoML_d6eaef32-fdf6-4080-9c34-836678695540\", \"ClientSdkVersion\": \"1.19.0\", \"snapshotId\": \"00000000-0000-0000-0000-000000000000\", \"SetupRunId\": \"AutoML_d6eaef32-fdf6-4080-9c34-836678695540_setup\", \"SetupRunContainerId\": \"dcid.AutoML_d6eaef32-fdf6-4080-9c34-836678695540_setup\", \"FeaturizationRunJsonPath\": \"featurizer_container.json\", \"FeaturizationRunId\": \"AutoML_d6eaef32-fdf6-4080-9c34-836678695540_featurize\", \"ProblemInfoJsonString\": \"{\\\"dataset_num_categorical\\\": 0, \\\"is_sparse\\\": false, \\\"subsampling\\\": false, \\\"dataset_classes\\\": 2, \\\"dataset_features\\\": 13, \\\"dataset_samples\\\": 303, \\\"single_frequency_class_detected\\\": false}\", \"ModelExplainRunId\": \"AutoML_d6eaef32-fdf6-4080-9c34-836678695540_ModelExplain\"}, \"tags\": {\"model_explain_run\": \"best_run\", \"_aml_system_azureml.automlComponent\": \"AutoML\", \"pipeline_id\": \"\", \"score\": \"\", \"predicted_cost\": \"\", \"fit_time\": \"\", \"training_percent\": \"\", \"iteration\": \"\", \"run_preprocessor\": \"\", \"run_algorithm\": \"\", \"automl_best_child_run_id\": \"AutoML_d6eaef32-fdf6-4080-9c34-836678695540_20\"}, \"end_time_utc\": \"2020-12-31T13:44:54.918515Z\", \"status\": \"Completed\", \"log_files\": {}, \"log_groups\": [], \"run_duration\": \"0:27:02\"}, \"child_runs\": [{\"run_id\": \"AutoML_d6eaef32-fdf6-4080-9c34-836678695540_0\", \"run_number\": 5, \"metric\": null, \"status\": \"Completed\", \"run_type\": \"azureml.scriptrun\", \"training_percent\": \"100\", \"start_time\": \"2020-12-31T13:22:39.447256Z\", \"end_time\": \"2020-12-31T13:23:27.010976Z\", \"created_time\": \"2020-12-31T13:22:27.390861Z\", \"created_time_dt\": \"2020-12-31T13:22:27.390861Z\", \"duration\": \"0:00:59\", \"iteration\": \"0\", \"goal\": \"accuracy_max\", \"run_name\": \"MaxAbsScaler, LightGBM\", \"run_properties\": \"copy=True\", \"primary_metric\": 0.80827957, \"best_metric\": 0.80827957}, {\"run_id\": \"AutoML_d6eaef32-fdf6-4080-9c34-836678695540_1\", \"run_number\": 6, \"metric\": null, \"status\": \"Completed\", \"run_type\": \"azureml.scriptrun\", \"training_percent\": \"100\", \"start_time\": \"2020-12-31T13:23:40.426638Z\", \"end_time\": \"2020-12-31T13:24:23.23879Z\", \"created_time\": \"2020-12-31T13:23:28.132472Z\", \"created_time_dt\": \"2020-12-31T13:23:28.132472Z\", \"duration\": \"0:00:55\", \"iteration\": \"1\", \"goal\": \"accuracy_max\", \"run_name\": \"MaxAbsScaler, XGBoostClassifier\", \"run_properties\": \"copy=True\", \"primary_metric\": 0.81129032, \"best_metric\": 0.81129032}, {\"run_id\": \"AutoML_d6eaef32-fdf6-4080-9c34-836678695540_2\", \"run_number\": 7, \"metric\": null, \"status\": \"Completed\", \"run_type\": \"azureml.scriptrun\", \"training_percent\": \"100\", \"start_time\": \"2020-12-31T13:24:38.630275Z\", \"end_time\": \"2020-12-31T13:25:22.194068Z\", \"created_time\": \"2020-12-31T13:24:24.635665Z\", \"created_time_dt\": \"2020-12-31T13:24:24.635665Z\", \"duration\": \"0:00:57\", \"iteration\": \"2\", \"goal\": \"accuracy_max\", \"run_name\": \"MinMaxScaler, RandomForest\", \"run_properties\": \"copy=True, feature_range=(0, 1\", \"primary_metric\": 0.80193548, \"best_metric\": 0.81129032}, {\"run_id\": \"AutoML_d6eaef32-fdf6-4080-9c34-836678695540_3\", \"run_number\": 8, \"metric\": null, \"status\": \"Completed\", \"run_type\": \"azureml.scriptrun\", \"training_percent\": \"100\", \"start_time\": \"2020-12-31T13:25:39.856823Z\", \"end_time\": \"2020-12-31T13:26:25.985425Z\", \"created_time\": \"2020-12-31T13:25:24.579974Z\", \"created_time_dt\": \"2020-12-31T13:25:24.579974Z\", \"duration\": \"0:01:01\", \"iteration\": \"3\", \"goal\": \"accuracy_max\", \"run_name\": \"MinMaxScaler, RandomForest\", \"run_properties\": \"copy=True, feature_range=(0, 1\", \"primary_metric\": 0.82784946, \"best_metric\": 0.82784946}, {\"run_id\": \"AutoML_d6eaef32-fdf6-4080-9c34-836678695540_4\", \"run_number\": 9, \"metric\": null, \"status\": \"Completed\", \"run_type\": \"azureml.scriptrun\", \"training_percent\": \"100\", \"start_time\": \"2020-12-31T13:26:39.032062Z\", \"end_time\": \"2020-12-31T13:27:23.624154Z\", \"created_time\": \"2020-12-31T13:26:28.241283Z\", \"created_time_dt\": \"2020-12-31T13:26:28.241283Z\", \"duration\": \"0:00:55\", \"iteration\": \"4\", \"goal\": \"accuracy_max\", \"run_name\": \"MinMaxScaler, RandomForest\", \"run_properties\": \"copy=True, feature_range=(0, 1\", \"primary_metric\": 0.8344086, \"best_metric\": 0.8344086}, {\"run_id\": \"AutoML_d6eaef32-fdf6-4080-9c34-836678695540_5\", \"run_number\": 10, \"metric\": null, \"status\": \"Completed\", \"run_type\": \"azureml.scriptrun\", \"training_percent\": \"100\", \"start_time\": \"2020-12-31T13:27:37.742425Z\", \"end_time\": \"2020-12-31T13:28:29.248844Z\", \"created_time\": \"2020-12-31T13:27:25.426125Z\", \"created_time_dt\": \"2020-12-31T13:27:25.426125Z\", \"duration\": \"0:01:03\", \"iteration\": \"5\", \"goal\": \"accuracy_max\", \"run_name\": \"MinMaxScaler, SVM\", \"run_properties\": \"copy=True, feature_range=(0, 1\", \"primary_metric\": 0.78817204, \"best_metric\": 0.8344086}, {\"run_id\": \"AutoML_d6eaef32-fdf6-4080-9c34-836678695540_6\", \"run_number\": 11, \"metric\": null, \"status\": \"Completed\", \"run_type\": \"azureml.scriptrun\", \"training_percent\": \"100\", \"start_time\": \"2020-12-31T13:28:47.877839Z\", \"end_time\": \"2020-12-31T13:29:30.99337Z\", \"created_time\": \"2020-12-31T13:28:31.936966Z\", \"created_time_dt\": \"2020-12-31T13:28:31.936966Z\", \"duration\": \"0:00:59\", \"iteration\": \"6\", \"goal\": \"accuracy_max\", \"run_name\": \"MaxAbsScaler, GradientBoosting\", \"run_properties\": \"copy=True\", \"primary_metric\": 0.84129032, \"best_metric\": 0.84129032}, {\"run_id\": \"AutoML_d6eaef32-fdf6-4080-9c34-836678695540_7\", \"run_number\": 12, \"metric\": null, \"status\": \"Completed\", \"run_type\": \"azureml.scriptrun\", \"training_percent\": \"100\", \"start_time\": \"2020-12-31T13:29:51.996097Z\", \"end_time\": \"2020-12-31T13:30:39.178397Z\", \"created_time\": \"2020-12-31T13:29:35.222366Z\", \"created_time_dt\": \"2020-12-31T13:29:35.222366Z\", \"duration\": \"0:01:03\", \"iteration\": \"7\", \"goal\": \"accuracy_max\", \"run_name\": \"StandardScalerWrapper, RandomForest\", \"run_properties\": \"<azureml.automl.runtime.shared.model_wrappers.StandardScalerWrapper object at 0x7fcc36db06a0\", \"primary_metric\": 0.83795699, \"best_metric\": 0.84129032}, {\"run_id\": \"AutoML_d6eaef32-fdf6-4080-9c34-836678695540_8\", \"run_number\": 13, \"metric\": null, \"status\": \"Completed\", \"run_type\": \"azureml.scriptrun\", \"training_percent\": \"100\", \"start_time\": \"2020-12-31T13:30:51.052345Z\", \"end_time\": \"2020-12-31T13:31:41.745225Z\", \"created_time\": \"2020-12-31T13:30:41.017977Z\", \"created_time_dt\": \"2020-12-31T13:30:41.017977Z\", \"duration\": \"0:01:00\", \"iteration\": \"8\", \"goal\": \"accuracy_max\", \"run_name\": \"StandardScalerWrapper, RandomForest\", \"run_properties\": \"<azureml.automl.runtime.shared.model_wrappers.StandardScalerWrapper object at 0x7f5a718acef0\", \"primary_metric\": 0.8311828, \"best_metric\": 0.84129032}, {\"run_id\": \"AutoML_d6eaef32-fdf6-4080-9c34-836678695540_9\", \"run_number\": 14, \"metric\": null, \"status\": \"Completed\", \"run_type\": \"azureml.scriptrun\", \"training_percent\": \"100\", \"start_time\": \"2020-12-31T13:31:56.033524Z\", \"end_time\": \"2020-12-31T13:32:41.682719Z\", \"created_time\": \"2020-12-31T13:31:43.493999Z\", \"created_time_dt\": \"2020-12-31T13:31:43.493999Z\", \"duration\": \"0:00:58\", \"iteration\": \"9\", \"goal\": \"accuracy_max\", \"run_name\": \"SparseNormalizer, XGBoostClassifier\", \"run_properties\": \"<azureml.automl.runtime.shared.model_wrappers.SparseNormalizer object at 0x7fe190ab7b38\", \"primary_metric\": 0.83129032, \"best_metric\": 0.84129032}, {\"run_id\": \"AutoML_d6eaef32-fdf6-4080-9c34-836678695540_10\", \"run_number\": 15, \"metric\": null, \"status\": \"Completed\", \"run_type\": \"azureml.scriptrun\", \"training_percent\": \"100\", \"start_time\": \"2020-12-31T13:32:55.189913Z\", \"end_time\": \"2020-12-31T13:33:47.673185Z\", \"created_time\": \"2020-12-31T13:32:43.56543Z\", \"created_time_dt\": \"2020-12-31T13:32:43.56543Z\", \"duration\": \"0:01:04\", \"iteration\": \"10\", \"goal\": \"accuracy_max\", \"run_name\": \"RobustScaler, ExtremeRandomTrees\", \"run_properties\": \"copy=True, quantile_range=[25, 75], with_centering=True,\\n             with_scaling=False\", \"primary_metric\": 0.82462366, \"best_metric\": 0.84129032}, {\"run_id\": \"AutoML_d6eaef32-fdf6-4080-9c34-836678695540_11\", \"run_number\": 16, \"metric\": null, \"status\": \"Completed\", \"run_type\": \"azureml.scriptrun\", \"training_percent\": \"100\", \"start_time\": \"2020-12-31T13:34:03.831552Z\", \"end_time\": \"2020-12-31T13:34:52.367981Z\", \"created_time\": \"2020-12-31T13:33:51.546677Z\", \"created_time_dt\": \"2020-12-31T13:33:51.546677Z\", \"duration\": \"0:01:00\", \"iteration\": \"11\", \"goal\": \"accuracy_max\", \"run_name\": \"MinMaxScaler, LightGBM\", \"run_properties\": \"copy=True, feature_range=(0, 1\", \"primary_metric\": 0.83150538, \"best_metric\": 0.84129032}, {\"run_id\": \"AutoML_d6eaef32-fdf6-4080-9c34-836678695540_12\", \"run_number\": 17, \"metric\": null, \"status\": \"Completed\", \"run_type\": \"azureml.scriptrun\", \"training_percent\": \"100\", \"start_time\": \"2020-12-31T13:35:07.861228Z\", \"end_time\": \"2020-12-31T13:35:49.312095Z\", \"created_time\": \"2020-12-31T13:34:54.082956Z\", \"created_time_dt\": \"2020-12-31T13:34:54.082956Z\", \"duration\": \"0:00:55\", \"iteration\": \"12\", \"goal\": \"accuracy_max\", \"run_name\": \"SparseNormalizer, XGBoostClassifier\", \"run_properties\": \"<azureml.automl.runtime.shared.model_wrappers.SparseNormalizer object at 0x7f2a62c7b4a8\", \"primary_metric\": 0.81784946, \"best_metric\": 0.84129032}, {\"run_id\": \"AutoML_d6eaef32-fdf6-4080-9c34-836678695540_13\", \"run_number\": 18, \"metric\": null, \"status\": \"Completed\", \"run_type\": \"azureml.scriptrun\", \"training_percent\": \"100\", \"start_time\": \"2020-12-31T13:36:05.562504Z\", \"end_time\": \"2020-12-31T13:36:51.878067Z\", \"created_time\": \"2020-12-31T13:35:50.996772Z\", \"created_time_dt\": \"2020-12-31T13:35:50.996772Z\", \"duration\": \"0:01:00\", \"iteration\": \"13\", \"goal\": \"accuracy_max\", \"run_name\": \"SparseNormalizer, LightGBM\", \"run_properties\": \"<azureml.automl.runtime.shared.model_wrappers.SparseNormalizer object at 0x7f56c6c3ff98\", \"primary_metric\": 0.82129032, \"best_metric\": 0.84129032}, {\"run_id\": \"AutoML_d6eaef32-fdf6-4080-9c34-836678695540_14\", \"run_number\": 19, \"metric\": null, \"status\": \"Completed\", \"run_type\": \"azureml.scriptrun\", \"training_percent\": \"100\", \"start_time\": \"2020-12-31T13:37:08.039909Z\", \"end_time\": \"2020-12-31T13:37:51.313817Z\", \"created_time\": \"2020-12-31T13:36:53.935993Z\", \"created_time_dt\": \"2020-12-31T13:36:53.935993Z\", \"duration\": \"0:00:57\", \"iteration\": \"14\", \"goal\": \"accuracy_max\", \"run_name\": \"StandardScalerWrapper, GradientBoosting\", \"run_properties\": \"<azureml.automl.runtime.shared.model_wrappers.StandardScalerWrapper object at 0x7f5a2dd2c5f8\", \"primary_metric\": 0.83795699, \"best_metric\": 0.84129032}, {\"run_id\": \"AutoML_d6eaef32-fdf6-4080-9c34-836678695540_15\", \"run_number\": 20, \"metric\": null, \"status\": \"Completed\", \"run_type\": \"azureml.scriptrun\", \"training_percent\": \"100\", \"start_time\": \"2020-12-31T13:38:06.479633Z\", \"end_time\": \"2020-12-31T13:38:49.38686Z\", \"created_time\": \"2020-12-31T13:37:53.022357Z\", \"created_time_dt\": \"2020-12-31T13:37:53.022357Z\", \"duration\": \"0:00:56\", \"iteration\": \"15\", \"goal\": \"accuracy_max\", \"run_name\": \"SparseNormalizer, XGBoostClassifier\", \"run_properties\": \"<azureml.automl.runtime.shared.model_wrappers.SparseNormalizer object at 0x7fd1017c5ba8\", \"primary_metric\": 0.80795699, \"best_metric\": 0.84129032}, {\"run_id\": \"AutoML_d6eaef32-fdf6-4080-9c34-836678695540_16\", \"run_number\": 21, \"metric\": null, \"status\": \"Completed\", \"run_type\": \"azureml.scriptrun\", \"training_percent\": \"100\", \"start_time\": \"2020-12-31T13:39:06.16232Z\", \"end_time\": \"2020-12-31T13:39:52.247375Z\", \"created_time\": \"2020-12-31T13:38:51.374448Z\", \"created_time_dt\": \"2020-12-31T13:38:51.374448Z\", \"duration\": \"0:01:00\", \"iteration\": \"16\", \"goal\": \"accuracy_max\", \"run_name\": \"StandardScalerWrapper, XGBoostClassifier\", \"run_properties\": \"<azureml.automl.runtime.shared.model_wrappers.StandardScalerWrapper object at 0x7f4a2eaedda0\", \"primary_metric\": 0.80806452, \"best_metric\": 0.84129032}, {\"run_id\": \"AutoML_d6eaef32-fdf6-4080-9c34-836678695540_17\", \"run_number\": 22, \"metric\": null, \"status\": \"Completed\", \"run_type\": \"azureml.scriptrun\", \"training_percent\": \"100\", \"start_time\": \"2020-12-31T13:40:06.898336Z\", \"end_time\": \"2020-12-31T13:40:58.597445Z\", \"created_time\": \"2020-12-31T13:39:54.031967Z\", \"created_time_dt\": \"2020-12-31T13:39:54.031967Z\", \"duration\": \"0:01:04\", \"iteration\": \"17\", \"goal\": \"accuracy_max\", \"run_name\": \"MaxAbsScaler, LightGBM\", \"run_properties\": \"copy=True\", \"primary_metric\": 0.82483871, \"best_metric\": 0.84129032}, {\"run_id\": \"AutoML_d6eaef32-fdf6-4080-9c34-836678695540_18\", \"run_number\": 23, \"metric\": null, \"status\": \"Completed\", \"run_type\": \"azureml.scriptrun\", \"training_percent\": \"100\", \"start_time\": \"2020-12-31T13:41:18.407243Z\", \"end_time\": \"2020-12-31T13:42:04.290316Z\", \"created_time\": \"2020-12-31T13:41:02.942254Z\", \"created_time_dt\": \"2020-12-31T13:41:02.942254Z\", \"duration\": \"0:01:01\", \"iteration\": \"18\", \"goal\": \"accuracy_max\", \"run_name\": \"StandardScalerWrapper, LogisticRegression\", \"run_properties\": \"<azureml.automl.runtime.shared.model_wrappers.StandardScalerWrapper object at 0x7fd8ec3cad68\", \"primary_metric\": 0.83139785, \"best_metric\": 0.84129032}, {\"run_id\": \"AutoML_d6eaef32-fdf6-4080-9c34-836678695540_19\", \"run_number\": 24, \"metric\": null, \"status\": \"Canceled\", \"run_type\": \"azureml.scriptrun\", \"training_percent\": \"100\", \"start_time\": \"2020-12-31T13:42:22.268754Z\", \"end_time\": \"2020-12-31T13:43:05.517587Z\", \"created_time\": \"2020-12-31T13:42:06.695652Z\", \"created_time_dt\": \"2020-12-31T13:42:06.695652Z\", \"duration\": \"0:00:58\", \"iteration\": \"19\", \"goal\": \"accuracy_max\", \"run_name\": \"SparseNormalizer, XGBoostClassifier\", \"run_properties\": \"<azureml.automl.runtime.shared.model_wrappers.SparseNormalizer object at 0x7fc1dd9fab00\", \"primary_metric\": 0.82806452, \"best_metric\": 0.84129032}, {\"run_id\": \"AutoML_d6eaef32-fdf6-4080-9c34-836678695540_20\", \"run_number\": 25, \"metric\": null, \"status\": \"Completed\", \"run_type\": \"azureml.scriptrun\", \"training_percent\": \"100\", \"start_time\": \"2020-12-31T13:43:16.716167Z\", \"end_time\": \"2020-12-31T13:44:49.389529Z\", \"created_time\": \"2020-12-31T13:43:06.34234Z\", \"created_time_dt\": \"2020-12-31T13:43:06.34234Z\", \"duration\": \"0:01:43\", \"iteration\": \"20\", \"goal\": \"accuracy_max\", \"run_name\": \"VotingEnsemble\", \"run_properties\": \"classification_labels=None,\\n                              estimators=[('6',\\n                                           Pipeline(memory=None,\\n                                                    steps=[('maxabsscaler',\\n                                                            MaxAbsScaler(copy=True\", \"primary_metric\": 0.84784946, \"best_metric\": 0.84784946}], \"children_metrics\": {\"categories\": [0], \"series\": {\"precision_score_macro\": [{\"categories\": [\"0\", \"1\", \"2\", \"3\", \"4\", \"5\", \"6\", \"7\", \"8\", \"9\", \"10\", \"11\", \"12\", \"13\", \"14\", \"15\", \"16\", \"17\", \"18\", \"19\", \"20\"], \"mode\": \"markers\", \"name\": \"precision_score_macro\", \"stepped\": false, \"type\": \"scatter\", \"data\": [0.8106718975468974, 0.8150050179868291, 0.8117402147645956, 0.8295792034762624, 0.836270030587486, 0.7880596991587705, 0.8419070882248126, 0.8423405164741482, 0.8355749427824236, 0.8401755507228147, 0.8315111129504048, 0.8339842444781704, 0.8172578646843351, 0.8228310170221935, 0.8398825235222294, 0.8098418579184834, 0.8089708575737987, 0.8329863743049402, 0.8426536626596359, 0.8343853635278288, 0.8572296778803373]}, {\"categories\": [\"0\", \"1\", \"2\", \"3\", \"4\", \"5\", \"6\", \"7\", \"8\", \"9\", \"10\", \"11\", \"12\", \"13\", \"14\", \"15\", \"16\", \"17\", \"18\", \"19\", \"20\"], \"mode\": \"lines\", \"name\": \"precision_score_macro_max\", \"stepped\": true, \"type\": \"scatter\", \"data\": [0.8106718975468974, 0.8150050179868291, 0.8150050179868291, 0.8295792034762624, 0.836270030587486, 0.836270030587486, 0.8419070882248126, 0.8423405164741482, 0.8423405164741482, 0.8423405164741482, 0.8423405164741482, 0.8423405164741482, 0.8423405164741482, 0.8423405164741482, 0.8423405164741482, 0.8423405164741482, 0.8423405164741482, 0.8423405164741482, 0.8426536626596359, 0.8426536626596359, 0.8572296778803373]}], \"recall_score_micro\": [{\"categories\": [\"0\", \"1\", \"2\", \"3\", \"4\", \"5\", \"6\", \"7\", \"8\", \"9\", \"10\", \"11\", \"12\", \"13\", \"14\", \"15\", \"16\", \"17\", \"18\", \"19\", \"20\"], \"mode\": \"markers\", \"name\": \"recall_score_micro\", \"stepped\": false, \"type\": \"scatter\", \"data\": [0.8082795698924731, 0.811290322580645, 0.8019354838709678, 0.8278494623655913, 0.8344086021505376, 0.7881720430107526, 0.8412903225806453, 0.837956989247312, 0.8311827956989248, 0.8312903225806452, 0.8246236559139785, 0.8315053763440862, 0.8178494623655915, 0.8212903225806454, 0.837956989247312, 0.8079569892473117, 0.8080645161290322, 0.8248387096774193, 0.8313978494623656, 0.8280645161290323, 0.8478494623655914]}, {\"categories\": [\"0\", \"1\", \"2\", \"3\", \"4\", \"5\", \"6\", \"7\", \"8\", \"9\", \"10\", \"11\", \"12\", \"13\", \"14\", \"15\", \"16\", \"17\", \"18\", \"19\", \"20\"], \"mode\": \"lines\", \"name\": \"recall_score_micro_max\", \"stepped\": true, \"type\": \"scatter\", \"data\": [0.8082795698924731, 0.811290322580645, 0.811290322580645, 0.8278494623655913, 0.8344086021505376, 0.8344086021505376, 0.8412903225806453, 0.8412903225806453, 0.8412903225806453, 0.8412903225806453, 0.8412903225806453, 0.8412903225806453, 0.8412903225806453, 0.8412903225806453, 0.8412903225806453, 0.8412903225806453, 0.8412903225806453, 0.8412903225806453, 0.8412903225806453, 0.8412903225806453, 0.8478494623655914]}], \"recall_score_macro\": [{\"categories\": [\"0\", \"1\", \"2\", \"3\", \"4\", \"5\", \"6\", \"7\", \"8\", \"9\", \"10\", \"11\", \"12\", \"13\", \"14\", \"15\", \"16\", \"17\", \"18\", \"19\", \"20\"], \"mode\": \"markers\", \"name\": \"recall_score_macro\", \"stepped\": false, \"type\": \"scatter\", \"data\": [0.8041295114843875, 0.806959361373061, 0.7926168276168275, 0.8251406623562196, 0.829799245087558, 0.7801842614729613, 0.8390304999438125, 0.8331350321075555, 0.8256971666104793, 0.828046188202922, 0.8210223327154443, 0.826284541911477, 0.8142959626802504, 0.8211990647381515, 0.8357981767114895, 0.8039888188436949, 0.8050972221792654, 0.8186733396892066, 0.82660827970619, 0.822239166277479, 0.8442349738324971]}, {\"categories\": [\"0\", \"1\", \"2\", \"3\", \"4\", \"5\", \"6\", \"7\", \"8\", \"9\", \"10\", \"11\", \"12\", \"13\", \"14\", \"15\", \"16\", \"17\", \"18\", \"19\", \"20\"], \"mode\": \"lines\", \"name\": \"recall_score_macro_max\", \"stepped\": true, \"type\": \"scatter\", \"data\": [0.8041295114843875, 0.806959361373061, 0.806959361373061, 0.8251406623562196, 0.829799245087558, 0.829799245087558, 0.8390304999438125, 0.8390304999438125, 0.8390304999438125, 0.8390304999438125, 0.8390304999438125, 0.8390304999438125, 0.8390304999438125, 0.8390304999438125, 0.8390304999438125, 0.8390304999438125, 0.8390304999438125, 0.8390304999438125, 0.8390304999438125, 0.8390304999438125, 0.8442349738324971]}], \"matthews_correlation\": [{\"categories\": [\"0\", \"1\", \"2\", \"3\", \"4\", \"5\", \"6\", \"7\", \"8\", \"9\", \"10\", \"11\", \"12\", \"13\", \"14\", \"15\", \"16\", \"17\", \"18\", \"19\", \"20\"], \"mode\": \"markers\", \"name\": \"matthews_correlation\", \"stepped\": false, \"type\": \"scatter\", \"data\": [0.6145675674321259, 0.6217536108959869, 0.603477342392432, 0.6545156268056196, 0.6656106577425243, 0.5680269248568832, 0.6808658083593817, 0.6750033959116659, 0.6607478473503405, 0.6677792264576284, 0.6520903004224783, 0.6598121477424858, 0.6314684945913427, 0.643933003310678, 0.6755726806386029, 0.6136522086539175, 0.6139881726642543, 0.6512356037794653, 0.668449548724839, 0.6562008645019746, 0.7008611129835074]}, {\"categories\": [\"0\", \"1\", \"2\", \"3\", \"4\", \"5\", \"6\", \"7\", \"8\", \"9\", \"10\", \"11\", \"12\", \"13\", \"14\", \"15\", \"16\", \"17\", \"18\", \"19\", \"20\"], \"mode\": \"lines\", \"name\": \"matthews_correlation_max\", \"stepped\": true, \"type\": \"scatter\", \"data\": [0.6145675674321259, 0.6217536108959869, 0.6217536108959869, 0.6545156268056196, 0.6656106577425243, 0.6656106577425243, 0.6808658083593817, 0.6808658083593817, 0.6808658083593817, 0.6808658083593817, 0.6808658083593817, 0.6808658083593817, 0.6808658083593817, 0.6808658083593817, 0.6808658083593817, 0.6808658083593817, 0.6808658083593817, 0.6808658083593817, 0.6808658083593817, 0.6808658083593817, 0.7008611129835074]}], \"f1_score_weighted\": [{\"categories\": [\"0\", \"1\", \"2\", \"3\", \"4\", \"5\", \"6\", \"7\", \"8\", \"9\", \"10\", \"11\", \"12\", \"13\", \"14\", \"15\", \"16\", \"17\", \"18\", \"19\", \"20\"], \"mode\": \"markers\", \"name\": \"f1_score_weighted\", \"stepped\": false, \"type\": \"scatter\", \"data\": [0.8071549171088572, 0.8099801097590287, 0.7989103635815863, 0.8262216157749999, 0.8322241076014208, 0.7871153980275286, 0.8411005063874896, 0.8356842686697019, 0.8290917360975676, 0.8301204651158457, 0.823329989788238, 0.8294414940433066, 0.8175402742670548, 0.8211101623152027, 0.8371023072847249, 0.806945966050292, 0.807360887355973, 0.8225228176313211, 0.8285758465872048, 0.8268733435456437, 0.8453171943208929]}, {\"categories\": [\"0\", \"1\", \"2\", \"3\", \"4\", \"5\", \"6\", \"7\", \"8\", \"9\", \"10\", \"11\", \"12\", \"13\", \"14\", \"15\", \"16\", \"17\", \"18\", \"19\", \"20\"], \"mode\": \"lines\", \"name\": \"f1_score_weighted_max\", \"stepped\": true, \"type\": \"scatter\", \"data\": [0.8071549171088572, 0.8099801097590287, 0.8099801097590287, 0.8262216157749999, 0.8322241076014208, 0.8322241076014208, 0.8411005063874896, 0.8411005063874896, 0.8411005063874896, 0.8411005063874896, 0.8411005063874896, 0.8411005063874896, 0.8411005063874896, 0.8411005063874896, 0.8411005063874896, 0.8411005063874896, 0.8411005063874896, 0.8411005063874896, 0.8411005063874896, 0.8411005063874896, 0.8453171943208929]}], \"balanced_accuracy\": [{\"categories\": [\"0\", \"1\", \"2\", \"3\", \"4\", \"5\", \"6\", \"7\", \"8\", \"9\", \"10\", \"11\", \"12\", \"13\", \"14\", \"15\", \"16\", \"17\", \"18\", \"19\", \"20\"], \"mode\": \"markers\", \"name\": \"balanced_accuracy\", \"stepped\": false, \"type\": \"scatter\", \"data\": [0.8041295114843875, 0.806959361373061, 0.7926168276168275, 0.8251406623562196, 0.829799245087558, 0.7801842614729613, 0.8390304999438125, 0.8331350321075555, 0.8256971666104793, 0.828046188202922, 0.8210223327154443, 0.826284541911477, 0.8142959626802504, 0.8211990647381515, 0.8357981767114895, 0.8039888188436949, 0.8050972221792654, 0.8186733396892066, 0.82660827970619, 0.822239166277479, 0.8442349738324971]}, {\"categories\": [\"0\", \"1\", \"2\", \"3\", \"4\", \"5\", \"6\", \"7\", \"8\", \"9\", \"10\", \"11\", \"12\", \"13\", \"14\", \"15\", \"16\", \"17\", \"18\", \"19\", \"20\"], \"mode\": \"lines\", \"name\": \"balanced_accuracy_max\", \"stepped\": true, \"type\": \"scatter\", \"data\": [0.8041295114843875, 0.806959361373061, 0.806959361373061, 0.8251406623562196, 0.829799245087558, 0.829799245087558, 0.8390304999438125, 0.8390304999438125, 0.8390304999438125, 0.8390304999438125, 0.8390304999438125, 0.8390304999438125, 0.8390304999438125, 0.8390304999438125, 0.8390304999438125, 0.8390304999438125, 0.8390304999438125, 0.8390304999438125, 0.8390304999438125, 0.8390304999438125, 0.8442349738324971]}], \"norm_macro_recall\": [{\"categories\": [\"0\", \"1\", \"2\", \"3\", \"4\", \"5\", \"6\", \"7\", \"8\", \"9\", \"10\", \"11\", \"12\", \"13\", \"14\", \"15\", \"16\", \"17\", \"18\", \"19\", \"20\"], \"mode\": \"markers\", \"name\": \"norm_macro_recall\", \"stepped\": false, \"type\": \"scatter\", \"data\": [0.6082590229687753, 0.6139187227461221, 0.5852336552336552, 0.6502813247124393, 0.6595984901751156, 0.5603685229459223, 0.6780609998876252, 0.6662700642151107, 0.6513943332209585, 0.6560923764058441, 0.6420446654308885, 0.6525690838229539, 0.6285919253605011, 0.6423981294763028, 0.6715963534229787, 0.60797763768739, 0.610194444358531, 0.6373466793784132, 0.6532165594123798, 0.6444783325549579, 0.688469947664994]}, {\"categories\": [\"0\", \"1\", \"2\", \"3\", \"4\", \"5\", \"6\", \"7\", \"8\", \"9\", \"10\", \"11\", \"12\", \"13\", \"14\", \"15\", \"16\", \"17\", \"18\", \"19\", \"20\"], \"mode\": \"lines\", \"name\": \"norm_macro_recall_max\", \"stepped\": true, \"type\": \"scatter\", \"data\": [0.6082590229687753, 0.6139187227461221, 0.6139187227461221, 0.6502813247124393, 0.6595984901751156, 0.6595984901751156, 0.6780609998876252, 0.6780609998876252, 0.6780609998876252, 0.6780609998876252, 0.6780609998876252, 0.6780609998876252, 0.6780609998876252, 0.6780609998876252, 0.6780609998876252, 0.6780609998876252, 0.6780609998876252, 0.6780609998876252, 0.6780609998876252, 0.6780609998876252, 0.688469947664994]}], \"f1_score_macro\": [{\"categories\": [\"0\", \"1\", \"2\", \"3\", \"4\", \"5\", \"6\", \"7\", \"8\", \"9\", \"10\", \"11\", \"12\", \"13\", \"14\", \"15\", \"16\", \"17\", \"18\", \"19\", \"20\"], \"mode\": \"markers\", \"name\": \"f1_score_macro\", \"stepped\": false, \"type\": \"scatter\", \"data\": [0.8020389630641217, 0.8049385458595983, 0.7926687799917423, 0.8212056344105679, 0.8271836032214676, 0.7802369448399759, 0.8372546351589447, 0.8305836619229232, 0.8240348242589285, 0.8260637601005014, 0.8186417559562758, 0.8242303478082075, 0.8128285350704004, 0.817180576861263, 0.8329611887190955, 0.8021124722665671, 0.8032214418127834, 0.8170755897326651, 0.8235978721920141, 0.8223159170897192, 0.8409121147035684]}, {\"categories\": [\"0\", \"1\", \"2\", \"3\", \"4\", \"5\", \"6\", \"7\", \"8\", \"9\", \"10\", \"11\", \"12\", \"13\", \"14\", \"15\", \"16\", \"17\", \"18\", \"19\", \"20\"], \"mode\": \"lines\", \"name\": \"f1_score_macro_max\", \"stepped\": true, \"type\": \"scatter\", \"data\": [0.8020389630641217, 0.8049385458595983, 0.8049385458595983, 0.8212056344105679, 0.8271836032214676, 0.8271836032214676, 0.8372546351589447, 0.8372546351589447, 0.8372546351589447, 0.8372546351589447, 0.8372546351589447, 0.8372546351589447, 0.8372546351589447, 0.8372546351589447, 0.8372546351589447, 0.8372546351589447, 0.8372546351589447, 0.8372546351589447, 0.8372546351589447, 0.8372546351589447, 0.8409121147035684]}], \"AUC_weighted\": [{\"categories\": [\"0\", \"1\", \"2\", \"3\", \"4\", \"5\", \"6\", \"7\", \"8\", \"9\", \"10\", \"11\", \"12\", \"13\", \"14\", \"15\", \"16\", \"17\", \"18\", \"19\", \"20\"], \"mode\": \"markers\", \"name\": \"AUC_weighted\", \"stepped\": false, \"type\": \"scatter\", \"data\": [0.8850880703833489, 0.8878279618558256, 0.8897286417143228, 0.9107276280364515, 0.9112304254912615, 0.8619855076124425, 0.9136937524549754, 0.9037249673414536, 0.9026257589016877, 0.902275343020699, 0.9085714489185852, 0.918538138203386, 0.8787156608727816, 0.9090393086875285, 0.9119957635530392, 0.8866033692256602, 0.8868287152590557, 0.8954271500773048, 0.9052766116608997, 0.9022112200235265, 0.9178319452019142]}, {\"categories\": [\"0\", \"1\", \"2\", \"3\", \"4\", \"5\", \"6\", \"7\", \"8\", \"9\", \"10\", \"11\", \"12\", \"13\", \"14\", \"15\", \"16\", \"17\", \"18\", \"19\", \"20\"], \"mode\": \"lines\", \"name\": \"AUC_weighted_max\", \"stepped\": true, \"type\": \"scatter\", \"data\": [0.8850880703833489, 0.8878279618558256, 0.8897286417143228, 0.9107276280364515, 0.9112304254912615, 0.9112304254912615, 0.9136937524549754, 0.9136937524549754, 0.9136937524549754, 0.9136937524549754, 0.9136937524549754, 0.918538138203386, 0.918538138203386, 0.918538138203386, 0.918538138203386, 0.918538138203386, 0.918538138203386, 0.918538138203386, 0.918538138203386, 0.918538138203386, 0.918538138203386]}], \"precision_score_micro\": [{\"categories\": [\"0\", \"1\", \"2\", \"3\", \"4\", \"5\", \"6\", \"7\", \"8\", \"9\", \"10\", \"11\", \"12\", \"13\", \"14\", \"15\", \"16\", \"17\", \"18\", \"19\", \"20\"], \"mode\": \"markers\", \"name\": \"precision_score_micro\", \"stepped\": false, \"type\": \"scatter\", \"data\": [0.8082795698924731, 0.811290322580645, 0.8019354838709678, 0.8278494623655913, 0.8344086021505376, 0.7881720430107526, 0.8412903225806453, 0.837956989247312, 0.8311827956989248, 0.8312903225806452, 0.8246236559139785, 0.8315053763440862, 0.8178494623655915, 0.8212903225806454, 0.837956989247312, 0.8079569892473117, 0.8080645161290322, 0.8248387096774193, 0.8313978494623656, 0.8280645161290323, 0.8478494623655914]}, {\"categories\": [\"0\", \"1\", \"2\", \"3\", \"4\", \"5\", \"6\", \"7\", \"8\", \"9\", \"10\", \"11\", \"12\", \"13\", \"14\", \"15\", \"16\", \"17\", \"18\", \"19\", \"20\"], \"mode\": \"lines\", \"name\": \"precision_score_micro_max\", \"stepped\": true, \"type\": \"scatter\", \"data\": [0.8082795698924731, 0.811290322580645, 0.811290322580645, 0.8278494623655913, 0.8344086021505376, 0.8344086021505376, 0.8412903225806453, 0.8412903225806453, 0.8412903225806453, 0.8412903225806453, 0.8412903225806453, 0.8412903225806453, 0.8412903225806453, 0.8412903225806453, 0.8412903225806453, 0.8412903225806453, 0.8412903225806453, 0.8412903225806453, 0.8412903225806453, 0.8412903225806453, 0.8478494623655914]}], \"AUC_macro\": [{\"categories\": [\"0\", \"1\", \"2\", \"3\", \"4\", \"5\", \"6\", \"7\", \"8\", \"9\", \"10\", \"11\", \"12\", \"13\", \"14\", \"15\", \"16\", \"17\", \"18\", \"19\", \"20\"], \"mode\": \"markers\", \"name\": \"AUC_macro\", \"stepped\": false, \"type\": \"scatter\", \"data\": [0.8850880703833489, 0.8878279618558256, 0.8897286417143228, 0.9107276280364515, 0.9112304254912615, 0.8619855076124427, 0.9136937524549754, 0.9037249673414534, 0.9026257589016877, 0.902275343020699, 0.9085714489185852, 0.918538138203386, 0.8787156608727816, 0.9090393086875285, 0.911995763553039, 0.8866033692256602, 0.8868287152590557, 0.8954271500773048, 0.9052766116608997, 0.9022112200235265, 0.9178319452019142]}, {\"categories\": [\"0\", \"1\", \"2\", \"3\", \"4\", \"5\", \"6\", \"7\", \"8\", \"9\", \"10\", \"11\", \"12\", \"13\", \"14\", \"15\", \"16\", \"17\", \"18\", \"19\", \"20\"], \"mode\": \"lines\", \"name\": \"AUC_macro_max\", \"stepped\": true, \"type\": \"scatter\", \"data\": [0.8850880703833489, 0.8878279618558256, 0.8897286417143228, 0.9107276280364515, 0.9112304254912615, 0.9112304254912615, 0.9136937524549754, 0.9136937524549754, 0.9136937524549754, 0.9136937524549754, 0.9136937524549754, 0.918538138203386, 0.918538138203386, 0.918538138203386, 0.918538138203386, 0.918538138203386, 0.918538138203386, 0.918538138203386, 0.918538138203386, 0.918538138203386, 0.918538138203386]}], \"accuracy\": [{\"categories\": [\"0\", \"1\", \"2\", \"3\", \"4\", \"5\", \"6\", \"7\", \"8\", \"9\", \"10\", \"11\", \"12\", \"13\", \"14\", \"15\", \"16\", \"17\", \"18\", \"19\", \"20\"], \"mode\": \"markers\", \"name\": \"accuracy\", \"stepped\": false, \"type\": \"scatter\", \"data\": [0.8082795698924731, 0.811290322580645, 0.8019354838709678, 0.8278494623655913, 0.8344086021505376, 0.7881720430107526, 0.8412903225806453, 0.837956989247312, 0.8311827956989248, 0.8312903225806452, 0.8246236559139785, 0.8315053763440862, 0.8178494623655915, 0.8212903225806454, 0.837956989247312, 0.8079569892473117, 0.8080645161290322, 0.8248387096774193, 0.8313978494623656, 0.8280645161290323, 0.8478494623655914]}, {\"categories\": [\"0\", \"1\", \"2\", \"3\", \"4\", \"5\", \"6\", \"7\", \"8\", \"9\", \"10\", \"11\", \"12\", \"13\", \"14\", \"15\", \"16\", \"17\", \"18\", \"19\", \"20\"], \"mode\": \"lines\", \"name\": \"accuracy_max\", \"stepped\": true, \"type\": \"scatter\", \"data\": [0.8082795698924731, 0.811290322580645, 0.811290322580645, 0.8278494623655913, 0.8344086021505376, 0.8344086021505376, 0.8412903225806453, 0.8412903225806453, 0.8412903225806453, 0.8412903225806453, 0.8412903225806453, 0.8412903225806453, 0.8412903225806453, 0.8412903225806453, 0.8412903225806453, 0.8412903225806453, 0.8412903225806453, 0.8412903225806453, 0.8412903225806453, 0.8412903225806453, 0.8478494623655914]}], \"precision_score_weighted\": [{\"categories\": [\"0\", \"1\", \"2\", \"3\", \"4\", \"5\", \"6\", \"7\", \"8\", \"9\", \"10\", \"11\", \"12\", \"13\", \"14\", \"15\", \"16\", \"17\", \"18\", \"19\", \"20\"], \"mode\": \"markers\", \"name\": \"precision_score_weighted\", \"stepped\": false, \"type\": \"scatter\", \"data\": [0.8163141398625269, 0.8204478325316984, 0.8136344295262201, 0.8363985735783647, 0.8409979210064289, 0.793486394502923, 0.8471851998269531, 0.8470192550294232, 0.8393137770364278, 0.8442577960340272, 0.8366883574021322, 0.8384510005977914, 0.8229453300757854, 0.8303470881321925, 0.8457845316097213, 0.8153017023423994, 0.8141660416854913, 0.8373989237483439, 0.8465606590657991, 0.8370167940897645, 0.861574539616891]}, {\"categories\": [\"0\", \"1\", \"2\", \"3\", \"4\", \"5\", \"6\", \"7\", \"8\", \"9\", \"10\", \"11\", \"12\", \"13\", \"14\", \"15\", \"16\", \"17\", \"18\", \"19\", \"20\"], \"mode\": \"lines\", \"name\": \"precision_score_weighted_max\", \"stepped\": true, \"type\": \"scatter\", \"data\": [0.8163141398625269, 0.8204478325316984, 0.8204478325316984, 0.8363985735783647, 0.8409979210064289, 0.8409979210064289, 0.8471851998269531, 0.8471851998269531, 0.8471851998269531, 0.8471851998269531, 0.8471851998269531, 0.8471851998269531, 0.8471851998269531, 0.8471851998269531, 0.8471851998269531, 0.8471851998269531, 0.8471851998269531, 0.8471851998269531, 0.8471851998269531, 0.8471851998269531, 0.861574539616891]}], \"average_precision_score_micro\": [{\"categories\": [\"0\", \"1\", \"2\", \"3\", \"4\", \"5\", \"6\", \"7\", \"8\", \"9\", \"10\", \"11\", \"12\", \"13\", \"14\", \"15\", \"16\", \"17\", \"18\", \"19\", \"20\"], \"mode\": \"markers\", \"name\": \"average_precision_score_micro\", \"stepped\": false, \"type\": \"scatter\", \"data\": [0.8807942906200612, 0.8907041408152917, 0.8916551254713886, 0.9108211487490522, 0.9145577763945898, 0.8711033721497682, 0.9108477047543178, 0.9055101051118621, 0.9061401893005845, 0.9045263242778294, 0.9063346389564282, 0.9157888842731671, 0.8810025555538626, 0.9090369037532604, 0.9120076172739082, 0.8860618084270901, 0.8881134530403623, 0.8961306913411565, 0.9029369711527068, 0.8989630461890613, 0.9119242632688405]}, {\"categories\": [\"0\", \"1\", \"2\", \"3\", \"4\", \"5\", \"6\", \"7\", \"8\", \"9\", \"10\", \"11\", \"12\", \"13\", \"14\", \"15\", \"16\", \"17\", \"18\", \"19\", \"20\"], \"mode\": \"lines\", \"name\": \"average_precision_score_micro_max\", \"stepped\": true, \"type\": \"scatter\", \"data\": [0.8807942906200612, 0.8907041408152917, 0.8916551254713886, 0.9108211487490522, 0.9145577763945898, 0.9145577763945898, 0.9145577763945898, 0.9145577763945898, 0.9145577763945898, 0.9145577763945898, 0.9145577763945898, 0.9157888842731671, 0.9157888842731671, 0.9157888842731671, 0.9157888842731671, 0.9157888842731671, 0.9157888842731671, 0.9157888842731671, 0.9157888842731671, 0.9157888842731671, 0.9157888842731671]}], \"AUC_micro\": [{\"categories\": [\"0\", \"1\", \"2\", \"3\", \"4\", \"5\", \"6\", \"7\", \"8\", \"9\", \"10\", \"11\", \"12\", \"13\", \"14\", \"15\", \"16\", \"17\", \"18\", \"19\", \"20\"], \"mode\": \"markers\", \"name\": \"AUC_micro\", \"stepped\": false, \"type\": \"scatter\", \"data\": [0.8790788530465949, 0.8849572204879177, 0.8896926812348248, 0.9070226615793733, 0.9113506763787722, 0.8655145681581686, 0.9090049716730257, 0.9008797548849576, 0.902576482830385, 0.9016874783211932, 0.902153196901376, 0.9119485489651982, 0.8804599375650364, 0.9070861371256791, 0.9098250664816743, 0.886703318302694, 0.8895886229621922, 0.893003006127876, 0.8994158862296219, 0.8975411030176901, 0.9100667129147879]}, {\"categories\": [\"0\", \"1\", \"2\", \"3\", \"4\", \"5\", \"6\", \"7\", \"8\", \"9\", \"10\", \"11\", \"12\", \"13\", \"14\", \"15\", \"16\", \"17\", \"18\", \"19\", \"20\"], \"mode\": \"lines\", \"name\": \"AUC_micro_max\", \"stepped\": true, \"type\": \"scatter\", \"data\": [0.8790788530465949, 0.8849572204879177, 0.8896926812348248, 0.9070226615793733, 0.9113506763787722, 0.9113506763787722, 0.9113506763787722, 0.9113506763787722, 0.9113506763787722, 0.9113506763787722, 0.9113506763787722, 0.9119485489651982, 0.9119485489651982, 0.9119485489651982, 0.9119485489651982, 0.9119485489651982, 0.9119485489651982, 0.9119485489651982, 0.9119485489651982, 0.9119485489651982, 0.9119485489651982]}], \"average_precision_score_weighted\": [{\"categories\": [\"0\", \"1\", \"2\", \"3\", \"4\", \"5\", \"6\", \"7\", \"8\", \"9\", \"10\", \"11\", \"12\", \"13\", \"14\", \"15\", \"16\", \"17\", \"18\", \"19\", \"20\"], \"mode\": \"markers\", \"name\": \"average_precision_score_weighted\", \"stepped\": false, \"type\": \"scatter\", \"data\": [0.8915745488665513, 0.8971724973051718, 0.8984542470365324, 0.9191088591173656, 0.9192371376688147, 0.8761683470116862, 0.9209670790185639, 0.9138144265475653, 0.9111405543398247, 0.9114119779089472, 0.9178936299346647, 0.9260578677136161, 0.8871755205830285, 0.9161248181337035, 0.9192679721350773, 0.8928549555119096, 0.8939414977279334, 0.904579212679858, 0.9116537102292286, 0.909355269438136, 0.9242984157836356]}, {\"categories\": [\"0\", \"1\", \"2\", \"3\", \"4\", \"5\", \"6\", \"7\", \"8\", \"9\", \"10\", \"11\", \"12\", \"13\", \"14\", \"15\", \"16\", \"17\", \"18\", \"19\", \"20\"], \"mode\": \"lines\", \"name\": \"average_precision_score_weighted_max\", \"stepped\": true, \"type\": \"scatter\", \"data\": [0.8915745488665513, 0.8971724973051718, 0.8984542470365324, 0.9191088591173656, 0.9192371376688147, 0.9192371376688147, 0.9209670790185639, 0.9209670790185639, 0.9209670790185639, 0.9209670790185639, 0.9209670790185639, 0.9260578677136161, 0.9260578677136161, 0.9260578677136161, 0.9260578677136161, 0.9260578677136161, 0.9260578677136161, 0.9260578677136161, 0.9260578677136161, 0.9260578677136161, 0.9260578677136161]}], \"recall_score_weighted\": [{\"categories\": [\"0\", \"1\", \"2\", \"3\", \"4\", \"5\", \"6\", \"7\", \"8\", \"9\", \"10\", \"11\", \"12\", \"13\", \"14\", \"15\", \"16\", \"17\", \"18\", \"19\", \"20\"], \"mode\": \"markers\", \"name\": \"recall_score_weighted\", \"stepped\": false, \"type\": \"scatter\", \"data\": [0.8082795698924731, 0.811290322580645, 0.8019354838709678, 0.8278494623655913, 0.8344086021505376, 0.7881720430107526, 0.8412903225806453, 0.837956989247312, 0.8311827956989248, 0.8312903225806452, 0.8246236559139785, 0.8315053763440862, 0.8178494623655915, 0.8212903225806454, 0.837956989247312, 0.8079569892473117, 0.8080645161290322, 0.8248387096774193, 0.8313978494623656, 0.8280645161290323, 0.8478494623655914]}, {\"categories\": [\"0\", \"1\", \"2\", \"3\", \"4\", \"5\", \"6\", \"7\", \"8\", \"9\", \"10\", \"11\", \"12\", \"13\", \"14\", \"15\", \"16\", \"17\", \"18\", \"19\", \"20\"], \"mode\": \"lines\", \"name\": \"recall_score_weighted_max\", \"stepped\": true, \"type\": \"scatter\", \"data\": [0.8082795698924731, 0.811290322580645, 0.811290322580645, 0.8278494623655913, 0.8344086021505376, 0.8344086021505376, 0.8412903225806453, 0.8412903225806453, 0.8412903225806453, 0.8412903225806453, 0.8412903225806453, 0.8412903225806453, 0.8412903225806453, 0.8412903225806453, 0.8412903225806453, 0.8412903225806453, 0.8412903225806453, 0.8412903225806453, 0.8412903225806453, 0.8412903225806453, 0.8478494623655914]}], \"f1_score_micro\": [{\"categories\": [\"0\", \"1\", \"2\", \"3\", \"4\", \"5\", \"6\", \"7\", \"8\", \"9\", \"10\", \"11\", \"12\", \"13\", \"14\", \"15\", \"16\", \"17\", \"18\", \"19\", \"20\"], \"mode\": \"markers\", \"name\": \"f1_score_micro\", \"stepped\": false, \"type\": \"scatter\", \"data\": [0.8082795698924731, 0.811290322580645, 0.8019354838709678, 0.8278494623655913, 0.8344086021505376, 0.7881720430107526, 0.8412903225806453, 0.837956989247312, 0.8311827956989248, 0.8312903225806452, 0.8246236559139785, 0.8315053763440862, 0.8178494623655915, 0.8212903225806454, 0.837956989247312, 0.8079569892473117, 0.8080645161290322, 0.8248387096774193, 0.8313978494623656, 0.8280645161290323, 0.8478494623655914]}, {\"categories\": [\"0\", \"1\", \"2\", \"3\", \"4\", \"5\", \"6\", \"7\", \"8\", \"9\", \"10\", \"11\", \"12\", \"13\", \"14\", \"15\", \"16\", \"17\", \"18\", \"19\", \"20\"], \"mode\": \"lines\", \"name\": \"f1_score_micro_max\", \"stepped\": true, \"type\": \"scatter\", \"data\": [0.8082795698924731, 0.811290322580645, 0.811290322580645, 0.8278494623655913, 0.8344086021505376, 0.8344086021505376, 0.8412903225806453, 0.8412903225806453, 0.8412903225806453, 0.8412903225806453, 0.8412903225806453, 0.8412903225806453, 0.8412903225806453, 0.8412903225806453, 0.8412903225806453, 0.8412903225806453, 0.8412903225806453, 0.8412903225806453, 0.8412903225806453, 0.8412903225806453, 0.8478494623655914]}], \"log_loss\": [{\"categories\": [\"0\", \"1\", \"2\", \"3\", \"4\", \"5\", \"6\", \"7\", \"8\", \"9\", \"10\", \"11\", \"12\", \"13\", \"14\", \"15\", \"16\", \"17\", \"18\", \"19\", \"20\"], \"mode\": \"markers\", \"name\": \"log_loss\", \"stepped\": false, \"type\": \"scatter\", \"data\": [0.5120134554194041, 0.44335576716506486, 0.42117698147164234, 0.41164383485587797, 0.38854767092313514, 0.46090484238955953, 0.39309421284785234, 0.43856877164602803, 0.41590898332741605, 0.4017182539555543, 0.4296301944843255, 0.4170148435961204, 0.4726429799710211, 0.38036990953359745, 0.38649683504514776, 0.4170743905559447, 0.4986628141967797, 0.47908247106498747, 0.40651592161326555, 0.40305155905662665, 0.3876161170171774]}, {\"categories\": [\"0\", \"1\", \"2\", \"3\", \"4\", \"5\", \"6\", \"7\", \"8\", \"9\", \"10\", \"11\", \"12\", \"13\", \"14\", \"15\", \"16\", \"17\", \"18\", \"19\", \"20\"], \"mode\": \"lines\", \"name\": \"log_loss_min\", \"stepped\": true, \"type\": \"scatter\", \"data\": [0.5120134554194041, 0.44335576716506486, 0.42117698147164234, 0.41164383485587797, 0.38854767092313514, 0.38854767092313514, 0.38854767092313514, 0.38854767092313514, 0.38854767092313514, 0.38854767092313514, 0.38854767092313514, 0.38854767092313514, 0.38854767092313514, 0.38036990953359745, 0.38036990953359745, 0.38036990953359745, 0.38036990953359745, 0.38036990953359745, 0.38036990953359745, 0.38036990953359745, 0.38036990953359745]}], \"weighted_accuracy\": [{\"categories\": [\"0\", \"1\", \"2\", \"3\", \"4\", \"5\", \"6\", \"7\", \"8\", \"9\", \"10\", \"11\", \"12\", \"13\", \"14\", \"15\", \"16\", \"17\", \"18\", \"19\", \"20\"], \"mode\": \"markers\", \"name\": \"weighted_accuracy\", \"stepped\": false, \"type\": \"scatter\", \"data\": [0.8118648739105845, 0.8150704154047188, 0.8097548569866166, 0.8304510061269564, 0.8385961682075601, 0.7952272564220699, 0.8432121580857317, 0.8422986624004517, 0.8359976806604843, 0.8341473982680154, 0.8276210191091454, 0.8362322130152251, 0.820938165383755, 0.8212223218628344, 0.8398532901210544, 0.8112868118954738, 0.8105607921288979, 0.8299920033422721, 0.8356320414523211, 0.833140338336561, 0.8510501194095884]}, {\"categories\": [\"0\", \"1\", \"2\", \"3\", \"4\", \"5\", \"6\", \"7\", \"8\", \"9\", \"10\", \"11\", \"12\", \"13\", \"14\", \"15\", \"16\", \"17\", \"18\", \"19\", \"20\"], \"mode\": \"lines\", \"name\": \"weighted_accuracy_max\", \"stepped\": true, \"type\": \"scatter\", \"data\": [0.8118648739105845, 0.8150704154047188, 0.8150704154047188, 0.8304510061269564, 0.8385961682075601, 0.8385961682075601, 0.8432121580857317, 0.8432121580857317, 0.8432121580857317, 0.8432121580857317, 0.8432121580857317, 0.8432121580857317, 0.8432121580857317, 0.8432121580857317, 0.8432121580857317, 0.8432121580857317, 0.8432121580857317, 0.8432121580857317, 0.8432121580857317, 0.8432121580857317, 0.8510501194095884]}], \"average_precision_score_macro\": [{\"categories\": [\"0\", \"1\", \"2\", \"3\", \"4\", \"5\", \"6\", \"7\", \"8\", \"9\", \"10\", \"11\", \"12\", \"13\", \"14\", \"15\", \"16\", \"17\", \"18\", \"19\", \"20\"], \"mode\": \"markers\", \"name\": \"average_precision_score_macro\", \"stepped\": false, \"type\": \"scatter\", \"data\": [0.8861054259900077, 0.8925372994430087, 0.8946017714803813, 0.9152744701532317, 0.9160971700052405, 0.8717274269414247, 0.9178867911019273, 0.910297994573028, 0.9076111297622909, 0.9078673716472492, 0.9144009687007237, 0.9231007123471298, 0.8840736620261895, 0.9126298408959421, 0.9158913422584132, 0.8897775513578443, 0.8897701171766771, 0.9008612099002722, 0.9080415510118861, 0.9058150426886666, 0.9213031803089606]}, {\"categories\": [\"0\", \"1\", \"2\", \"3\", \"4\", \"5\", \"6\", \"7\", \"8\", \"9\", \"10\", \"11\", \"12\", \"13\", \"14\", \"15\", \"16\", \"17\", \"18\", \"19\", \"20\"], \"mode\": \"lines\", \"name\": \"average_precision_score_macro_max\", \"stepped\": true, \"type\": \"scatter\", \"data\": [0.8861054259900077, 0.8925372994430087, 0.8946017714803813, 0.9152744701532317, 0.9160971700052405, 0.9160971700052405, 0.9178867911019273, 0.9178867911019273, 0.9178867911019273, 0.9178867911019273, 0.9178867911019273, 0.9231007123471298, 0.9231007123471298, 0.9231007123471298, 0.9231007123471298, 0.9231007123471298, 0.9231007123471298, 0.9231007123471298, 0.9231007123471298, 0.9231007123471298, 0.9231007123471298]}]}, \"metricName\": null, \"primaryMetricName\": \"accuracy\", \"showLegend\": false}, \"run_metrics\": [{\"name\": \"experiment_status\", \"run_id\": \"AutoML_d6eaef32-fdf6-4080-9c34-836678695540\", \"categories\": [0, 1, 2, 3, 4, 5], \"series\": [{\"data\": [\"DatasetEvaluation\", \"FeaturesGeneration\", \"DatasetFeaturization\", \"DatasetFeaturizationCompleted\", \"DatasetCrossValidationSplit\", \"ModelSelection\"]}]}, {\"name\": \"experiment_status_description\", \"run_id\": \"AutoML_d6eaef32-fdf6-4080-9c34-836678695540\", \"categories\": [0, 1, 2, 3, 4, 5], \"series\": [{\"data\": [\"Gathering dataset statistics.\", \"Generating features for the dataset.\", \"Beginning to fit featurizers and featurize the dataset.\", \"Completed fit featurizers and featurizing the dataset.\", \"Generating individually featurized CV splits.\", \"Beginning model selection.\"]}]}, {\"name\": \"precision_score_weighted\", \"run_id\": \"AutoML_d6eaef32-fdf6-4080-9c34-836678695540\", \"categories\": [0], \"series\": [{\"data\": [0.861574539616891]}]}, {\"name\": \"matthews_correlation\", \"run_id\": \"AutoML_d6eaef32-fdf6-4080-9c34-836678695540\", \"categories\": [0], \"series\": [{\"data\": [0.7008611129835074]}]}, {\"name\": \"balanced_accuracy\", \"run_id\": \"AutoML_d6eaef32-fdf6-4080-9c34-836678695540\", \"categories\": [0], \"series\": [{\"data\": [0.8442349738324971]}]}, {\"name\": \"precision_score_micro\", \"run_id\": \"AutoML_d6eaef32-fdf6-4080-9c34-836678695540\", \"categories\": [0], \"series\": [{\"data\": [0.8478494623655914]}]}, {\"name\": \"log_loss\", \"run_id\": \"AutoML_d6eaef32-fdf6-4080-9c34-836678695540\", \"categories\": [0], \"series\": [{\"data\": [0.3876161170171774]}]}, {\"name\": \"average_precision_score_weighted\", \"run_id\": \"AutoML_d6eaef32-fdf6-4080-9c34-836678695540\", \"categories\": [0], \"series\": [{\"data\": [0.9242984157836356]}]}, {\"name\": \"accuracy\", \"run_id\": \"AutoML_d6eaef32-fdf6-4080-9c34-836678695540\", \"categories\": [0], \"series\": [{\"data\": [0.8478494623655914]}]}, {\"name\": \"f1_score_micro\", \"run_id\": \"AutoML_d6eaef32-fdf6-4080-9c34-836678695540\", \"categories\": [0], \"series\": [{\"data\": [0.8478494623655914]}]}, {\"name\": \"weighted_accuracy\", \"run_id\": \"AutoML_d6eaef32-fdf6-4080-9c34-836678695540\", \"categories\": [0], \"series\": [{\"data\": [0.8510501194095884]}]}, {\"name\": \"AUC_weighted\", \"run_id\": \"AutoML_d6eaef32-fdf6-4080-9c34-836678695540\", \"categories\": [0], \"series\": [{\"data\": [0.9178319452019142]}]}, {\"name\": \"f1_score_macro\", \"run_id\": \"AutoML_d6eaef32-fdf6-4080-9c34-836678695540\", \"categories\": [0], \"series\": [{\"data\": [0.8409121147035684]}]}, {\"name\": \"AUC_macro\", \"run_id\": \"AutoML_d6eaef32-fdf6-4080-9c34-836678695540\", \"categories\": [0], \"series\": [{\"data\": [0.9178319452019142]}]}, {\"name\": \"average_precision_score_macro\", \"run_id\": \"AutoML_d6eaef32-fdf6-4080-9c34-836678695540\", \"categories\": [0], \"series\": [{\"data\": [0.9213031803089606]}]}, {\"name\": \"AUC_micro\", \"run_id\": \"AutoML_d6eaef32-fdf6-4080-9c34-836678695540\", \"categories\": [0], \"series\": [{\"data\": [0.9100667129147879]}]}, {\"name\": \"recall_score_macro\", \"run_id\": \"AutoML_d6eaef32-fdf6-4080-9c34-836678695540\", \"categories\": [0], \"series\": [{\"data\": [0.8442349738324971]}]}, {\"name\": \"recall_score_weighted\", \"run_id\": \"AutoML_d6eaef32-fdf6-4080-9c34-836678695540\", \"categories\": [0], \"series\": [{\"data\": [0.8478494623655914]}]}, {\"name\": \"norm_macro_recall\", \"run_id\": \"AutoML_d6eaef32-fdf6-4080-9c34-836678695540\", \"categories\": [0], \"series\": [{\"data\": [0.688469947664994]}]}, {\"name\": \"average_precision_score_micro\", \"run_id\": \"AutoML_d6eaef32-fdf6-4080-9c34-836678695540\", \"categories\": [0], \"series\": [{\"data\": [0.9119242632688405]}]}, {\"name\": \"precision_score_macro\", \"run_id\": \"AutoML_d6eaef32-fdf6-4080-9c34-836678695540\", \"categories\": [0], \"series\": [{\"data\": [0.8572296778803373]}]}, {\"name\": \"f1_score_weighted\", \"run_id\": \"AutoML_d6eaef32-fdf6-4080-9c34-836678695540\", \"categories\": [0], \"series\": [{\"data\": [0.8453171943208929]}]}, {\"name\": \"recall_score_micro\", \"run_id\": \"AutoML_d6eaef32-fdf6-4080-9c34-836678695540\", \"categories\": [0], \"series\": [{\"data\": [0.8478494623655914]}]}], \"run_logs\": \"\\nRun is completed.\", \"graph\": {}, \"widget_settings\": {\"childWidgetDisplay\": \"popup\", \"send_telemetry\": false, \"log_level\": \"INFO\", \"sdk_version\": \"1.19.0\"}, \"loading\": false}"
     },
     "metadata": {},
     "output_type": "display_data"
    }
   ],
   "source": [
    "from azureml.widgets import RunDetails\n",
    "\n",
    "RunDetails(remote_run).show()"
   ]
  },
  {
   "cell_type": "markdown",
   "metadata": {},
   "source": [
    "## Best Model\n",
    "\n",
    "TODO: In the cell below, get the best model from the automl experiments and display all the properties of the model.\n",
    "\n"
   ]
  },
  {
   "cell_type": "code",
   "execution_count": 8,
   "metadata": {
    "gather": {
     "logged": 1598431425670
    },
    "jupyter": {
     "outputs_hidden": false,
     "source_hidden": false
    },
    "nteract": {
     "transient": {
      "deleting": false
     }
    }
   },
   "outputs": [
    {
     "name": "stdout",
     "output_type": "stream",
     "text": [
      "Run(Experiment: mlexpauto,\n",
      "Id: AutoML_d6eaef32-fdf6-4080-9c34-836678695540_20,\n",
      "Type: azureml.scriptrun,\n",
      "Status: Completed)\n"
     ]
    }
   ],
   "source": [
    "best_run_aml, fitted_model_aml = remote_run.get_output()\n",
    "model_name = best_run_aml.properties['model_name']\n",
    "print(best_run_aml)"
   ]
  },
  {
   "cell_type": "code",
   "execution_count": 9,
   "metadata": {},
   "outputs": [
    {
     "name": "stdout",
     "output_type": "stream",
     "text": [
      "PreFittedSoftVotingClassifier(classification_labels=None,\n",
      "                              estimators=[('6',\n",
      "                                           Pipeline(memory=None,\n",
      "                                                    steps=[('maxabsscaler',\n",
      "                                                            MaxAbsScaler(copy=True)),\n",
      "                                                           ('gradientboostingclassifier',\n",
      "                                                            GradientBoostingClassifier(ccp_alpha=0.0,\n",
      "                                                                                       criterion='friedman_mse',\n",
      "                                                                                       init=None,\n",
      "                                                                                       learning_rate=0.046415888336127774,\n",
      "                                                                                       loss='deviance',\n",
      "                                                                                       max_depth=4,\n",
      "                                                                                       max_features=0.4,\n",
      "                                                                                       max_leaf_nodes=None,\n",
      "                                                                                       m...\n",
      "                                                                               dual=False,\n",
      "                                                                               fit_intercept=True,\n",
      "                                                                               intercept_scaling=1,\n",
      "                                                                               l1_ratio=None,\n",
      "                                                                               max_iter=100,\n",
      "                                                                               multi_class='ovr',\n",
      "                                                                               n_jobs=1,\n",
      "                                                                               penalty='l1',\n",
      "                                                                               random_state=None,\n",
      "                                                                               solver='saga',\n",
      "                                                                               tol=0.0001,\n",
      "                                                                               verbose=0,\n",
      "                                                                               warm_start=False))],\n",
      "                                                    verbose=False))],\n",
      "                              flatten_transform=None,\n",
      "                              weights=[0.14285714285714285, 0.14285714285714285,\n",
      "                                       0.14285714285714285, 0.14285714285714285,\n",
      "                                       0.14285714285714285,\n",
      "                                       0.2857142857142857])\n"
     ]
    }
   ],
   "source": [
    "print(fitted_model_aml[-1])"
   ]
  },
  {
   "cell_type": "code",
   "execution_count": 10,
   "metadata": {
    "gather": {
     "logged": 1598431426111
    },
    "jupyter": {
     "outputs_hidden": false,
     "source_hidden": false
    },
    "nteract": {
     "transient": {
      "deleting": false
     }
    }
   },
   "outputs": [],
   "source": [
    "#TODO: Save the best model\n",
    "best_run_aml.download_file('outputs/model.pkl', 'outputs/heart-diesease-auto-model.pkl')\n",
    "best_run_aml.download_file('outputs/scoring_file_v_1_0_0.py', 'outputs/score_aml.py')\n",
    "best_run_aml.download_file('automl_driver.py', 'outputs/automl_driver.py')"
   ]
  },
  {
   "cell_type": "markdown",
   "metadata": {},
   "source": [
    "## Auto ML Evaluation"
   ]
  },
  {
   "cell_type": "code",
   "execution_count": 11,
   "metadata": {},
   "outputs": [],
   "source": [
    "import pickle\n",
    "file = open(\"./heart-diesease-auto-model.pkl\",'rb')\n",
    "aml_model = pickle.load(file)\n",
    "file.close()"
   ]
  },
  {
   "cell_type": "code",
   "execution_count": 12,
   "metadata": {},
   "outputs": [
    {
     "name": "stdout",
     "output_type": "stream",
     "text": [
      "0.933993399339934\n"
     ]
    }
   ],
   "source": [
    "from sklearn.metrics import accuracy_score\n",
    "import pandas as pd\n",
    "\n",
    "\n",
    "factory = TabularDatasetFactory()\n",
    "test_data_path = \"https://raw.githubusercontent.com/KrishnaB22/Azure-ML-Capstone/main/dataset/heart.csv\"\n",
    "test_ds = pd.read_csv(test_data_path)\n",
    "y_test = test_ds[['target']]\n",
    "print(accuracy_score(aml_model.predict(test_ds.drop(columns=['target'])), y_test))"
   ]
  },
  {
   "cell_type": "code",
   "execution_count": 13,
   "metadata": {},
   "outputs": [
    {
     "name": "stdout",
     "output_type": "stream",
     "text": [
      "              precision    recall  f1-score   support\n",
      "\n",
      "           0       0.95      0.90      0.93       138\n",
      "           1       0.92      0.96      0.94       165\n",
      "\n",
      "    accuracy                           0.93       303\n",
      "   macro avg       0.94      0.93      0.93       303\n",
      "weighted avg       0.93      0.93      0.93       303\n",
      "\n"
     ]
    }
   ],
   "source": [
    "from sklearn.metrics import classification_report\n",
    "print(classification_report(y_test, aml_model.predict(test_ds.drop(columns=['target']))))"
   ]
  },
  {
   "cell_type": "markdown",
   "metadata": {},
   "source": [
    "### The AutoML model has an acccuracy of 93%."
   ]
  },
  {
   "cell_type": "markdown",
   "metadata": {},
   "source": [
    "### As the AutoML model has higher accuracy we deploy the AutoML model "
   ]
  },
  {
   "cell_type": "markdown",
   "metadata": {},
   "source": [
    "## Model Deployment\n",
    "\n",
    "Remember you have to deploy only one of the two models you trained.. Perform the steps in the rest of this notebook only if you wish to deploy this model.\n",
    "\n",
    "TODO: In the cell below, register the model, create an inference config and deploy the model as a web service."
   ]
  },
  {
   "cell_type": "code",
   "execution_count": 6,
   "metadata": {},
   "outputs": [
    {
     "name": "stdout",
     "output_type": "stream",
     "text": [
      "Registering model automl_cap\n"
     ]
    }
   ],
   "source": [
    "from azureml.core.model import Model\n",
    "\n",
    "model = Model.register(workspace = ws,\n",
    "                        model_path =\"heart-diesease-auto-model.pkl\",\n",
    "                        model_name = \"automl_cap\")"
   ]
  },
  {
   "cell_type": "code",
   "execution_count": 7,
   "metadata": {},
   "outputs": [
    {
     "name": "stdout",
     "output_type": "stream",
     "text": [
      "automl_cap\n"
     ]
    }
   ],
   "source": [
    "print(model.name)"
   ]
  },
  {
   "cell_type": "markdown",
   "metadata": {},
   "source": [
    "### Inference configuration"
   ]
  },
  {
   "cell_type": "code",
   "execution_count": 37,
   "metadata": {
    "gather": {
     "logged": 1598431435189
    },
    "jupyter": {
     "outputs_hidden": false,
     "source_hidden": false
    },
    "nteract": {
     "transient": {
      "deleting": false
     }
    }
   },
   "outputs": [],
   "source": [
    "from azureml.core.environment import Environment\n",
    "from azureml.core.model import InferenceConfig\n",
    "\n",
    "\n",
    "env = Environment.from_conda_specification(name='myenv',file_path = 'env.yml')\n",
    "\n",
    "# for pip_package in [\"scikit-learn\", \"py-xgboost\", \"xgboost\"]:\n",
    "#     env.python.conda_dependencies.add_pip_package(pip_package)\n",
    "\n",
    "# env.python.conda_dependencies(\"xgboost\")\n",
    "\n",
    "inference_config = InferenceConfig(entry_script='./score.py',\n",
    "                                    environment=env)"
   ]
  },
  {
   "cell_type": "code",
   "execution_count": 38,
   "metadata": {},
   "outputs": [
    {
     "name": "stdout",
     "output_type": "stream",
     "text": [
      "packages channels:\n",
      "- anaconda\n",
      "- conda-forge\n",
      "dependencies:\n",
      "- pip\n",
      "- python=3.6.2\n",
      "- pip:\n",
      "  - azureml-core==1.19.0\n",
      "  - azureml-defaults==1.19.0\n",
      "  - azureml-telemetry==1.19.0\n",
      "  - azureml-train-core==1.19.0\n",
      "  - azureml-widgets==1.19.0\n",
      "  - azureml-sdk==1.19.0\n",
      "  - azureml-train-automl-runtime==1.19.0\n",
      "  - azureml-automl-runtime==1.19.0\n",
      "  - mlflow\n",
      "  - sklearn-pandas\n",
      "- pandas\n",
      "- numpy\n",
      "- tqdm\n",
      "- py-xgboost\n",
      "- joblib\n",
      "- xgboost\n",
      "- scikit-learn==0.22.1\n",
      "- matplotlib\n",
      "name: azureml_a1736710baabf05d37337a101fa8d6d1\n",
      "\n"
     ]
    }
   ],
   "source": [
    "f = open(\"envnew.yml\", \"w\")\n",
    "f.write(env.python.conda_dependencies.serialize_to_string())\n",
    "f.close()\n",
    "\n",
    "print(\"packages\", env.python.conda_dependencies.serialize_to_string())"
   ]
  },
  {
   "cell_type": "code",
   "execution_count": 39,
   "metadata": {},
   "outputs": [
    {
     "name": "stdout",
     "output_type": "stream",
     "text": [
      "Tips: You can try get_logs(): https://aka.ms/debugimage#dockerlog or local deployment: https://aka.ms/debugimage#debug-locally to debug if deployment takes longer than 10 minutes.\n",
      "Running............................................................................................................................................................................................\n",
      "Succeeded\n",
      "ACI service creation operation finished, operation \"Succeeded\"\n",
      "Healthy\n"
     ]
    }
   ],
   "source": [
    "from azureml.core.webservice import AciWebservice,Webservice\n",
    "from azureml.core.model import Model\n",
    "\n",
    "deployment_config = AciWebservice.deploy_configuration(cpu_cores = 1, memory_gb = 1,enable_app_insights = True)\n",
    "service = Model.deploy(ws, \"deploy2\", [model], inference_config, deployment_config)\n",
    "service.wait_for_deployment(show_output = True)\n",
    "print(service.state)"
   ]
  },
  {
   "cell_type": "code",
   "execution_count": 40,
   "metadata": {},
   "outputs": [
    {
     "name": "stdout",
     "output_type": "stream",
     "text": [
      "2020-12-31T06:25:01,541872900+00:00 - iot-server/run \n",
      "2020-12-31T06:25:01,549404500+00:00 - rsyslog/run \n",
      "2020-12-31T06:25:01,550848500+00:00 - gunicorn/run \n",
      "2020-12-31T06:25:01,577024700+00:00 - nginx/run \n",
      "/usr/sbin/nginx: /azureml-envs/azureml_78b912a296061c9d6178810a04b724e8/lib/libcrypto.so.1.0.0: no version information available (required by /usr/sbin/nginx)\n",
      "/usr/sbin/nginx: /azureml-envs/azureml_78b912a296061c9d6178810a04b724e8/lib/libcrypto.so.1.0.0: no version information available (required by /usr/sbin/nginx)\n",
      "/usr/sbin/nginx: /azureml-envs/azureml_78b912a296061c9d6178810a04b724e8/lib/libssl.so.1.0.0: no version information available (required by /usr/sbin/nginx)\n",
      "/usr/sbin/nginx: /azureml-envs/azureml_78b912a296061c9d6178810a04b724e8/lib/libssl.so.1.0.0: no version information available (required by /usr/sbin/nginx)\n",
      "/usr/sbin/nginx: /azureml-envs/azureml_78b912a296061c9d6178810a04b724e8/lib/libssl.so.1.0.0: no version information available (required by /usr/sbin/nginx)\n",
      "rsyslogd: /azureml-envs/azureml_78b912a296061c9d6178810a04b724e8/lib/libuuid.so.1: no version information available (required by rsyslogd)\n",
      "EdgeHubConnectionString and IOTEDGE_IOTHUBHOSTNAME are not set. Exiting...\n",
      "2020-12-31T06:25:03,823316300+00:00 - iot-server/finish 1 0\n",
      "2020-12-31T06:25:03,852474400+00:00 - Exit code 1 is normal. Not restarting iot-server.\n",
      "Starting gunicorn 19.9.0\n",
      "Listening at: http://127.0.0.1:31311 (69)\n",
      "Using worker: sync\n",
      "worker timeout is set to 300\n",
      "Booting worker with pid: 99\n",
      "SPARK_HOME not set. Skipping PySpark Initialization.\n",
      "Generating new fontManager, this may take some time...\n",
      "Initializing logger\n",
      "2020-12-31 06:25:09,279 | root | INFO | Starting up app insights client\n",
      "Starting up app insights client\n",
      "2020-12-31 06:25:09,281 | root | INFO | Starting up request id generator\n",
      "Starting up request id generator\n",
      "2020-12-31 06:25:09,282 | root | INFO | Starting up app insight hooks\n",
      "Starting up app insight hooks\n",
      "2020-12-31 06:25:09,284 | root | INFO | Invoking user's init function\n",
      "Invoking user's init function\n",
      "2020-12-31 06:25:19,528 | root | INFO | Users's init has completed successfully\n",
      "Users's init has completed successfully\n",
      "2020-12-31 06:25:19,533 | root | INFO | Skipping middleware: dbg_model_info as it's not enabled.\n",
      "Skipping middleware: dbg_model_info as it's not enabled.\n",
      "2020-12-31 06:25:19,534 | root | INFO | Skipping middleware: dbg_resource_usage as it's not enabled.\n",
      "Skipping middleware: dbg_resource_usage as it's not enabled.\n",
      "2020-12-31 06:25:19,535 | root | INFO | Scoring timeout is found from os.environ: 60000 ms\n",
      "Scoring timeout is found from os.environ: 60000 ms\n",
      "2020-12-31 06:25:19,587 | root | INFO | Swagger file not present\n",
      "Swagger file not present\n",
      "2020-12-31 06:25:19,588 | root | INFO | 404\n",
      "404\n",
      "127.0.0.1 - - [31/Dec/2020:06:25:19 +0000] \"GET /swagger.json HTTP/1.0\" 404 19 \"-\" \"Go-http-client/1.1\"\n",
      "2020-12-31 06:25:25,832 | root | INFO | Swagger file not present\n",
      "Swagger file not present\n",
      "2020-12-31 06:25:25,832 | root | INFO | 404\n",
      "404\n",
      "127.0.0.1 - - [31/Dec/2020:06:25:25 +0000] \"GET /swagger.json HTTP/1.0\" 404 19 \"-\" \"Go-http-client/1.1\"\n",
      "\n"
     ]
    }
   ],
   "source": [
    "logs = service.get_logs()\n",
    "for line in logs.split('\\n'):\n",
    "    print(line)"
   ]
  },
  {
   "cell_type": "markdown",
   "metadata": {
    "collapsed": true,
    "gather": {
     "logged": 1598431657736
    },
    "jupyter": {
     "outputs_hidden": false,
     "source_hidden": false
    },
    "nteract": {
     "transient": {
      "deleting": false
     }
    }
   },
   "source": [
    "TODO: In the cell below, send a request to the web service you deployed to test it."
   ]
  },
  {
   "cell_type": "code",
   "execution_count": 45,
   "metadata": {
    "gather": {
     "logged": 1598432707604
    },
    "jupyter": {
     "outputs_hidden": false,
     "source_hidden": false
    },
    "nteract": {
     "transient": {
      "deleting": false
     }
    }
   },
   "outputs": [
    {
     "name": "stdout",
     "output_type": "stream",
     "text": [
      "[1, 1, 1]\n"
     ]
    }
   ],
   "source": [
    "import json\n",
    "\n",
    "test_ds1 = test_ds.drop('target',axis=1)\n",
    "data= ({'data':test_ds1[0:3].to_dict(orient='records'),'method':'predict'})\n",
    "test_sample=json.dumps(data)\n",
    "#test_sampole = json.dumps({'data': test_ds[0:2].tolist(),'method': 'predict'})\n",
    "output= service.run(test_sample)\n",
    "print(output)"
   ]
  },
  {
   "cell_type": "code",
   "execution_count": 42,
   "metadata": {},
   "outputs": [
    {
     "name": "stdout",
     "output_type": "stream",
     "text": [
      "[1]\n"
     ]
    }
   ],
   "source": [
    "data = {\"data\":\n",
    "        [\n",
    "          {\n",
    "            \"age\": 63,\n",
    "            \"sex\": 1,\n",
    "            \"cp\": 3,\n",
    "            \"trestbps\": 145,\n",
    "            \"chol\": 233,\n",
    "            \"fbs\": 1,\n",
    "            \"restecg\": 0,\n",
    "            \"thalach\": 150,\n",
    "            \"exang\": 0,\n",
    "            \"oldpeak\": 2.3,\n",
    "            \"slope\": 0,\n",
    "            \"ca\": 0,\n",
    "            \"thal\": 1,\n",
    "          }\n",
    "      ]}#,'method':'predict'}\n",
    "test_sample = json.dumps(data)\n",
    "output= service.run(test_sample)\n",
    "print(output)"
   ]
  },
  {
   "cell_type": "code",
   "execution_count": 46,
   "metadata": {},
   "outputs": [
    {
     "name": "stdout",
     "output_type": "stream",
     "text": [
      "[1]\n"
     ]
    }
   ],
   "source": [
    "import requests\n",
    "scoring_uri='http://212f2021-c0d2-494a-b284-426d0a8b6722.southcentralus.azurecontainer.io/score'\n",
    "key=''\n",
    "headers = {'Content-Type': 'application/json'}\n",
    "# If authentication is enabled, set the authorization header\n",
    "#headers['Authorization'] = f'Bearer {key}'\n",
    "data = {\"data\":\n",
    "        [\n",
    "          {\n",
    "            \"age\": 63,\n",
    "            \"sex\": 1,\n",
    "            \"cp\": 3,\n",
    "            \"trestbps\": 145,\n",
    "            \"chol\": 233,\n",
    "            \"fbs\": 1,\n",
    "            \"restecg\": 0,\n",
    "            \"thalach\": 150,\n",
    "            \"exang\": 0,\n",
    "            \"oldpeak\": 2.3,\n",
    "            \"slope\": 0,\n",
    "            \"ca\": 0,\n",
    "            \"thal\": 1,\n",
    "          }\n",
    "      ]\n",
    "    }\n",
    "test_sample = json.dumps(data)\n",
    "\n",
    "\n",
    "resp = requests.post(scoring_uri, test_sample, headers=headers)\n",
    "print(resp.json())"
   ]
  },
  {
   "cell_type": "markdown",
   "metadata": {
    "collapsed": true,
    "gather": {
     "logged": 1598432765711
    },
    "jupyter": {
     "outputs_hidden": false,
     "source_hidden": false
    },
    "nteract": {
     "transient": {
      "deleting": false
     }
    }
   },
   "source": [
    "TODO: In the cell below, print the logs of the web service and delete the service"
   ]
  },
  {
   "cell_type": "code",
   "execution_count": 47,
   "metadata": {
    "jupyter": {
     "outputs_hidden": false,
     "source_hidden": false
    },
    "nteract": {
     "transient": {
      "deleting": false
     }
    }
   },
   "outputs": [
    {
     "name": "stdout",
     "output_type": "stream",
     "text": [
      "service deleted\n"
     ]
    }
   ],
   "source": [
    "service.delete()\n",
    "print(\"service deleted\")"
   ]
  },
  {
   "cell_type": "code",
   "execution_count": 48,
   "metadata": {},
   "outputs": [
    {
     "name": "stdout",
     "output_type": "stream",
     "text": [
      "compute deleted\n"
     ]
    }
   ],
   "source": [
    "aml_compute.delete()\n",
    "print(\"compute deleted\")"
   ]
  },
  {
   "cell_type": "code",
   "execution_count": null,
   "metadata": {},
   "outputs": [],
   "source": []
  }
 ],
 "metadata": {
  "kernel_info": {
   "name": "python3"
  },
  "kernelspec": {
   "display_name": "Python 3",
   "language": "python",
   "name": "python3"
  },
  "language_info": {
   "codemirror_mode": {
    "name": "ipython",
    "version": 3
   },
   "file_extension": ".py",
   "mimetype": "text/x-python",
   "name": "python",
   "nbconvert_exporter": "python",
   "pygments_lexer": "ipython3",
   "version": "3.6.9"
  },
  "nteract": {
   "version": "nteract-front-end@1.0.0"
  },
  "toc": {
   "base_numbering": 1,
   "nav_menu": {},
   "number_sections": true,
   "sideBar": true,
   "skip_h1_title": false,
   "title_cell": "Table of Contents",
   "title_sidebar": "Contents",
   "toc_cell": false,
   "toc_position": {},
   "toc_section_display": true,
   "toc_window_display": false
  }
 },
 "nbformat": 4,
 "nbformat_minor": 2
}
